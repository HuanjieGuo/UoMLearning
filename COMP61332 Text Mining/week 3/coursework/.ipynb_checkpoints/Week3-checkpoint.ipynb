{
 "cells": [
  {
   "cell_type": "markdown",
   "metadata": {
    "id": "aVGdFb3CHfXG"
   },
   "source": [
    "#Week3: Distributional Semantics and Word Embeddings\n",
    "##COMP61332: Text Mining, Department of Computer Science, University of Manchester \n",
    "\n",
    "\n"
   ]
  },
  {
   "cell_type": "markdown",
   "metadata": {
    "id": "yINCYXyiGt7o"
   },
   "source": [
    "## 1. Word2vec: Training word vectors and extracting a thesaurus \n",
    "\n",
    "In this exercise, you will extract a small biomedical thesaurus using word2vec, a context predicting distributional semantic model. For this work, you can run the script using Google Colaboratory or your Linux account on the school machines.\n"
   ]
  },
  {
   "cell_type": "markdown",
   "metadata": {
    "id": "74H2cFHkGwTZ"
   },
   "source": [
    "### Step 1: Installation"
   ]
  },
  {
   "cell_type": "code",
   "execution_count": 1,
   "metadata": {
    "colab": {
     "base_uri": "https://localhost:8080/"
    },
    "id": "bgvX9ycjGQWF",
    "outputId": "5c6e93b7-e281-4360-a522-1e905e411d91"
   },
   "outputs": [
    {
     "name": "stdout",
     "output_type": "stream",
     "text": [
      "Collecting gensim\n",
      "  Downloading gensim-3.8.3-cp38-cp38-macosx_10_9_x86_64.whl (24.2 MB)\n",
      "\u001b[K     |████████████████████████████████| 24.2 MB 4.2 MB/s eta 0:00:01\n",
      "\u001b[?25hRequirement already satisfied: smart-open>=1.8.1 in /opt/anaconda3/lib/python3.8/site-packages (from gensim) (3.0.0)\n",
      "Requirement already satisfied: six>=1.5.0 in /opt/anaconda3/lib/python3.8/site-packages (from gensim) (1.15.0)\n",
      "Requirement already satisfied: scipy>=0.18.1 in /opt/anaconda3/lib/python3.8/site-packages (from gensim) (1.5.0)\n",
      "Requirement already satisfied: numpy>=1.11.3 in /opt/anaconda3/lib/python3.8/site-packages (from gensim) (1.18.5)\n",
      "Requirement already satisfied: requests in /opt/anaconda3/lib/python3.8/site-packages (from smart-open>=1.8.1->gensim) (2.24.0)\n",
      "Requirement already satisfied: idna<3,>=2.5 in /opt/anaconda3/lib/python3.8/site-packages (from requests->smart-open>=1.8.1->gensim) (2.10)\n",
      "Requirement already satisfied: urllib3!=1.25.0,!=1.25.1,<1.26,>=1.21.1 in /opt/anaconda3/lib/python3.8/site-packages (from requests->smart-open>=1.8.1->gensim) (1.25.9)\n",
      "Requirement already satisfied: chardet<4,>=3.0.2 in /opt/anaconda3/lib/python3.8/site-packages (from requests->smart-open>=1.8.1->gensim) (3.0.4)\n",
      "Requirement already satisfied: certifi>=2017.4.17 in /opt/anaconda3/lib/python3.8/site-packages (from requests->smart-open>=1.8.1->gensim) (2020.6.20)\n",
      "Installing collected packages: gensim\n",
      "Successfully installed gensim-3.8.3\n"
     ]
    }
   ],
   "source": [
    "!pip install gensim"
   ]
  },
  {
   "cell_type": "markdown",
   "metadata": {
    "id": "nqUtezPRHfXb"
   },
   "source": [
    "### Step 2: Corpus preparation\n"
   ]
  },
  {
   "cell_type": "code",
   "execution_count": 2,
   "metadata": {
    "colab": {
     "base_uri": "https://localhost:8080/"
    },
    "id": "gmwToX46HfXc",
    "outputId": "0bd79ac3-0f70-4aed-9c74-36c5f15b3601"
   },
   "outputs": [
    {
     "name": "stdout",
     "output_type": "stream",
     "text": [
      "  % Total    % Received % Xferd  Average Speed   Time    Time     Time  Current\n",
      "                                 Dload  Upload   Total   Spent    Left  Speed\n",
      "100 3408k  100 3408k    0     0  13.3M      0 --:--:-- --:--:-- --:--:-- 13.3M\n",
      "a2d per i , od3 births , and in the central provinces reached 440 , and in the straits settlements they averaged 330 . in fiji they furnished 35 per cent . of the total deaths and in lagos and freetown , sierra leone , between 35 and 40 per cent . , while those of children from i to 5 years of age contributed also 35 per cent . of those of all ages . in british gaiana racial differences were conspicuous in the first year ; for example , in 1894 , the rate per i , ooo births was 205 among the negroes , 184 among europeans , and 155 only among indians . then in - quiries of 470 negro women who had borne about i , 500 children showed that 4.91 per cent . died in the first week , probably from deficient vitality , to which must be ascribed the 20.4 per cent . of stillbirths in the maternity practice of georgetown hospital , where the majority of the cases were normal labours in multipara . a high mortality occurred in the second week frcm trismus neonatorum ; while in freetown , sierra leone , of ioo children born alive , 9 . i died the same day , and 17.6 within the week . in africa , as in british guiana , the number of stillbirths registered was certainly far below the truth , while the very imperfect certification of the causes of death rendered the determination of those of the high infant mortality very difficult . thus in guiana small - pox and scarlatina were un - known , diphtheria very rare , and measles and whooping - cough extremely mild . diseases of the respiratory organs were infrequent , and though the infants of the working classes were very generally fed with maize meal and other farinaceous paps , one did not meet with the acute forms of diarrhoea seen in europe . malarial fevers were , however , a fairly frequent cause of death after the sixth month , and even much earlier , the usual type being a pernicious cerebral attack rapidly fatal with coma and convulsions , or in the case of older children with coma only . the classical sym - ptoms were absent at these ages , and if the cause of the con - vulsions were not diagnosed , the majority died within two or three hours , but when quinine was administered energetically recovery was as a rule speedy . of 1,47 i deaths under i year of age , i58 were ascribed to \" convulsions , \" which up to the sixth year were largoly of malarial origin . while the negro population was generally diminishing , that of barbadoes , where there was no malaria , had increased by 6.3 per cent . in ten years , though its extraordinary density , i , og6 to the square mile , led to so large an emigration that natives of that island were found throughout the west indies , and constituted a fifth of the negro population of british guiana . in india the question of infant mortality was complicated by small - pox , cholera , plague , and famine , but the large propor - tion of enlarged spleens found in persons of all ages dying of other diseases indicated the prevalence of malaria in early life . in british central africa epidemics of small - pox occurred every five or six years , causing a heavy mortality among children , inoculation being extensively practised among adults , but inquiries showed that of 552 children born alive , 2.7 per cent . died on the first day . in a highly malarious district over 50 per cent . , and in one less so 38 per cent . of the children died before reaching puberty , and enlarged spleens were very general . the birth - rate in british guiana was , among the negroes , 30 to 35 , but the death - rate was still higher . in india , that in the panjab was no less than 43.9 , but in bengal , where it was 32.8 i , the deaths exceeded the births by 2.07 per i , ooo . in central africa european adminis - tration had abolished the fearful sacrifice of life connected with the slave trade and reduced the deaths from violence , but the aggregation of the natives on engineering works and the overcrowding consequent on the adoption of european methods of housing , had led to an increase in tuber - culosis and syphilis , so that the population showed a tendency to decrease . to ensure a permanent supply of labour in the tropics a steady growth of the population was necessary , and this could be effected only by reducing the infant mortality , the importation of labourers from other districts being but a temporary substitute . after some remarks from dr . franklin parsons , dr . harford battersby said that dr . daniels had not referred to infanticide , which was very prevalent in nigeria , where not only malformed infants , but twins and such as cut their teeth in a certain order were crammed into earthen pots and exposed to die ; others were poisoned , as probably they were in sierra leone , where open violence would be punished . in the absence of breast milk the natives never gave that of cows or goats , but paps of maize , and the usual treatment of any febrile attack was to sweat the child before a large fire , and then lay it out in the shade or evening to cool . dr . bulstrode said the want of available statistics of which dr . daniels complained showed the urgent need for the creation of an imperial board of health on the lines of that at berlin which had already done good work in connexion with the health of colonists and natives in east and west africa . after some remarks by dr . percy adams and mr . murphy , dr . daniels , in reply , said that april 26 , 1902 . ] societies . lthe briil8h . o [ medical journal 1031 whatever might be the case in south africa , the prevalence of infanticide elsewhere had been greatly exaggerated . dr . livingstone had denied its existence in the regions explored by him , and he had never noticed it in central east africa . twins were , indeed , deemed unlucky , but among the children brought to be vaccinated the proportion of such was certainly greater than would have been found in europe , and this not among those of christian parents only , but of others beyond the influence of the mission . as to india , he emphatically denied the alleged practice of female infanticide . in bengal there were io6 males to i00 female births , but the deaths per i , ooo were in the first year 234.38 for males , and 19i . 25 for females , and for those under 5 years 47.9 and 41.9 respec - tively . british gynaecological society . - at a meeting on april ioth , dr . j . halliday croom , president , in the chair , dr . macnaughton - jones read notes of a case of miscarriage and difficult labour after ventrifixation . he described the firm and extensive adhesion of the uterus to the abdominal wall , as ascertained subsequently when removing an ovarian blood cyst from the same patient , and inferred that ventri - suspension , or fixation of the doubled round ligaments ( olshausen ' s operation ) was , in women not past child - bearing . was a safer proceeding than ventrifixation , the legitimate field for ' which was a limited one . - the president read a paper on deciduoma malignum , as to the etiology of which he said that the latest view was essentially the same as that brought before the society by dr . haultain in i899 , the consensus of opinion now being that it was an epitheliomatous new growth the result of pregnancy , and derived from the coverings of the chorionic villi , and not a sarcoma ; this view was sup - ported by the age of incidence of the disease - from 17 to 5 , sarcoma being very rare before 3 $ . in 6o per cent . of all the cases the disease followed that intense proliferation of the villous epithelium known as myxomatous degeneration of the placenta or hydatid mole ; even when this was not the case , characteristic symptoms generally appeared within a few weeks , or at most months , of labour or abortion , though one instance had been reported two and another four years after the last known pregnancy . haemorrhage , intermittent , but so profuse and frequent as to cause profound anaemia , was generally the first symptom , and in nearly all cases a characteristic feature , but exceptionally the primary area of active growth , owing to migration of the malignant villi , was deep in the uterine wall or even outside it , in the vagina , ovary , or elsewhere , and naturally haemorrhage then might not occur . a fetid discharge mixed with blood clots and shreds of tissue was common , and the early degeneration of the growth was followed by extreme cachexia from absorption of toxins of decomposition , and , in default of timely opera - tion , the patient , if not carried off by metastases in some vital organ , rapidly succumbed to exhaustion . a case , exceptional in several respects , had been under his own care . a woman . aged 44 , had had amenorrhoea for four months , leucorrhoea with a foul watery discharge suggestive of ordinary malignant disease rather than deciduoma , and had been for some weeks conscious of a swelling in her hypogastrium which extended halfway up the umbilicus ; in her left labium there was a tumour the size of a walnut , at first sup - posed to be a cyst of bartolin ' s gland , but which proved to be solid and typical deciduoma malignum . the sound when passed into the enlarged uterus , seemed to touch friable tissue , but the haemorrhage on its with - drawal was of the slightest , and never since the onset of the amenorrhoea had she had any haemorrhage whatever ; she was nevertheless extremely anaemic and cachectic , sank very rapidly and lung complications appear - ing , died before it was possible to operate . her last known pregnancy had terminated in an ordinary miscarriage six years previously , and it was hard to suppose that any products of conception could have remained latent in the uterus for six years , and then have undergone malignant proliferation . the only alternative was that her amenorrhoea was due to conception , though she never had any haemorrhage or other sign of abortion and except charac - teristic elements of deciduoma malignum no evidence of pregnancy was found in the uterus . specimens of the disease from the uterus and metastases and sections under the micro - scope illustrated the case . the discussion turned chiefly on diagnosis , dr . heywood smith and dr . snow speaking , and dr . miacnaiughton - jones reading notes of a case of incomplete molar abortion simulating deciduoma malignum , but appar - ently completely cured after two years , possibly to recur as malignant hereafter . the president briefly replied . society of medical officers of health . - at a meeting on april iith , mr . wynter blyth , president , in the chair , dr . herbert jones opened a discussion on fixity of tenure of medical officers of health by reading extracts from a memo - randum drawn up by the president and himself of the efforts of the society in this direction , and the statements of several cabinet ministers and others on the question . - dr . j . groves said that no deputation had been received by any minister since that introduced by sir w . foster to the president of the local government board in i895 , and the bill promoted by the brit - ish medical association had been blocked by mr . john burns , and had no chance of passing unless the government should take it up , which it would not do until pressed by public opinion . the whole - time officer was not in so difficult a posi - tion as the \" half - timer \" who endeavoured to do his duty . - after remarks from dr . j . r . kaye , dr . garstang maintained that security of tenure would give a greater impetus to public health administration than any number of actsof parliament . at present members of parliament were opposed to what ihey looked on as a medical monopoly , and it must therefore be urged from the standpoint of the public good . even when their relations with the medical officer were happy , local authorities showed no inclination to extend the periods of appointment , but rather to shorten them from five to three , or even one year ; and the local government board refused to sanction a permanent appointment when the salary was under . 5o . destructive criticism was , however , useless unless some de - finite constructive proposal could be offered ; and he would , therefore , suggest that in place of the words \" every medical officer of health \" in the bill , it should read \" existing medical officers of health , \" with the further provision that , as the posts became vacant by death or resignation , the county council should make or control the next appointment with a view to the amalgamation of districts . - mr . p . targett adams would prefer complete centralization , and contrasted the posi - tion of the surveyors of taxes , whose tenure and promotion dependedona closeobservation of their efficiency . he wasin - clined to distrust ' the county councils , which , he said , were gradually being filled by a lower class of men , owners of small house ' property and the nominees of pettv tradesmen and the working classes . -- dr . symons considered that spas and health resorts were , as a rule , the best administered since the author - ities looked on the sanitary reputation of their towns as an advertisement . - drs . newman and hemborough and mr . beale collins having also spoken , the president summed up the discussion , and the consideration of the bill was re - ferred to the parliamentary committee . british balneological and climatological society . - at a meeting held on april i6th the adjourned discussion on chronic affections of the kidney and morbid condition of the nrine arising therefrom in relation to balneological , climatic , and dietetic treatment , was resumed by dr . leonard williams , who contended that it was idle to eeek for an equable climate with a low relative humidity , because a high relative humidity was one of the chief factors in the causation of equability . it was a mistake to suppose that a high rela - tive humidity was of necessity a bad feature in a climate . in the treatment of chronic renal disease it was not only not a bad thing , but was emphatically one of the elements of climate which should be most insisted upon . - dr . debout d ' estirikes ( contrex6ville ) said , first , that at contrextville the diminu - tion and disappearance of sugar in diabetes coincided with expulsion of uric acid ; first under the form of a light cloud of small crystals visible only under a full microscopic examination , and later with uric acid visible to the naked eye ; secondly , that at contrex6ville the elimination of uric acid was not limited to the time of the cure , but continued for ten to fifteen days after the cessation of the use of the waters . - dr . bezly thorne advocated water drinking in albumin - uria when complicated by oedema , provided the pathological condition of the veesela imposed no insuperable obstacle to vasodilatation . in such a condition it would , except under limitation , be inadmissible . he deprecated the ostracism of meat diet and . albuminous foods , and expressed a doubt as to cow ' s milk being the best means of supplying the albuminous needs of the system in the greater proportion of adult patients . - dr . alexander morison maintained that the more bland and less \" mineral \" the drinking water of kidney patients i 1032 medicalj jouail reviews . [ april 26 , i902 . the better for the . latter , and looked forward to a modification of the attitude of the profession towards the theory of arterial hypertension , the importance of which had been exaggerated . - dr . bain ( harrogate ) pointed out that serum globulin being excreted in excess of serum albumen in waxy kidney was a valuable diagnostic sign in differentiating it when of syphilitic origin from granular kidney . he disapproved of the turkish bath in most cases of granular kidney , as the initial rise in blood pressure which in - variably took place in the hot room tended to produce cerebral haemorrhage . he advocated the restriction of the nitrogenous element in the diet - which should be easily , digestible and maintain the nutrition of the body , the pro - hibition of alcohol , gentle exercise , suitable clothing , plain water to drink , and the avoidance of mental worry . - dr . parkes weber remarked that , without any active renal disease , albumen or casts , or both , might be present in the urine from functional defects due either to past diseases of the kidneys or to congenital inadequacy . this indirectly caused a difficulty in estimating results of treatment . in some renal cases the right amount ot water and of albumen to be given in the diet was doubtless that on which the relative waste of albumen with the urine was least . - after some re - marks from dr . solly ( harrogate ) , dr . c . 0 . hawthorne said he distrusted proposals to subject patients suffering from chronic interstitial nephritis with their prematurely senile tissues to extremes , climatic or balneological . clothing was of the first importance , as chill might readily mean a bronchial catarrh which in these patients must have an anxious pro - gnosis . - in reply dr . leonard williams said that the en - thusiasts on the subject of blood pressure as the chief causa - \n",
      "\n"
     ]
    }
   ],
   "source": [
    "#Download a compressed (gzipped tape archive format) biomedical corpus from the web, the file was already tokenised \n",
    "!curl http://nactem.ac.uk/teaching/COMP61332/Week4/biomedical_corpus.tgz > bc.tgz \n",
    "\n",
    "#Decompress the corpus using the tar command (extract the gzipped file): \n",
    "!tar -xzf bc.tgz \n",
    "\n",
    "#The above command will produce a file ‘biomedical_corpus’. Create a version of the corpus with only lowercase letters using the translate command: \n",
    "!tr \"[:upper:]\" \"[:lower:]\" < biomedical_corpus > bc.lc.txt \n",
    "\n",
    "#view the file\n",
    "def check_file(data_file):\n",
    "    with open (data_file) as f:\n",
    "        for i,line in enumerate (f):\n",
    "            print(line)\n",
    "            break\n",
    "lowercase_file = \"bc.lc.txt\"\n",
    "check_file(lowercase_file)"
   ]
  },
  {
   "cell_type": "markdown",
   "metadata": {
    "id": "2zi1soQDHfXe"
   },
   "source": [
    "### Step 3: Loading the corpus"
   ]
  },
  {
   "cell_type": "code",
   "execution_count": null,
   "metadata": {
    "colab": {
     "base_uri": "https://localhost:8080/"
    },
    "id": "kIuNfhafHfXf",
    "outputId": "49e8647d-9ac6-4dae-cb60-8c48b2bf7ca5"
   },
   "outputs": [
    {
     "name": "stdout",
     "output_type": "stream",
     "text": [
      "reading file bc.lc.txt...this may take a while\n",
      "read 10000 sentences\n",
      "read 20000 sentences\n",
      "read 30000 sentences\n",
      "read 40000 sentences\n",
      "read 50000 sentences\n",
      "read 60000 sentences\n",
      "read 70000 sentences\n",
      "read 80000 sentences\n",
      "read 90000 sentences\n",
      "read 100000 sentences\n",
      "read 110000 sentences\n",
      "Done reading data file, number of sentences: 110441\n"
     ]
    }
   ],
   "source": [
    "import gensim\n",
    "def read_input(input_file):\n",
    "    print(\"reading file {0}...this may take a while\".format(input_file))\n",
    "    count = 0\n",
    "    with open (input_file) as file:\n",
    "        for line in file:\n",
    "            sentences = line.split(' . ') #a simple way to do sentence segmentation\n",
    "            for sent in sentences:\n",
    "                count += 1\n",
    "                if (count%10000==0):\n",
    "                    print (\"read {0} sentences\".format (count))\n",
    "                # do some pre-processing and return a list of words for each review text\n",
    "                yield gensim.utils.simple_preprocess (sent)\n",
    "# read the biomedical corpus and convert into a list of sentences\n",
    "corpus = list(read_input (lowercase_file))\n",
    "print (\"Done reading data file, number of sentences: {0}\".format(len(corpus)))"
   ]
  },
  {
   "cell_type": "markdown",
   "metadata": {
    "id": "bpX73vkyHfXh"
   },
   "source": [
    "### Step 4: Training and compiling vectors \n",
    "\n",
    "Train a skip-gram model using the biomedical corpus. This process will take some time. While the word embeddings are being trained, consider the purpose and effect of each of the parameters passed to the model by checking the list of input parameters from this page https://radimrehurek.com/gensim/auto_examples/tutorials/run_word2vec.html#training-parameters and fill in the following table.\n",
    "\n",
    "| Parameter | Purpose/effect |\n",
    "|---|---|\n",
    "|size=200 | |\n",
    "|window=8 | |\n",
    "|min_count=25 | |\n",
    "|workers=20 | |"
   ]
  },
  {
   "cell_type": "code",
   "execution_count": null,
   "metadata": {
    "colab": {
     "base_uri": "https://localhost:8080/"
    },
    "id": "bFk7TkzVHfXi",
    "outputId": "b74416c1-3bf0-48e3-a72b-49da8e513213"
   },
   "outputs": [
    {
     "name": "stdout",
     "output_type": "stream",
     "text": [
      "Finished training the model!\n"
     ]
    }
   ],
   "source": [
    "model = gensim.models.Word2Vec (corpus, size=200, window=8, min_count=5, workers=20)\n",
    "model.train(corpus,total_examples=len(corpus),epochs=15)\n",
    "print('Finished training the model!')"
   ]
  },
  {
   "cell_type": "markdown",
   "metadata": {
    "id": "r117iJ7oHfXi"
   },
   "source": [
    "### Step 5: Thesaurus extraction \n",
    "\n",
    "Record the 3 nearest neighbours for each of the following target words:\n",
    "\n",
    "| Target word | Neighbours in biomedical - Step 4 | Neighbours in general - Step 6 |\n",
    "|---|---|---|\n",
    "|premature| | |\n",
    "|heart| | |\n",
    "|defect| | |\n",
    "|infection| | |\n",
    "|lung| | |\n",
    "|pain| | |"
   ]
  },
  {
   "cell_type": "code",
   "execution_count": null,
   "metadata": {
    "colab": {
     "base_uri": "https://localhost:8080/"
    },
    "id": "Ft6JAVyZHfXj",
    "outputId": "f34876e5-6861-4492-8d54-298345ad6483"
   },
   "outputs": [
    {
     "name": "stdout",
     "output_type": "stream",
     "text": [
      "[('newborn', 0.7493845820426941), ('infant', 0.665418803691864), ('induction', 0.5413464903831482)]\n",
      "[('cardiac', 0.6540867686271667), ('respiratory', 0.6539239287376404), ('sounds', 0.621698260307312)]\n",
      "[('inherent', 0.5556449890136719), ('factor', 0.5335158109664917), ('theory', 0.5232007503509521)]\n",
      "[('infected', 0.6694002747535706), ('contamination', 0.6321754455566406), ('virus', 0.6046768426895142)]\n",
      "[('pleura', 0.6857077479362488), ('lobe', 0.6835958957672119), ('kidney', 0.6762652397155762)]\n",
      "[('vomiting', 0.7079678177833557), ('discomfort', 0.6874998807907104), ('swelling', 0.6739325523376465)]\n"
     ]
    }
   ],
   "source": [
    "target_words = [\"premature\", \"heart\", \"defect\", \"infection\", \"lung\", \"pain\"]\n",
    "for word in target_words:\n",
    "    print(model.wv.most_similar(positive=word,topn=3))"
   ]
  },
  {
   "cell_type": "markdown",
   "metadata": {
    "id": "K3bvZhenHfXk"
   },
   "source": [
    "### Step 6: Thesaurus extraction from general corpus \n",
    "\n",
    "Using the following links to an online interface visualisation for word2vec trained on very large general corpus, record the top-3 nearest neighbours (in the table above):\n",
    "\n",
    "https://wordsimilarity.com/en/premature\n",
    "\n",
    "https://wordsimilarity.com/en/heart\n",
    "\n",
    "https://wordsimilarity.com/en/defect\n",
    "\n",
    "https://wordsimilarity.com/en/infection\n",
    "\n",
    "https://wordsimilarity.com/en/lung\n",
    "\n",
    "https://wordsimilarity.com/en/pain\n",
    "\n",
    "Consider the differences in the columns; is a specialised corpus more meaningful?\n",
    "\n",
    "Another homework for you is to load pre-calculated word vectors from general domain by using `gensim` and use the same code as in step 5 to find 3 nearest neightbours of those words.\n"
   ]
  },
  {
   "cell_type": "markdown",
   "metadata": {
    "id": "zpW9oaoPHfXl"
   },
   "source": [
    "### Step 7: Thesaurus extraction for multi-word terms\n",
    "So far we have calculated vectors for single words, how can we present **multi-word terms**? Any solutions?\n"
   ]
  },
  {
   "cell_type": "markdown",
   "metadata": {
    "id": "E3Uaxd2nHfXl"
   },
   "source": [
    "## 2. Visualisation"
   ]
  },
  {
   "cell_type": "markdown",
   "metadata": {
    "id": "171rAhNEHD3h"
   },
   "source": [
    "### 2.1 Observing semantic properties of word vectors\n",
    "In this exercise you will use online visualisation tools. \n",
    "\n",
    "Navigate to https://lamyiowce.github.io/word2viz/, the page might take some time to load.\n",
    "\n",
    "Once loaded, explore the word vectors in the model by selecting the demonstrations in the table below from the dropdown menu titled “What do you want to see?” \n",
    "For each, try to think of two new pairs of words that you think follow the same analogy as those already in the demonstration. Add them using the online interface (bottom pair of boxes under Modify Words, then click “Add pair”). If they don’t follow the pattern, record them in the “Incorrect” column and try to explain why.  \n",
    "Complete the first three lines of the table below. Those marked optional can be completed after you have finished the other exercises.\n",
    "\n",
    "\n",
    "| Demonstration | Word pairs | Correct/Incorrect | Notes | \n",
    "|---|---|---|---|\n",
    "|Gender Analogies| 1. 2. | | |\n",
    "|Numbers say-write analogies|1. 2. | | |\n",
    "|Adjectives Analogies|1. 2.| | |\n",
    "|Up-down linguistic metaphors (optional)|1. 2.| | |\n",
    "|Jobs (optional)| 1. 2.| | |\n",
    "|Verb tenses (optional)|1. 2.| | |\n",
    "\n",
    "\n",
    "#### Additional visualisation tools for embeddings: \n",
    "\n",
    "You can also visit http://bionlp-www.utu.fi/wv_demo/ and experiment with the embeddings created using the English GoogleNews corpus. \n",
    "\n",
    "For an interactive exploration of the training process of word embeddings you may visit https://ronxin.github.io/wevi/ (Chrome browser is recommended for this). \n",
    "\n",
    "Make sure you read the documentation at: https://docs.google.com/document/d/1qUH1LvNcp5msoh2FEwTQAUX8KfMq2faGpNv4s4WXhgg/pub to train the models with different parameters. You can mouse over the input layer concepts to see the activations with the layer nodes, e.g., ‘apple’ is more activated with ‘juice’ and ‘water’ with ‘drink’.\n",
    "\n"
   ]
  },
  {
   "cell_type": "markdown",
   "metadata": {
    "id": "V8eMKGZFHHah"
   },
   "source": [
    "### 2.2 Visualising word vectors\n",
    "\n",
    "Continuing Section 1, we will visualize the learned embeddings of the 500 most frequent words using https://projector.tensorflow.org/"
   ]
  },
  {
   "cell_type": "markdown",
   "metadata": {
    "id": "blHT6q6nHKgi"
   },
   "source": [
    "#### Step 1: Extracting word embeddings of 500 most frequent words"
   ]
  },
  {
   "cell_type": "code",
   "execution_count": null,
   "metadata": {
    "colab": {
     "base_uri": "https://localhost:8080/"
    },
    "id": "9LH0KfxfHfXn",
    "outputId": "b4d2ee08-07e0-47f7-a296-6a0cdad766ba"
   },
   "outputs": [
    {
     "name": "stdout",
     "output_type": "stream",
     "text": [
      "Done creating freq_words.txt and freq_words.embs\n"
     ]
    }
   ],
   "source": [
    "freq_words = model.wv.index2entity[:500]\n",
    "with open('freq_words.txt', 'w') as fw, open('freq_words.embs', 'w') as fe:\n",
    "    for word in freq_words:\n",
    "        fw.write(word + '\\n')\n",
    "        fe.write('\\t'.join([str(i) for i in model.wv[word]]) + '\\n')\n",
    "print(\"Done creating freq_words.txt and freq_words.embs\")"
   ]
  },
  {
   "cell_type": "markdown",
   "metadata": {
    "id": "oCezUBdvHfXn"
   },
   "source": [
    "#### Step 2: Visualising word embeddings \n",
    "Firstly, please download `freq_words.embs` and `freq_words.txt`.\n",
    "\n",
    "If you are using Google Colaboratory to run this jupyter notebook, run the cell below to download the files.\n",
    "\n",
    "Alternatively you can download the two files  by clicking on the Files menu on the most left panel as illustrated in the below figure.\n",
    "\n",
    "![screen1.PNG](data:image/png;base64,iVBORw0KGgoAAAANSUhEUgAAADUAAAEGCAYAAADFf93HAAAAAXNSR0IArs4c6QAAAARnQU1BAACxjwv8YQUAAAAJcEhZcwAADsQAAA7EAZUrDhsAAAjvSURBVHhe7Z1fbBRFHMd/e3dtpYqtFF+qoEYr+LdCNDESRU2MxCjqk8CTyBslURP+mOhDjYkRfFCDmKjBP0/gkwWNUfFBUEyMBiwa+afRQvTFFgraUtvenfOdztLrdvbf3fZuf+fvk2y6M3vXm8/NzG9md6dbp6igOiNjftYVIsWFupRKNFAUh36nYv9e/RNkLr2bqPkKci68UqfDKPz1JRUHe4nGBk2OKmDrLer3LCVqaDU54VQsVRz8gfK/vEZFFMjITEMVKHt9N2U7njQZJSiB8d6nqfBHzxQZL5n2Ryij3q+/qBAqksr/3K22500qHNRYtvMVXUBQ+P09LRQk4wXvzd32bmDNldWnimdP0Pjee2IJAd08Vc2C8e8ep/HvV8cSAoU/e2hMfTbK4EdsqeK5M3Tq7ccoPzxucqLjqP6V7XiK8r1PUaHvfZMbn9GBFl0GlMVG7OZ3etsyGv31K73fet9icoa+1vtRyN2qmk1jK41/86jJic9Yfin98+13er/xmjvpkrWf6v1SYkn9++NHNPjuCpOa4LxYQ4uuBUd15IyKWMXRQSqeUUHk+KsqiOxV+Uup4Y4eGv3kKt8ml2l/mDJXPk5Oyy3kKPmCaqoIQG4zLxVygRTkSokl1f/CdZQ/Pb0ttz60nBoXbdLh1wbEELXQH6z9UH0hudveOx9AvKAfjnzzMp39QkVID9k5V9Dc5342qQki96nxPw5ZhZwLLqZc50u+QkDXoDquw7YFhHs/IYD3Nt7+ov4sL/lTfXorJbLU6K/7zN5ULlr2rP62wtCR74waWD2gWUI6DHwGPsvGvz99ZPYmiCyVP2UPoU03PmT2gikO2wfmKIOpi99nFTxRMFbz84LmEKWWgkBgiQo+y9YEx36ZiMYuscepKTiO2UkXkaUaPGETYPDzdtK4IGRHBZ9VHDlrUpN4yxZZKjOrxexNxdtJ/XCa7TN1jGFR8fssb9kiS/l10n8+ezFSbWEy67R0mtQkON3AOBYGPgOfZcNbtshS6KTZS+ab1CRoguO9z5yfqNrQswp1HLMFGyOHPqfhfdtMajoIUpjJ2OZ6KJM3WMWaUYyqKHP6jWUmNUHp/A/jDQZRp7XTTJN6qaCEUBsI3bk7PlTTJNUMxyYL553LNd+17nxBx/48pKZmHyvh1/VxGxVPk8DgO4+ptv2x3q90Qmuby8Wh8Wo1oe2qcEIL9KnHtvvpohsaYglp1Ild4wO/6ZPLkSM/VCSUa7+J5nR9Ro4lgMUep/BL2p78lDLNWZMTAzU7R//Kdr5K+cK1JjM+EGp94gOrEIgtpVHfeMPSL/WpeRxwkuhOfC9e+Zba3rTOEIJouvFBXUNBM5nYzc+LvvCC6IYLL8P20K7PeDETt0Q/NOe/ezbQiDpXsw2sLpBBEPEGBRsVS5WiZ+JaTk1eVW2iVnDCGHSRpBSEbpwNlE5QG6++ixouu9m3qdlIVCotlNenUo5IcUGkuCBSXBApLogUF0SKCyLFBZHigkhxQaS44Bw7dqzurial4hLZ8ePHqaOjw6QqR/oUF0SKCyLFBZHigkhxQaS4IFJcECkuiBQXRIoLIsWF0EtkW7dupZMnT9LGjRupv7+fjh49ao4EM3fuXFqyZIlJBZP0JbJQqa6uLjp37pyWgtCuXbvMkWAWLFhAmzZtMqlgqi514sQJXVNRv/VyqLpUNaj6Fdrh4WHdlzgRWlMbNmyggYEB6u7u1s1w//795kgw8+bNo5UrV5pUMFWvqebmZrM3Ab6DKFstCa0pND9sCNEzRU1qaiaFZoJQKYT0qP0oLfw/B9/t27fTkSNHdAHrZppUDSCVJKmRampqMqnKSY3U7NmzyUno74ZTI9XW1kaZzEQwrlQuNVLt7e1axhWqRCw1UvPnz9c1lUQTDB18qwWESrdsNlv2lhopt+klsaVGqhQUrBJSI5XL5eqvTyWJSHFBpLggUlwQKS6IFBdEigsixQWR4oJIcUGkuCBSXIh8LR33fnfv3k0HDhwwOUSLFy+m5cuX6+vglYBr6VW/kwihLVu26KUHixYt0hLIO3jwoL57v27dOlq4cKF5dXySlsJCjkCGhoaKXV1dxbVr1xb7+vpM7gRIr1+/Xh/H68oFf5abJKF9CrWBGlq1atW0ZoY0lurgOF6XFkKl3MVWaHY20K8AmmNaSCz6obbSQqiUu4THr3m50bDSCJgkoVJodrNmzaIdO3ZMW/eH9M6dO/XxmVy5GZdIIR0rXrBAGPeOIInag5AbRBDOV6xYUXZt1WScAggEWJdU2gyx/gjRb/PmzVoY65fKEav6OGXDNl5hHMN45T0WhaqPUzZs4xUWZKnfp2cetQ7viYV0r1gtQ3zii0NQS3HXsdcsUMwkSUsl1vzShEhxQaS4IFJcECkuiBQXRIoLIsUFkeKCSHFBpLggUlwQKS6IFBdEigsixQWR4kIsKdzH9XscCvLTspQnshQKjBvUKDwWi5SCNPJrfQPbJZKUK4Sb1GvWrJm2YBFp5ON4GsRCpbxCfnfdkZ8WsUCpqEIuaRELralyVyTUciVDoBQW/WIVC54Ah+cnhT3pCsfxOrwe7/M+nK1ahNZUVLG0CIFQKeAVs4X0tAhpsIwnKlim3dPTY1JTQX65y7iTXhona5O4IFJcECkuiBQXRIoLIsUFkeKCSHFBpLggUlyoSyln4PJran7hxY85J8t7jro0Py6IFBesgaLcDlouuELbdu8DJjWJBIoSRIoLIsUFkeJCqJT7n4y8W61XtQQROPhCCM9tsYGHauBYEjetkx58A6WwiMpv1RjAU3n8/jUa7tTH+e97VZ9RoIB48o53wz/twX1w7zY0NER79uyZ8ti8qoKa8m4uWEawevXq4uHDh01ONPB6vM9veYIXLDkIKkdcJKRzQaS4IFJciCSFJ1bZpkp+G15fS8qeJkUB62j9ZhylVHWaBCCGLS5BUygvVZeqBnI1KQIixQWR4kJdSllDelqQkF6CSHGhPgMFrr6Y/ZqBuZ/8rUcIIsUFkeKCSHFBpLggUlwQKS6IFBdEigsixQWR4oJI8YDoPwwNpq5dNUWKAAAAAElFTkSuQmCC)\n",
    "\n",
    "If you are using a virtual/local machine, the two files should be generated in the same folder with this script.\n",
    "\n",
    "To visualise the embeddings, please do the following steps:\n",
    "\n",
    "- Navigate to https://projector.tensorflow.org/ \n",
    "- In the left panel, click the Load button\n",
    "  - Upload freq_words.embs for Step 1\n",
    "  - Upload freq_words.txt for Step 2  \n",
    "- In the bottom left corner, choose T-SNE and click on \"Stop\" after 2000 iterations. \n",
    "- In the top right corner, search a word (e.g., \"heart\") and observe the visualisation as well as the \"nearest points in the original space\".\n"
   ]
  },
  {
   "cell_type": "code",
   "execution_count": null,
   "metadata": {
    "colab": {
     "base_uri": "https://localhost:8080/",
     "height": 17
    },
    "id": "7pJgkp8SDjJM",
    "outputId": "65bb593d-3a75-4a0b-a83b-1aa778568e9a"
   },
   "outputs": [
    {
     "data": {
      "application/javascript": [
       "\n",
       "    async function download(id, filename, size) {\n",
       "      if (!google.colab.kernel.accessAllowed) {\n",
       "        return;\n",
       "      }\n",
       "      const div = document.createElement('div');\n",
       "      const label = document.createElement('label');\n",
       "      label.textContent = `Downloading \"${filename}\": `;\n",
       "      div.appendChild(label);\n",
       "      const progress = document.createElement('progress');\n",
       "      progress.max = size;\n",
       "      div.appendChild(progress);\n",
       "      document.body.appendChild(div);\n",
       "\n",
       "      const buffers = [];\n",
       "      let downloaded = 0;\n",
       "\n",
       "      const channel = await google.colab.kernel.comms.open(id);\n",
       "      // Send a message to notify the kernel that we're ready.\n",
       "      channel.send({})\n",
       "\n",
       "      for await (const message of channel.messages) {\n",
       "        // Send a message to notify the kernel that we're ready.\n",
       "        channel.send({})\n",
       "        if (message.buffers) {\n",
       "          for (const buffer of message.buffers) {\n",
       "            buffers.push(buffer);\n",
       "            downloaded += buffer.byteLength;\n",
       "            progress.value = downloaded;\n",
       "          }\n",
       "        }\n",
       "      }\n",
       "      const blob = new Blob(buffers, {type: 'application/binary'});\n",
       "      const a = document.createElement('a');\n",
       "      a.href = window.URL.createObjectURL(blob);\n",
       "      a.download = filename;\n",
       "      div.appendChild(a);\n",
       "      a.click();\n",
       "      div.remove();\n",
       "    }\n",
       "  "
      ],
      "text/plain": [
       "<IPython.core.display.Javascript object>"
      ]
     },
     "metadata": {
      "tags": []
     },
     "output_type": "display_data"
    },
    {
     "data": {
      "application/javascript": [
       "download(\"download_bcbf93ee-98dd-43fb-a11c-1c2e2348a8a2\", \"freq_words.embs\", 1083328)"
      ],
      "text/plain": [
       "<IPython.core.display.Javascript object>"
      ]
     },
     "metadata": {
      "tags": []
     },
     "output_type": "display_data"
    },
    {
     "data": {
      "application/javascript": [
       "\n",
       "    async function download(id, filename, size) {\n",
       "      if (!google.colab.kernel.accessAllowed) {\n",
       "        return;\n",
       "      }\n",
       "      const div = document.createElement('div');\n",
       "      const label = document.createElement('label');\n",
       "      label.textContent = `Downloading \"${filename}\": `;\n",
       "      div.appendChild(label);\n",
       "      const progress = document.createElement('progress');\n",
       "      progress.max = size;\n",
       "      div.appendChild(progress);\n",
       "      document.body.appendChild(div);\n",
       "\n",
       "      const buffers = [];\n",
       "      let downloaded = 0;\n",
       "\n",
       "      const channel = await google.colab.kernel.comms.open(id);\n",
       "      // Send a message to notify the kernel that we're ready.\n",
       "      channel.send({})\n",
       "\n",
       "      for await (const message of channel.messages) {\n",
       "        // Send a message to notify the kernel that we're ready.\n",
       "        channel.send({})\n",
       "        if (message.buffers) {\n",
       "          for (const buffer of message.buffers) {\n",
       "            buffers.push(buffer);\n",
       "            downloaded += buffer.byteLength;\n",
       "            progress.value = downloaded;\n",
       "          }\n",
       "        }\n",
       "      }\n",
       "      const blob = new Blob(buffers, {type: 'application/binary'});\n",
       "      const a = document.createElement('a');\n",
       "      a.href = window.URL.createObjectURL(blob);\n",
       "      a.download = filename;\n",
       "      div.appendChild(a);\n",
       "      a.click();\n",
       "      div.remove();\n",
       "    }\n",
       "  "
      ],
      "text/plain": [
       "<IPython.core.display.Javascript object>"
      ]
     },
     "metadata": {
      "tags": []
     },
     "output_type": "display_data"
    },
    {
     "data": {
      "application/javascript": [
       "download(\"download_93bd8312-2b0e-40cf-978d-4ee32236bafd\", \"freq_words.txt\", 3130)"
      ],
      "text/plain": [
       "<IPython.core.display.Javascript object>"
      ]
     },
     "metadata": {
      "tags": []
     },
     "output_type": "display_data"
    }
   ],
   "source": [
    "from google.colab import files\n",
    "\n",
    "files.download('freq_words.embs')\n",
    "files.download('freq_words.txt')"
   ]
  }
 ],
 "metadata": {
  "colab": {
   "name": "Week3.ipynb",
   "provenance": [],
   "toc_visible": true
  },
  "kernelspec": {
   "display_name": "Python 3",
   "language": "python",
   "name": "python3"
  },
  "language_info": {
   "codemirror_mode": {
    "name": "ipython",
    "version": 3
   },
   "file_extension": ".py",
   "mimetype": "text/x-python",
   "name": "python",
   "nbconvert_exporter": "python",
   "pygments_lexer": "ipython3",
   "version": "3.8.3"
  }
 },
 "nbformat": 4,
 "nbformat_minor": 1
}
