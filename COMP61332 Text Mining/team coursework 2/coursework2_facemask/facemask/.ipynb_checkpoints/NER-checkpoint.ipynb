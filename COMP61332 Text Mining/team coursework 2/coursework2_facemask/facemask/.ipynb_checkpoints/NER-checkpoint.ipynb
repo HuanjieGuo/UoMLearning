{
 "cells": [
  {
   "cell_type": "code",
   "execution_count": 4,
   "metadata": {},
   "outputs": [],
   "source": [
    "import pandas as pd\n",
    "import numpy as np\n",
    "from pandas import DataFrame,Series\n",
    "import matplotlib.pyplot as plt\n",
    "import random"
   ]
  },
  {
   "cell_type": "code",
   "execution_count": 5,
   "metadata": {},
   "outputs": [],
   "source": [
    "# label_ = []\n",
    "# tweets = []\n",
    "\n",
    "\n",
    "# for tweet_text in unique_tweets:\n",
    "#     doc = nlp(tweet_text)\n",
    "# #   print(tweet_text)\n",
    "    \n",
    "#     for ne in doc.ents:\n",
    "#         print('\\tNE found: ', ne.start_char, ne.end_char, ne.label_, tweet_text[ne.start_char:ne.end_char])\n",
    "#         label_.append(ne.label_)\n",
    "#         tweets.append(tweet_text[ne.start_char:ne.end_char])\n",
    "    \n",
    "        \n",
    "# data = {\"label:\":label_, \"NE\":tweets}\n",
    "# f1 = DataFrame(data, columns=['label','NE'])\n",
    "# df = pd.DataFrame(data)\n",
    "# df.to_csv('test.csv',header=True)\n",
    "        "
   ]
  },
  {
   "cell_type": "code",
   "execution_count": 6,
   "metadata": {},
   "outputs": [],
   "source": [
    "# tweets_df = pd.read_csv('current_set.csv', quotechar='\"', encoding='utf8')\n",
    "from collections import Counter\n",
    "\n",
    "\n",
    "NE_percent = pd.read_csv('NE.csv')\n",
    "\n",
    "ne1 = NE_percent[NE_percent['label:']=='PERCENT']\n",
    "\n",
    "pc = ne1[ne1['NE'].str.len()<=3]\n",
    "\n",
    "percent = pc['NE'].tolist()\n",
    "\n",
    "dic = {}\n",
    "for p in percent:\n",
    "    dic[p] = dic.get(p,0)+1\n",
    "# print(dic)"
   ]
  },
  {
   "cell_type": "code",
   "execution_count": 7,
   "metadata": {},
   "outputs": [],
   "source": [
    "keys = sorted(dic.keys())\n",
    "values = []\n",
    "for i in keys:\n",
    "    values.append(dic[i])\n",
    "# values, keys\n",
    "\n",
    "keys.insert(-1,'45%')\n",
    "values.insert(-1,0)\n",
    "del keys[4]\n",
    "del values[4]\n",
    "# keys, values"
   ]
  },
  {
   "cell_type": "code",
   "execution_count": 8,
   "metadata": {},
   "outputs": [
    {
     "data": {
      "image/png": "[encoded data removed]",
      "text/plain": [
       "<Figure size 1080x504 with 1 Axes>"
      ]
     },
     "metadata": {
      "needs_background": "light"
     },
     "output_type": "display_data"
    }
   ],
   "source": [
    "\n",
    "\n",
    "plt.figure(figsize=(15,7))\n",
    "# colors = ['#1f77b4', '#ff7f0e', '#2ca02c', '#d62728', '#9467bd',\n",
    "#           '#8c564b', '#e377c2', '#7f7f7f', '#bcbd22', '#17becf']\n",
    "colors = ['#2ca02c', '#d62728', '#9467bd',\n",
    "          '#8c564b', '#e377c2', '#7f7f7f', '#bcbd22', '#17becf']\n",
    "sum_all = sum(values)\n",
    "values = np.asarray(values)/sum_all*100\n",
    "\n",
    "plt.xlabel('Discount')\n",
    "plt.ylabel('Proportion(%)')\n",
    "plt.title('Proportion of each promotion strategy')\n",
    "plt.xticks(values)\n",
    "\n",
    "plt.bar(keys, height=values, width=0.7, tick_label=keys, color=colors )\n",
    "\n",
    "for a,b in zip(keys,values):\n",
    "    plt.text(a,b,'%.2f'%b,ha='center',va='bottom',fontsize=10)\n",
    "\n"
   ]
  }
 ],
 "metadata": {
  "kernelspec": {
   "display_name": "Python 3",
   "language": "python",
   "name": "python3"
  },
  "language_info": {
   "codemirror_mode": {
    "name": "ipython",
    "version": 3
   },
   "file_extension": ".py",
   "mimetype": "text/x-python",
   "name": "python",
   "nbconvert_exporter": "python",
   "pygments_lexer": "ipython3",
   "version": "3.7.9"
  }
 },
 "nbformat": 4,
 "nbformat_minor": 2
}
