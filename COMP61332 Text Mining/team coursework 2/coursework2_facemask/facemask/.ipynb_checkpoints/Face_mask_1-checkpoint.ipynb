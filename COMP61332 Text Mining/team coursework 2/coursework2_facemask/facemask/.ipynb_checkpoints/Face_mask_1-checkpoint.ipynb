{
 "cells": [
  {
   "cell_type": "code",
   "execution_count": 1,
   "metadata": {},
   "outputs": [],
   "source": [
    "import pandas as pd\n",
    "import re"
   ]
  },
  {
   "cell_type": "code",
   "execution_count": 2,
   "metadata": {},
   "outputs": [],
   "source": [
    "sen_vec_dimension = 200"
   ]
  },
  {
   "cell_type": "code",
   "execution_count": 3,
   "metadata": {},
   "outputs": [],
   "source": [
    "df = pd.read_csv('tweet_train.csv')\n",
    "df['label'] = df['label']-1\n",
    "df.to_csv('tweet_train_new.csv')"
   ]
  },
  {
   "cell_type": "code",
   "execution_count": 4,
   "metadata": {},
   "outputs": [],
   "source": [
    "'''\n",
    "hbx\n",
    "'''\n",
    "\n",
    "'''\n",
    "get_text_and_label：\n",
    "    清理text数据\n",
    "    将清理后的text保存到tweets_clean.csv中\n",
    "    返回单独的text和label\n",
    "'''\n",
    "'''\n",
    "get_voc_and_token_of_sentences\n",
    "    得到token vocabulary和每个句子的token\n",
    "    去除包含有\"…\"的token\n",
    "'''\n",
    "\n",
    "def get_text_and_label(csvfile):\n",
    "    tweets_df = pd.read_csv(csvfile)\n",
    "    # 去除url\n",
    "    tweets_clean = tweets_df['text'].map(lambda x: re.sub('https://[a-zA-Z0-9.?/&=:]*', ' ',x))\n",
    "    # 去除@开头的\n",
    "    tweets_clean = tweets_clean.map(lambda x: re.sub('@[a-zA-Z0-9.?/&=:]*', ' ',x))\n",
    "    # 去除tag、标点符号\n",
    "    tweets_clean = tweets_clean.map(lambda x: re.sub('[,\\\\.!?#:]', ' ', x))\n",
    "    # 去除省略号\n",
    "    # tweets_clean = tweets_clean.map(lambda x: re.sub('[a-z]*', ' ', x))\n",
    "    # Remove unnecessary line breaks\n",
    "    tweets_clean = tweets_clean.map(lambda x: re.sub(r\"\\n\", '', x))\n",
    "    # Convert the titles to lowercase\n",
    "    tweets_clean = tweets_clean.map(lambda x: x.lower())\n",
    "    # 保存到csv\n",
    "    tweets_clean.to_csv('tweets_clean.csv')\n",
    "    text = pd.read_csv('tweets_clean.csv')['text']\n",
    "    label = pd.read_csv('tweet_train.csv')['label']\n",
    "    return text,label\n",
    "\n",
    "def get_text_for_testing(csvfile):\n",
    "    tweets_df = pd.read_csv(csvfile)\n",
    "    # 去除url\n",
    "    tweets_clean = tweets_df['text'].map(lambda x: re.sub('https://[a-zA-Z0-9.?/&=:]*', ' ',x))\n",
    "    # 去除@开头的\n",
    "    tweets_clean = tweets_clean.map(lambda x: re.sub('@[a-zA-Z0-9.?/&=:]*', ' ',x))\n",
    "    # 去除tag、标点符号\n",
    "    tweets_clean = tweets_clean.map(lambda x: re.sub('[,\\\\.!?#:]', ' ', x))\n",
    "    # 去除省略号\n",
    "    # tweets_clean = tweets_clean.map(lambda x: re.sub('[a-z]*', ' ', x))\n",
    "    # Remove unnecessary line breaks\n",
    "    tweets_clean = tweets_clean.map(lambda x: re.sub(r\"\\n\", '', x))\n",
    "    # Convert the titles to lowercase\n",
    "    tweets_clean = tweets_clean.map(lambda x: x.lower())\n",
    "    # 保存到csv\n",
    "    tweets_clean.to_csv('tweets_clean.csv')\n",
    "    text = pd.read_csv('tweets_clean.csv')['text']\n",
    "    return text\n",
    "    \n",
    "    \n",
    "\n",
    "def get_voc_and_token_of_sentences(text):\n",
    "    token_voc = []\n",
    "    token_of_sentences = []\n",
    "    for sent in text:\n",
    "        token_of_sentences.append(sent.split())\n",
    "        for word in sent.split():\n",
    "            token_voc.append(word)\n",
    "\n",
    "    token_voc = list(set(token_voc))\n",
    "    token_voc = [x for x in token_voc if '…' not in x]\n",
    "    for i in range(len(token_of_sentences)):\n",
    "        for word in token_of_sentences[i]:\n",
    "            if \"…\" in word:\n",
    "                token_of_sentences[i].remove(word)\n",
    "    return token_voc, token_of_sentences"
   ]
  },
  {
   "cell_type": "code",
   "execution_count": 5,
   "metadata": {},
   "outputs": [],
   "source": [
    "text,label = get_text_and_label('tweet_train.csv')\n",
    "output_text = get_text_for_testing('tweet_test.csv')"
   ]
  },
  {
   "cell_type": "code",
   "execution_count": 6,
   "metadata": {},
   "outputs": [],
   "source": [
    "from sklearn.model_selection import train_test_split\n",
    "\n",
    "sens_,sens_test,y_,y_test = train_test_split(text,label,test_size=0.1, random_state=0) \n",
    "sens_train,sens_val,y_train,y_val = train_test_split(sens_,y_,test_size=1/9, random_state=0)\n",
    "\n",
    "vocalbulary,tos_train = get_voc_and_token_of_sentences(sens_train)\n",
    "_,tos_val = get_voc_and_token_of_sentences(sens_val)\n",
    "_,tos_test = get_voc_and_token_of_sentences(sens_test)\n",
    "\n",
    "_,tos_output = get_voc_and_token_of_sentences(output_text)"
   ]
  },
  {
   "cell_type": "code",
   "execution_count": 7,
   "metadata": {},
   "outputs": [],
   "source": [
    "import numpy as np\n",
    "import torch\n",
    "\n",
    "def randomly_initialised_vectors(tokens=None):\n",
    "    wordToIx = {}\n",
    "    wordToIx['UNK'] = 0\n",
    "    i = 1\n",
    "    for token in tokens:\n",
    "        if token not in wordToIx.keys():\n",
    "            wordToIx[token] = i\n",
    "            i = i+1\n",
    "    word_vectors = []\n",
    "    for _ in wordToIx:\n",
    "        word_vectors.append(np.random.random(sen_vec_dimension))\n",
    "    word_vectors = np.array(word_vectors)\n",
    "    return word_vectors,wordToIx\n",
    "\n",
    "def make_bow_vector(tokens,wordToIdx,wordVec):\n",
    "    vec = np.zeros(sen_vec_dimension)\n",
    "    count = 0\n",
    "    for word in tokens:\n",
    "        if word in wordToIdx.keys():\n",
    "            vector = wordVec[wordToIdx[word]]\n",
    "            vec += vector\n",
    "            count+=1\n",
    "    vec = vec / count\n",
    "    vec = torch.from_numpy(vec)\n",
    "    return vec.view(1, -1)\n",
    "\n",
    "def multi_sentences_to_vectors(sentences,wordToIdx,wordVec):\n",
    "    myList = []\n",
    "    for tokens in sentences:\n",
    "        myList.append(make_bow_vector(tokens,wordToIdx,wordVec))\n",
    "    return myList"
   ]
  },
  {
   "cell_type": "code",
   "execution_count": 8,
   "metadata": {},
   "outputs": [],
   "source": [
    "word_vectors,word_to_idx = randomly_initialised_vectors(vocalbulary)\n",
    "\n",
    "sen_vec_train = multi_sentences_to_vectors(tos_train,word_to_idx,word_vectors)\n",
    "sen_vec_val = multi_sentences_to_vectors(tos_val,word_to_idx,word_vectors)\n",
    "sen_vec_test = multi_sentences_to_vectors(tos_test,word_to_idx,word_vectors)\n",
    "# use to show\n",
    "sen_vec_output = multi_sentences_to_vectors(tos_output,word_to_idx,word_vectors)"
   ]
  },
  {
   "cell_type": "code",
   "execution_count": 16,
   "metadata": {},
   "outputs": [],
   "source": [
    "import torch.nn as nn\n",
    "import torch.optim as optim\n",
    "from torch.autograd import Variable\n",
    "from torch.functional import F\n",
    "\n",
    "class QuestionClassifier(nn.Module):\n",
    "    def __init__(self, num_labels):\n",
    "        super(QuestionClassifier, self).__init__()\n",
    "        n_hidden = 1000\n",
    "        self.f1 = nn.Linear(sen_vec_dimension, num_labels)\n",
    "#         self.f2 = nn.Linear(n_hidden, num_labels)\n",
    "\n",
    "        self.double()\n",
    "        # loss\n",
    "        self.loss_function = nn.CrossEntropyLoss()\n",
    "        # optimizer\n",
    "        self.optimizer = optim.SGD(self.parameters(), lr=0.1)\n",
    "\n",
    "        self.test_vecs = []\n",
    "        self.test_label = []\n",
    "        self.label_to_ix = {}\n",
    "\n",
    "    def forward(self, input):\n",
    "        out = self.f1(input)\n",
    "#         out = F.relu(out)\n",
    "#         out = self.f2(out)\n",
    "#         out = F.softmax(out,dim=1)\n",
    "        return out\n",
    "\n",
    "    def train_model(self,sentence_vectors,labels):\n",
    "        for i in range(0, len(sentence_vectors)):\n",
    "            vector = sentence_vectors[i]\n",
    "            lab = labels.iloc[i]\n",
    "            self.zero_grad()\n",
    "            bow_vec = Variable(vector)\n",
    "            target = Variable(torch.LongTensor([lab]))\n",
    "\n",
    "            output = self(bow_vec)\n",
    "            loss = self.loss_function(output, target)\n",
    "            loss.backward()\n",
    "            self.optimizer.step()\n",
    "\n",
    "    def test_model(self, test_sentence_vectors, test_labels):\n",
    "        # calculate correct rate\n",
    "        data_size = len(test_sentence_vectors)\n",
    "        correct_num = 0\n",
    "        for i in range(len(test_labels)):\n",
    "            bow_vec = Variable(test_sentence_vectors[i])\n",
    "            label = test_labels.iloc[i]\n",
    "            output = self(bow_vec)\n",
    "\n",
    "            pre_max_poss, index = torch.max(output, 1)\n",
    "            if label == int(index):\n",
    "                correct_num += 1\n",
    "\n",
    "        return round(correct_num / data_size,4)\n",
    "    \n",
    "    def predict(self,test_sentence_vectors):\n",
    "        predict_list = []\n",
    "        for i in range(len(test_sentence_vectors)):\n",
    "            bow_vec = Variable(test_sentence_vectors[i])\n",
    "            output = self(bow_vec)\n",
    "\n",
    "            pre_max_poss, index = torch.max(output, 1)\n",
    "            predict_list.append(int(index))\n",
    "        return predict_list\n",
    "        \n",
    "        "
   ]
  },
  {
   "cell_type": "code",
   "execution_count": 20,
   "metadata": {},
   "outputs": [
    {
     "name": "stdout",
     "output_type": "stream",
     "text": [
      "epoch: 0  dev_acc:  0.3\n",
      "epoch: 1  dev_acc:  0.34\n",
      "epoch: 2  dev_acc:  0.38\n",
      "epoch: 3  dev_acc:  0.4\n",
      "epoch: 4  dev_acc:  0.43\n",
      "epoch: 5  dev_acc:  0.45\n",
      "epoch: 6  dev_acc:  0.45\n",
      "epoch: 7  dev_acc:  0.44\n",
      "epoch: 8  dev_acc:  0.43\n",
      "epoch: 9  dev_acc:  0.44\n",
      "epoch: 10  dev_acc:  0.45\n",
      "epoch: 11  dev_acc:  0.45\n",
      "epoch: 12  dev_acc:  0.44\n",
      "epoch: 13  dev_acc:  0.42\n",
      "epoch: 14  dev_acc:  0.43\n",
      "epoch: 15  dev_acc:  0.43\n",
      "epoch: 16  dev_acc:  0.44\n",
      "epoch: 17  dev_acc:  0.44\n",
      "epoch: 18  dev_acc:  0.46\n",
      "epoch: 19  dev_acc:  0.47\n"
     ]
    }
   ],
   "source": [
    "output_size = len(set(y_train))\n",
    "model = QuestionClassifier(output_size)\n",
    "for epoch in range(20):\n",
    "    model.train_model(sen_vec_train,y_train)\n",
    "    # validate the model\n",
    "    acc = model.test_model(sen_vec_val,y_val)\n",
    "    print('epoch:', epoch, ' dev_acc: ', acc)"
   ]
  },
  {
   "cell_type": "code",
   "execution_count": 21,
   "metadata": {},
   "outputs": [
    {
     "name": "stdout",
     "output_type": "stream",
     "text": [
      "test_acc:  0.59\n"
     ]
    }
   ],
   "source": [
    "acc = model.test_model(sen_vec_test,y_test)\n",
    "print('test_acc: ', acc)"
   ]
  },
  {
   "cell_type": "code",
   "execution_count": 22,
   "metadata": {},
   "outputs": [
    {
     "name": "stdout",
     "output_type": "stream",
     "text": [
      "[3, 1, 2, 1, 4, 2, 2, 2, 2, 2, 4, 1, 0, 4, 1, 2, 3, 2, 1, 0, 2, 2, 1, 1, 1, 2, 0, 1, 4, 2, 1, 1, 1, 1, 3, 3, 3, 4, 1, 4, 2, 1, 0, 1, 2, 2, 0, 1, 4, 1, 2, 4, 1, 4, 1, 2, 2, 4, 1, 1, 3, 2, 4, 4, 1, 3, 0, 2, 4, 4, 0, 2, 1, 1, 3, 1, 2, 1, 1, 3, 2, 1, 0, 1, 1, 4, 1, 1, 2, 3, 1, 0, 1, 1, 3, 4, 1, 2, 1, 2, 2, 2, 1, 1, 4, 4, 4, 3, 2, 4, 1, 4, 0, 3, 2, 1, 1, 1, 1, 2, 3, 4, 4, 1, 2, 0, 1, 4, 1, 2, 3, 2, 2, 1, 1, 4, 1, 2, 0, 2, 1, 0, 2, 1, 4, 1, 4, 4, 3, 2, 0, 3, 4, 2, 1, 1, 4, 0, 1, 1, 1, 1, 4, 2, 4, 2, 4, 2, 1, 1, 2, 0, 3, 2, 4, 4, 1, 1, 4, 4, 1, 1, 2, 4, 1, 2, 4, 0, 4, 1, 2, 1, 4, 1, 1, 2, 2, 0, 4, 1, 1, 1, 4, 1, 2, 1, 1, 2, 1, 3, 1, 1, 1, 4, 2, 2, 4, 2, 1, 4, 2, 4, 1, 3, 3, 4, 2, 1, 1, 3, 1, 1, 2, 2, 0, 0, 4, 1, 0, 2, 1, 1, 1, 1, 2, 4, 2, 4, 1, 0, 1, 1, 1, 1, 1, 1, 3, 4, 3, 1, 1, 4, 1, 4, 1, 1, 1, 4, 0, 4, 1, 2, 2, 1, 1, 1, 1, 1, 1, 4, 2, 1, 1, 0, 4, 2, 1, 1, 4, 4, 2, 4, 3, 4, 0, 1, 3, 1, 1, 1, 4, 1, 1, 2, 3, 1, 2, 1, 2, 3, 4, 1, 1, 1, 3, 1, 0, 3, 2, 1, 2, 1, 1, 1, 2, 2, 4, 1, 1, 2, 4, 1, 2, 1, 0, 1, 1, 4, 3, 1, 0, 2, 1, 3, 4, 1, 4, 1, 1, 1, 3, 1, 4, 3, 2, 0, 4, 1, 3, 2, 4, 1, 4, 1, 1, 1, 1, 4, 1, 0, 1, 2, 2, 2, 2, 1, 4, 1, 2, 1, 1, 4, 4, 4, 4, 4, 1, 3, 1, 1, 3, 1, 0, 4, 1, 1, 2, 2, 4, 1, 1, 1, 1, 1, 3, 2, 3, 4, 2, 4, 1, 2, 1, 2, 1, 2, 1, 4, 4, 1, 1, 3, 0, 2, 1, 1, 3, 2, 4, 4, 1, 4, 1, 2, 1, 1, 1, 1, 1, 4, 2, 0, 1, 1, 3, 2, 2, 4, 2, 1, 1, 2, 4, 4, 3, 2, 0, 2, 2, 2, 0, 2, 1, 1, 1, 1, 1, 1, 4, 2, 4, 1, 4, 2, 2, 2, 4, 0, 1, 4, 1, 2, 3, 0, 3, 2, 0, 2, 1, 2, 0, 1, 3, 4, 4, 2, 4, 1, 4, 1, 1, 4, 4, 0, 4, 2, 1, 2, 4, 1, 4, 2, 0, 1, 1, 3, 0, 4, 2, 4, 1, 4, 1, 1, 4, 4, 4, 2, 2, 4, 4, 2, 2, 1, 2, 2, 1, 2, 1, 4, 1, 0, 1, 4, 4, 3, 4, 4, 3, 0, 4, 1, 4, 0, 2, 2, 2, 4, 2, 1, 4, 3, 2, 2, 2, 1, 1, 0, 4, 2, 4, 1, 2, 2, 4, 4, 1, 2, 2, 1, 2, 2, 2, 1, 4, 2, 2, 4, 4, 1, 2, 2, 1, 0, 3, 1, 1, 4, 4, 1, 4, 4, 2, 1, 1, 1, 1, 1, 4, 2, 1, 4, 1, 4, 2, 2, 4, 1, 3, 3, 2, 2, 2, 2, 2, 1, 1, 2, 2, 1, 1, 1, 1, 1, 1, 1, 1, 1, 2, 2, 1, 0, 2, 2, 1, 1, 4, 2, 2, 2, 2, 1, 1, 4, 3, 1, 4, 0, 2, 0, 2, 1, 4, 0, 1, 1, 1, 1, 4, 1, 4, 4, 1, 1, 1, 2, 1, 1, 0, 1, 1, 1, 1, 1, 4, 4, 4, 0, 0, 2, 2, 2, 2, 1, 4, 4, 1, 1, 2, 2, 1, 4, 0, 4, 1, 1, 1, 1, 2, 3, 4, 2, 1, 1, 1, 1, 1, 0, 1, 1, 1, 1, 4, 1, 1, 1, 1, 4, 1, 4, 1, 2, 2, 2, 2, 4, 1, 1, 1, 1, 2, 0, 0, 1, 4, 2, 1, 3, 1, 4, 1, 2, 1, 1, 4, 4, 3, 1, 0, 4, 4, 2, 2, 1, 1, 2, 1, 3, 1, 4, 4, 4, 4, 0, 1, 2, 1, 1, 1, 2, 1, 4, 1, 1, 2, 3, 1, 4, 2, 4, 1, 1, 3, 1, 4, 1, 0, 0, 2, 1, 0, 3, 1, 4, 3, 1, 1, 2, 3, 2, 2, 4, 2, 1, 1, 1, 1, 4, 4, 2, 2, 1, 4, 1, 1, 2, 1, 4, 1, 1, 1]\n"
     ]
    }
   ],
   "source": [
    "print(model.predict(sen_vec_output))"
   ]
  },
  {
   "cell_type": "code",
   "execution_count": null,
   "metadata": {},
   "outputs": [],
   "source": []
  }
 ],
 "metadata": {
  "kernelspec": {
   "display_name": "Python 3",
   "language": "python",
   "name": "python3"
  },
  "language_info": {
   "codemirror_mode": {
    "name": "ipython",
    "version": 3
   },
   "file_extension": ".py",
   "mimetype": "text/x-python",
   "name": "python",
   "nbconvert_exporter": "python",
   "pygments_lexer": "ipython3",
   "version": "3.8.3"
  }
 },
 "nbformat": 4,
 "nbformat_minor": 2
}
