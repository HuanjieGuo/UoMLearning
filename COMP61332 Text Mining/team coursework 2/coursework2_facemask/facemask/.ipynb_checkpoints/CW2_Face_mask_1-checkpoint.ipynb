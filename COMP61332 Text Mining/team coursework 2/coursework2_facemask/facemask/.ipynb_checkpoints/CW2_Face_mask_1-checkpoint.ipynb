{
 "cells": [
  {
   "cell_type": "markdown",
   "metadata": {},
   "source": [
    "# Preparation"
   ]
  },
  {
   "cell_type": "markdown",
   "metadata": {},
   "source": [
    "## Library installation/import"
   ]
  },
  {
   "cell_type": "markdown",
   "metadata": {},
   "source": [
    "Install and import libraries that are used in multiple sections of the pipeline."
   ]
  },
  {
   "cell_type": "code",
   "execution_count": 1,
   "metadata": {},
   "outputs": [],
   "source": [
    "import pandas as pd"
   ]
  },
  {
   "cell_type": "markdown",
   "metadata": {},
   "source": [
    "## Configuring Twitter API keys"
   ]
  },
  {
   "cell_type": "code",
   "execution_count": 2,
   "metadata": {},
   "outputs": [
    {
     "name": "stdout",
     "output_type": "stream",
     "text": [
      "Collecting tweepy\n",
      "  Using cached tweepy-3.10.0-py2.py3-none-any.whl (30 kB)\n",
      "Requirement already satisfied: requests[socks]>=2.11.1 in /opt/anaconda3/lib/python3.8/site-packages (from tweepy) (2.24.0)\n",
      "Collecting requests-oauthlib>=0.7.0\n",
      "  Using cached requests_oauthlib-1.3.0-py2.py3-none-any.whl (23 kB)\n",
      "Requirement already satisfied: six>=1.10.0 in /opt/anaconda3/lib/python3.8/site-packages (from tweepy) (1.15.0)\n",
      "Requirement already satisfied: idna<3,>=2.5 in /opt/anaconda3/lib/python3.8/site-packages (from requests[socks]>=2.11.1->tweepy) (2.10)\n",
      "Requirement already satisfied: urllib3!=1.25.0,!=1.25.1,<1.26,>=1.21.1 in /opt/anaconda3/lib/python3.8/site-packages (from requests[socks]>=2.11.1->tweepy) (1.25.9)\n",
      "Requirement already satisfied: chardet<4,>=3.0.2 in /opt/anaconda3/lib/python3.8/site-packages (from requests[socks]>=2.11.1->tweepy) (3.0.4)\n",
      "Requirement already satisfied: certifi>=2017.4.17 in /opt/anaconda3/lib/python3.8/site-packages (from requests[socks]>=2.11.1->tweepy) (2020.6.20)\n",
      "Requirement already satisfied: PySocks!=1.5.7,>=1.5.6; extra == \"socks\" in /opt/anaconda3/lib/python3.8/site-packages (from requests[socks]>=2.11.1->tweepy) (1.7.1)\n",
      "Collecting oauthlib>=3.0.0\n",
      "  Using cached oauthlib-3.1.0-py2.py3-none-any.whl (147 kB)\n",
      "Installing collected packages: oauthlib, requests-oauthlib, tweepy\n",
      "Successfully installed oauthlib-3.1.0 requests-oauthlib-1.3.0 tweepy-3.10.0\n"
     ]
    }
   ],
   "source": [
    "!pip install tweepy"
   ]
  },
  {
   "cell_type": "code",
   "execution_count": 3,
   "metadata": {},
   "outputs": [],
   "source": [
    "import tweepy\n",
    "\n",
    "#Rebekah's Key\n",
    "consumer_key= '7GYKP9vhB48GakdRpiC84VhSw'\n",
    "consumer_secret= '0Ovma9IxGjgQIJogPyTTTyvO6egw7uc3xwOutui0FCFAly4jd8'\n",
    "access_token= '1373292834120478721-kWV2e3CAKAI9cfVIFJhzur2UMULmyX'\n",
    "access_token_secret= 'LDSAIJKtnVjnc3CjgtHOZCP988oIpz0lLnmzjprU2IwZt'\n",
    "\n",
    "#Riza's Key\n",
    "#consumer_key= '7udmMgkPoaPPiWQ6GKHONihby'\n",
    "#consumer_secret= 'pWZISm84iJazudbuulEvw5tn6Ayo1A0IOXQw86fhscx6aylfaJ'\n",
    "#access_token= '1368127768102375428-rskpQBqbCtWCPWACaqcH6GVkxJCgd7'\n",
    "#access_token_secret= 'J2SbLFgsRjAp9ZiZi1dQXjM0HXpIkXvyyBmWUrobT6P4g'\n",
    "\n",
    "auth = tweepy.OAuthHandler(consumer_key, consumer_secret)\n",
    "auth.set_access_token(access_token, access_token_secret)\n",
    "\n",
    "api = tweepy.API(auth, wait_on_rate_limit=True, wait_on_rate_limit_notify=True)\n",
    "\n",
    "#auth = tweepy.OAuthHandler('7udmMgkPoaPPiWQ6GKHONihby', 'pWZISm84iJazudbuulEvw5tn6Ayo1A0IOXQw86fhscx6aylfaJ')\n",
    "#auth.set_access_token('1368127768102375428-rskpQBqbCtWCPWACaqcH6GVkxJCgd7', 'J2SbLFgsRjAp9ZiZi1dQXjM0HXpIkXvyyBmWUrobT6P4g')\n",
    "#api = tweepy.API(auth, wait_on_rate_limit=True, wait_on_rate_limit_notify=True)"
   ]
  },
  {
   "cell_type": "markdown",
   "metadata": {},
   "source": [
    "## Downloading of new data set"
   ]
  },
  {
   "cell_type": "markdown",
   "metadata": {},
   "source": [
    "In This coursework, our topic is \"What are people's considerations for the selection of protective products\". Therefore, we add \"#facemask\" into the query list. The date of collection is from 2021-03-17 to 2021-03-24."
   ]
  },
  {
   "cell_type": "code",
   "execution_count": 4,
   "metadata": {},
   "outputs": [],
   "source": [
    "# Collect tweets\n",
    "query = \"#facemasks\" + \" -filter:retweets\"\n",
    "\n",
    "cutoff_date = \"2021-03-21\"\n",
    "end_date = \"2021-03-22\"\n",
    "\n",
    "tweets = tweepy.Cursor(api.search, q=query, lang=\"en\", since=cutoff_date,until = end_date).items(1000)\n",
    "\n",
    "tweets_list = [[tweet.created_at, tweet.user.screen_name, tweet.user.location, tweet.text] for tweet in tweets]\n",
    "\n",
    "tweets_df = pd.DataFrame(data=tweets_list, columns=['date', 'user', 'location', 'text'])\n",
    "\n",
    "# A good idea to save downloaded tweets as CSV\n",
    "tweets_df.to_csv ('current_set.csv', quotechar='\"', encoding='utf8', index = False, header=True)"
   ]
  },
  {
   "cell_type": "markdown",
   "metadata": {},
   "source": [
    "After downloading data from twitter, we manually labelled those text into five class\n",
    "- 0 other\n",
    "- 1 protective effect\n",
    "- 2 appearance\n",
    "- 3 price\n",
    "- 4 material\n",
    "\n",
    "\n",
    "Then, we saved those labelled data into 'tweet_train.csv'"
   ]
  },
  {
   "cell_type": "markdown",
   "metadata": {},
   "source": [
    "# Data pre-processing"
   ]
  },
  {
   "cell_type": "markdown",
   "metadata": {},
   "source": [
    "## Data Cleaning"
   ]
  },
  {
   "cell_type": "code",
   "execution_count": 5,
   "metadata": {},
   "outputs": [],
   "source": [
    "import pandas as pd\n",
    "import re"
   ]
  },
  {
   "cell_type": "code",
   "execution_count": 6,
   "metadata": {},
   "outputs": [],
   "source": [
    "sen_vec_dimension = 200"
   ]
  },
  {
   "cell_type": "code",
   "execution_count": 7,
   "metadata": {},
   "outputs": [],
   "source": [
    "df = pd.read_csv('tweet_train.csv')\n",
    "df['label'] = df['label']-1\n",
    "df.to_csv('tweet_train_new.csv')"
   ]
  },
  {
   "cell_type": "code",
   "execution_count": 8,
   "metadata": {},
   "outputs": [],
   "source": [
    "'''\n",
    "get_text_and_label：\n",
    "    清理text数据\n",
    "    将清理后的text保存到tweets_clean.csv中\n",
    "    返回单独的text和label\n",
    "'''\n",
    "def get_text_and_label(csvfile):\n",
    "    tweets_df = pd.read_csv(csvfile)\n",
    "    # 去除url\n",
    "    tweets_clean = tweets_df['text'].map(lambda x: re.sub('https://[a-zA-Z0-9.?/&=:]*', ' ',x))\n",
    "    # 去除@开头的\n",
    "    tweets_clean = tweets_clean.map(lambda x: re.sub('@[a-zA-Z0-9.?/&=:]*', ' ',x))\n",
    "    # 去除tag、标点符号\n",
    "    tweets_clean = tweets_clean.map(lambda x: re.sub('[,\\\\.!?#:]', ' ', x))\n",
    "    # 去除省略号\n",
    "    # tweets_clean = tweets_clean.map(lambda x: re.sub('[a-z]*', ' ', x))\n",
    "    # Remove unnecessary line breaks\n",
    "    tweets_clean = tweets_clean.map(lambda x: re.sub(r\"\\n\", '', x))\n",
    "    # Convert the titles to lowercase\n",
    "    tweets_clean = tweets_clean.map(lambda x: x.lower())\n",
    "    # 保存到csv\n",
    "    tweets_clean.to_csv('tweets_clean.csv')\n",
    "    text = pd.read_csv('tweets_clean.csv')['text']\n",
    "    label = pd.read_csv('tweet_train.csv')['label']\n",
    "    return text,label\n",
    "\n",
    "\n",
    "'''\n",
    "get_voc_and_token_of_sentences\n",
    "    得到token vocabulary和每个句子的token\n",
    "    去除包含有\"…\"的token\n",
    "'''\n",
    "def get_text_for_testing(csvfile):\n",
    "    tweets_df = pd.read_csv(csvfile)\n",
    "    # 去除url\n",
    "    tweets_clean = tweets_df['text'].map(lambda x: re.sub('https://[a-zA-Z0-9.?/&=:]*', ' ',x))\n",
    "    # 去除@开头的\n",
    "    tweets_clean = tweets_clean.map(lambda x: re.sub('@[a-zA-Z0-9.?/&=:]*', ' ',x))\n",
    "    # 去除tag、标点符号\n",
    "    tweets_clean = tweets_clean.map(lambda x: re.sub('[,\\\\.!?#:]', ' ', x))\n",
    "    # 去除省略号\n",
    "    # tweets_clean = tweets_clean.map(lambda x: re.sub('[a-z]*', ' ', x))\n",
    "    # Remove unnecessary line breaks\n",
    "    tweets_clean = tweets_clean.map(lambda x: re.sub(r\"\\n\", '', x))\n",
    "    # Convert the titles to lowercase\n",
    "    tweets_clean = tweets_clean.map(lambda x: x.lower())\n",
    "    # 保存到csv\n",
    "    tweets_clean.to_csv('tweets_clean.csv')\n",
    "    text = pd.read_csv('tweets_clean.csv')['text']\n",
    "    return text\n",
    "    \n",
    "    \n",
    "\n",
    "def get_voc_and_token_of_sentences(text):\n",
    "    token_voc = []\n",
    "    token_of_sentences = []\n",
    "    for sent in text:\n",
    "        token_of_sentences.append(sent.split())\n",
    "        for word in sent.split():\n",
    "            token_voc.append(word)\n",
    "\n",
    "    token_voc = list(set(token_voc))\n",
    "    token_voc = [x for x in token_voc if '…' not in x]\n",
    "    for i in range(len(token_of_sentences)):\n",
    "        for word in token_of_sentences[i]:\n",
    "            if \"…\" in word:\n",
    "                token_of_sentences[i].remove(word)\n",
    "    return token_voc, token_of_sentences"
   ]
  },
  {
   "cell_type": "code",
   "execution_count": 9,
   "metadata": {},
   "outputs": [],
   "source": [
    "text,label = get_text_and_label('tweet_train.csv')\n",
    "output_text = get_text_for_testing('tweet_test.csv')"
   ]
  },
  {
   "cell_type": "markdown",
   "metadata": {},
   "source": [
    "## Data Spliting"
   ]
  },
  {
   "cell_type": "code",
   "execution_count": 10,
   "metadata": {},
   "outputs": [],
   "source": [
    "from sklearn.model_selection import train_test_split\n",
    "\n",
    "sens_,sens_test,y_,y_test = train_test_split(text,label,test_size=0.1, random_state=0) \n",
    "sens_train,sens_val,y_train,y_val = train_test_split(sens_,y_,test_size=1/9, random_state=0)\n",
    "\n",
    "vocalbulary,tos_train = get_voc_and_token_of_sentences(sens_train)\n",
    "_,tos_val = get_voc_and_token_of_sentences(sens_val)\n",
    "_,tos_test = get_voc_and_token_of_sentences(sens_test)\n",
    "\n",
    "_,tos_output = get_voc_and_token_of_sentences(output_text)"
   ]
  },
  {
   "cell_type": "markdown",
   "metadata": {},
   "source": [
    "## Exploration using a word cloud"
   ]
  },
  {
   "cell_type": "markdown",
   "metadata": {},
   "source": [
    "Generating a word cloud is one way by which you can check whether your data needs any further cleaning."
   ]
  },
  {
   "cell_type": "code",
   "execution_count": 11,
   "metadata": {},
   "outputs": [
    {
     "name": "stdout",
     "output_type": "stream",
     "text": [
      "Collecting wordcloud\n",
      "  Downloading wordcloud-1.8.1.tar.gz (220 kB)\n",
      "\u001b[K     |████████████████████████████████| 220 kB 6.5 MB/s eta 0:00:01\n",
      "\u001b[?25hRequirement already satisfied: numpy>=1.6.1 in /opt/anaconda3/lib/python3.8/site-packages (from wordcloud) (1.20.1)\n",
      "Requirement already satisfied: pillow in /opt/anaconda3/lib/python3.8/site-packages (from wordcloud) (7.2.0)\n",
      "Requirement already satisfied: matplotlib in /opt/anaconda3/lib/python3.8/site-packages (from wordcloud) (3.2.2)\n",
      "Requirement already satisfied: pyparsing!=2.0.4,!=2.1.2,!=2.1.6,>=2.0.1 in /opt/anaconda3/lib/python3.8/site-packages (from matplotlib->wordcloud) (2.4.7)\n",
      "Requirement already satisfied: kiwisolver>=1.0.1 in /opt/anaconda3/lib/python3.8/site-packages (from matplotlib->wordcloud) (1.2.0)\n",
      "Requirement already satisfied: python-dateutil>=2.1 in /opt/anaconda3/lib/python3.8/site-packages (from matplotlib->wordcloud) (2.8.1)\n",
      "Requirement already satisfied: cycler>=0.10 in /opt/anaconda3/lib/python3.8/site-packages (from matplotlib->wordcloud) (0.10.0)\n",
      "Requirement already satisfied: six>=1.5 in /opt/anaconda3/lib/python3.8/site-packages (from python-dateutil>=2.1->matplotlib->wordcloud) (1.15.0)\n",
      "Building wheels for collected packages: wordcloud\n",
      "  Building wheel for wordcloud (setup.py) ... \u001b[?25lerror\n",
      "\u001b[31m  ERROR: Command errored out with exit status 1:\n",
      "   command: /opt/anaconda3/bin/python -u -c 'import sys, setuptools, tokenize; sys.argv[0] = '\"'\"'/private/var/folders/m7/zvtylxnd4nn2mn3cmwxc_h980000gn/T/pip-install-fhl572t6/wordcloud/setup.py'\"'\"'; __file__='\"'\"'/private/var/folders/m7/zvtylxnd4nn2mn3cmwxc_h980000gn/T/pip-install-fhl572t6/wordcloud/setup.py'\"'\"';f=getattr(tokenize, '\"'\"'open'\"'\"', open)(__file__);code=f.read().replace('\"'\"'\\r\\n'\"'\"', '\"'\"'\\n'\"'\"');f.close();exec(compile(code, __file__, '\"'\"'exec'\"'\"'))' bdist_wheel -d /private/var/folders/m7/zvtylxnd4nn2mn3cmwxc_h980000gn/T/pip-wheel-gb9ajvwk\n",
      "       cwd: /private/var/folders/m7/zvtylxnd4nn2mn3cmwxc_h980000gn/T/pip-install-fhl572t6/wordcloud/\n",
      "  Complete output (24 lines):\n",
      "  running bdist_wheel\n",
      "  running build\n",
      "  running build_py\n",
      "  creating build\n",
      "  creating build/lib.macosx-10.9-x86_64-3.8\n",
      "  creating build/lib.macosx-10.9-x86_64-3.8/wordcloud\n",
      "  copying wordcloud/wordcloud_cli.py -> build/lib.macosx-10.9-x86_64-3.8/wordcloud\n",
      "  copying wordcloud/_version.py -> build/lib.macosx-10.9-x86_64-3.8/wordcloud\n",
      "  copying wordcloud/__init__.py -> build/lib.macosx-10.9-x86_64-3.8/wordcloud\n",
      "  copying wordcloud/tokenization.py -> build/lib.macosx-10.9-x86_64-3.8/wordcloud\n",
      "  copying wordcloud/wordcloud.py -> build/lib.macosx-10.9-x86_64-3.8/wordcloud\n",
      "  copying wordcloud/color_from_image.py -> build/lib.macosx-10.9-x86_64-3.8/wordcloud\n",
      "  copying wordcloud/__main__.py -> build/lib.macosx-10.9-x86_64-3.8/wordcloud\n",
      "  copying wordcloud/stopwords -> build/lib.macosx-10.9-x86_64-3.8/wordcloud\n",
      "  copying wordcloud/DroidSansMono.ttf -> build/lib.macosx-10.9-x86_64-3.8/wordcloud\n",
      "  UPDATING build/lib.macosx-10.9-x86_64-3.8/wordcloud/_version.py\n",
      "  set build/lib.macosx-10.9-x86_64-3.8/wordcloud/_version.py to '1.8.1'\n",
      "  running build_ext\n",
      "  building 'wordcloud.query_integral_image' extension\n",
      "  creating build/temp.macosx-10.9-x86_64-3.8\n",
      "  creating build/temp.macosx-10.9-x86_64-3.8/wordcloud\n",
      "  gcc -Wno-unused-result -Wsign-compare -Wunreachable-code -DNDEBUG -g -fwrapv -O3 -Wall -Wstrict-prototypes -I/opt/anaconda3/include -arch x86_64 -I/opt/anaconda3/include -arch x86_64 -I/opt/anaconda3/include/python3.8 -c wordcloud/query_integral_image.c -o build/temp.macosx-10.9-x86_64-3.8/wordcloud/query_integral_image.o\n",
      "  xcrun: error: invalid active developer path (/Library/Developer/CommandLineTools), missing xcrun at: /Library/Developer/CommandLineTools/usr/bin/xcrun\n",
      "  error: command 'gcc' failed with exit status 1\n",
      "  ----------------------------------------\u001b[0m\n",
      "\u001b[31m  ERROR: Failed building wheel for wordcloud\u001b[0m\n",
      "\u001b[?25h  Running setup.py clean for wordcloud\n",
      "Failed to build wordcloud\n",
      "Installing collected packages: wordcloud\n",
      "    Running setup.py install for wordcloud ... \u001b[?25lerror\n",
      "\u001b[31m    ERROR: Command errored out with exit status 1:\n",
      "     command: /opt/anaconda3/bin/python -u -c 'import sys, setuptools, tokenize; sys.argv[0] = '\"'\"'/private/var/folders/m7/zvtylxnd4nn2mn3cmwxc_h980000gn/T/pip-install-fhl572t6/wordcloud/setup.py'\"'\"'; __file__='\"'\"'/private/var/folders/m7/zvtylxnd4nn2mn3cmwxc_h980000gn/T/pip-install-fhl572t6/wordcloud/setup.py'\"'\"';f=getattr(tokenize, '\"'\"'open'\"'\"', open)(__file__);code=f.read().replace('\"'\"'\\r\\n'\"'\"', '\"'\"'\\n'\"'\"');f.close();exec(compile(code, __file__, '\"'\"'exec'\"'\"'))' install --record /private/var/folders/m7/zvtylxnd4nn2mn3cmwxc_h980000gn/T/pip-record-_jsbu373/install-record.txt --single-version-externally-managed --compile --install-headers /opt/anaconda3/include/python3.8/wordcloud\n",
      "         cwd: /private/var/folders/m7/zvtylxnd4nn2mn3cmwxc_h980000gn/T/pip-install-fhl572t6/wordcloud/\n",
      "    Complete output (24 lines):\n",
      "    running install\n",
      "    running build\n",
      "    running build_py\n",
      "    creating build\n",
      "    creating build/lib.macosx-10.9-x86_64-3.8\n",
      "    creating build/lib.macosx-10.9-x86_64-3.8/wordcloud\n",
      "    copying wordcloud/wordcloud_cli.py -> build/lib.macosx-10.9-x86_64-3.8/wordcloud\n",
      "    copying wordcloud/_version.py -> build/lib.macosx-10.9-x86_64-3.8/wordcloud\n",
      "    copying wordcloud/__init__.py -> build/lib.macosx-10.9-x86_64-3.8/wordcloud\n",
      "    copying wordcloud/tokenization.py -> build/lib.macosx-10.9-x86_64-3.8/wordcloud\n",
      "    copying wordcloud/wordcloud.py -> build/lib.macosx-10.9-x86_64-3.8/wordcloud\n",
      "    copying wordcloud/color_from_image.py -> build/lib.macosx-10.9-x86_64-3.8/wordcloud\n",
      "    copying wordcloud/__main__.py -> build/lib.macosx-10.9-x86_64-3.8/wordcloud\n",
      "    copying wordcloud/stopwords -> build/lib.macosx-10.9-x86_64-3.8/wordcloud\n",
      "    copying wordcloud/DroidSansMono.ttf -> build/lib.macosx-10.9-x86_64-3.8/wordcloud\n",
      "    UPDATING build/lib.macosx-10.9-x86_64-3.8/wordcloud/_version.py\n",
      "    set build/lib.macosx-10.9-x86_64-3.8/wordcloud/_version.py to '1.8.1'\n",
      "    running build_ext\n",
      "    building 'wordcloud.query_integral_image' extension\n",
      "    creating build/temp.macosx-10.9-x86_64-3.8\n",
      "    creating build/temp.macosx-10.9-x86_64-3.8/wordcloud\n",
      "    gcc -Wno-unused-result -Wsign-compare -Wunreachable-code -DNDEBUG -g -fwrapv -O3 -Wall -Wstrict-prototypes -I/opt/anaconda3/include -arch x86_64 -I/opt/anaconda3/include -arch x86_64 -I/opt/anaconda3/include/python3.8 -c wordcloud/query_integral_image.c -o build/temp.macosx-10.9-x86_64-3.8/wordcloud/query_integral_image.o\n",
      "    xcrun: error: invalid active developer path (/Library/Developer/CommandLineTools), missing xcrun at: /Library/Developer/CommandLineTools/usr/bin/xcrun\n",
      "    error: command 'gcc' failed with exit status 1\n",
      "    ----------------------------------------\u001b[0m\n",
      "\u001b[31mERROR: Command errored out with exit status 1: /opt/anaconda3/bin/python -u -c 'import sys, setuptools, tokenize; sys.argv[0] = '\"'\"'/private/var/folders/m7/zvtylxnd4nn2mn3cmwxc_h980000gn/T/pip-install-fhl572t6/wordcloud/setup.py'\"'\"'; __file__='\"'\"'/private/var/folders/m7/zvtylxnd4nn2mn3cmwxc_h980000gn/T/pip-install-fhl572t6/wordcloud/setup.py'\"'\"';f=getattr(tokenize, '\"'\"'open'\"'\"', open)(__file__);code=f.read().replace('\"'\"'\\r\\n'\"'\"', '\"'\"'\\n'\"'\"');f.close();exec(compile(code, __file__, '\"'\"'exec'\"'\"'))' install --record /private/var/folders/m7/zvtylxnd4nn2mn3cmwxc_h980000gn/T/pip-record-_jsbu373/install-record.txt --single-version-externally-managed --compile --install-headers /opt/anaconda3/include/python3.8/wordcloud Check the logs for full command output.\u001b[0m\n",
      "\u001b[?25h"
     ]
    }
   ],
   "source": [
    "!pip install wordcloud"
   ]
  },
  {
   "cell_type": "code",
   "execution_count": 12,
   "metadata": {},
   "outputs": [
    {
     "data": {
      "image/png": "[encoded data removed]",
      "text/plain": [
       "<PIL.Image.Image image mode=RGB size=400x200 at 0x7FF89A22B390>"
      ]
     },
     "execution_count": 12,
     "metadata": {},
     "output_type": "execute_result"
    }
   ],
   "source": [
    "from wordcloud import WordCloud\n",
    "unique_tweets = list(set(list(text.values)))\n",
    "unique_tweets = [t for t in unique_tweets if t]\n",
    "\n",
    "# print(unique_tweets)\n",
    "\n",
    "# join the words of the different tweets together into one string\n",
    "long_string = ' '.join(unique_tweets)\n",
    "new_long_string = ' '.join(set(long_string.split(\" \")))\n",
    "\n",
    "# create a WordCloud object\n",
    "wordcloud = WordCloud(background_color=\"white\", max_words=1000, contour_width=3, contour_color='steelblue')\n",
    "\n",
    "# generate a word cloud\n",
    "wordcloud.generate(new_long_string)\n",
    "\n",
    "# visualize the word cloud\n",
    "wordcloud.to_image()"
   ]
  },
  {
   "cell_type": "markdown",
   "metadata": {},
   "source": [
    "# Convert Text to Vectors"
   ]
  },
  {
   "cell_type": "code",
   "execution_count": 13,
   "metadata": {},
   "outputs": [],
   "source": [
    "import numpy as np\n",
    "import torch"
   ]
  },
  {
   "cell_type": "markdown",
   "metadata": {},
   "source": [
    "## Word Embedding"
   ]
  },
  {
   "cell_type": "code",
   "execution_count": 14,
   "metadata": {},
   "outputs": [],
   "source": [
    "def randomly_initialised_vectors(tokens=None):\n",
    "    wordToIx = {}\n",
    "    wordToIx['UNK'] = 0\n",
    "    i = 1\n",
    "    for token in tokens:\n",
    "        if token not in wordToIx.keys():\n",
    "            wordToIx[token] = i\n",
    "            i = i+1\n",
    "    word_vectors = []\n",
    "    for _ in wordToIx:\n",
    "        word_vectors.append(np.random.random(sen_vec_dimension))\n",
    "    word_vectors = np.array(word_vectors)\n",
    "    return word_vectors,wordToIx"
   ]
  },
  {
   "cell_type": "markdown",
   "metadata": {},
   "source": [
    "## Sentence Representation"
   ]
  },
  {
   "cell_type": "code",
   "execution_count": 15,
   "metadata": {},
   "outputs": [],
   "source": [
    "def make_bow_vector(tokens,wordToIdx,wordVec):\n",
    "    vec = np.zeros(sen_vec_dimension)\n",
    "    count = 0\n",
    "    for word in tokens:\n",
    "        if word in wordToIdx.keys():\n",
    "            vector = wordVec[wordToIdx[word]]\n",
    "            vec += vector\n",
    "            count+=1\n",
    "    vec = vec / count\n",
    "    vec = torch.from_numpy(vec)\n",
    "    return vec.view(1, -1)\n",
    "\n",
    "def multi_sentences_to_vectors(sentences,wordToIdx,wordVec):\n",
    "    myList = []\n",
    "    for tokens in sentences:\n",
    "        myList.append(make_bow_vector(tokens,wordToIdx,wordVec))\n",
    "    return myList"
   ]
  },
  {
   "cell_type": "code",
   "execution_count": 16,
   "metadata": {},
   "outputs": [],
   "source": [
    "word_vectors,word_to_idx = randomly_initialised_vectors(vocalbulary)\n",
    "\n",
    "sen_vec_train = multi_sentences_to_vectors(tos_train,word_to_idx,word_vectors)\n",
    "sen_vec_val = multi_sentences_to_vectors(tos_val,word_to_idx,word_vectors)\n",
    "sen_vec_test = multi_sentences_to_vectors(tos_test,word_to_idx,word_vectors)\n",
    "# use to show\n",
    "sen_vec_output = multi_sentences_to_vectors(tos_output,word_to_idx,word_vectors)"
   ]
  },
  {
   "cell_type": "markdown",
   "metadata": {},
   "source": [
    "# Classifier"
   ]
  },
  {
   "cell_type": "code",
   "execution_count": 17,
   "metadata": {},
   "outputs": [],
   "source": [
    "import torch.nn as nn\n",
    "import torch.optim as optim\n",
    "from torch.autograd import Variable\n",
    "from torch.functional import F\n",
    "\n",
    "class QuestionClassifier(nn.Module):\n",
    "    def __init__(self, num_labels):\n",
    "        super(QuestionClassifier, self).__init__()\n",
    "        n_hidden = 1000\n",
    "        self.f1 = nn.Linear(sen_vec_dimension, num_labels)\n",
    "#         self.f2 = nn.Linear(n_hidden, num_labels)\n",
    "\n",
    "        self.double()\n",
    "        # loss\n",
    "        self.loss_function = nn.CrossEntropyLoss()\n",
    "        # optimizer\n",
    "        self.optimizer = optim.SGD(self.parameters(), lr=0.1)\n",
    "\n",
    "        self.test_vecs = []\n",
    "        self.test_label = []\n",
    "        self.label_to_ix = {}\n",
    "\n",
    "    def forward(self, input):\n",
    "        out = self.f1(input)\n",
    "#         out = F.relu(out)\n",
    "#         out = self.f2(out)\n",
    "#         out = F.softmax(out,dim=1)\n",
    "        return out\n",
    "\n",
    "    def train_model(self,sentence_vectors,labels):\n",
    "        for i in range(0, len(sentence_vectors)):\n",
    "            vector = sentence_vectors[i]\n",
    "            lab = labels.iloc[i]\n",
    "            self.zero_grad()\n",
    "            bow_vec = Variable(vector)\n",
    "            target = Variable(torch.LongTensor([lab]))\n",
    "\n",
    "            output = self(bow_vec)\n",
    "            loss = self.loss_function(output, target)\n",
    "            loss.backward()\n",
    "            self.optimizer.step()\n",
    "\n",
    "    def test_model(self, test_sentence_vectors, test_labels):\n",
    "        # calculate correct rate\n",
    "        data_size = len(test_sentence_vectors)\n",
    "        correct_num = 0\n",
    "        for i in range(len(test_labels)):\n",
    "            bow_vec = Variable(test_sentence_vectors[i])\n",
    "            label = test_labels.iloc[i]\n",
    "            output = self(bow_vec)\n",
    "\n",
    "            pre_max_poss, index = torch.max(output, 1)\n",
    "            if label == int(index):\n",
    "                correct_num += 1\n",
    "\n",
    "        return round(correct_num / data_size,4)\n",
    "    \n",
    "    def predict(self,test_sentence_vectors):\n",
    "        predict_list = []\n",
    "        for i in range(len(test_sentence_vectors)):\n",
    "            bow_vec = Variable(test_sentence_vectors[i])\n",
    "            output = self(bow_vec)\n",
    "\n",
    "            pre_max_poss, index = torch.max(output, 1)\n",
    "            predict_list.append(int(index))\n",
    "        return predict_list"
   ]
  },
  {
   "cell_type": "markdown",
   "metadata": {},
   "source": [
    "## Training"
   ]
  },
  {
   "cell_type": "code",
   "execution_count": 18,
   "metadata": {},
   "outputs": [
    {
     "name": "stdout",
     "output_type": "stream",
     "text": [
      "epoch: 0  dev_acc:  0.32\n",
      "epoch: 1  dev_acc:  0.33\n",
      "epoch: 2  dev_acc:  0.33\n",
      "epoch: 3  dev_acc:  0.4\n",
      "epoch: 4  dev_acc:  0.46\n",
      "epoch: 5  dev_acc:  0.46\n",
      "epoch: 6  dev_acc:  0.49\n",
      "epoch: 7  dev_acc:  0.5\n",
      "epoch: 8  dev_acc:  0.49\n",
      "epoch: 9  dev_acc:  0.47\n"
     ]
    }
   ],
   "source": [
    "output_size = len(set(y_train))\n",
    "model = QuestionClassifier(output_size)\n",
    "for epoch in range(10):\n",
    "    model.train_model(sen_vec_train,y_train)\n",
    "    # validate the model\n",
    "    acc = model.test_model(sen_vec_val,y_val)\n",
    "    print('epoch:', epoch, ' dev_acc: ', acc)"
   ]
  },
  {
   "cell_type": "markdown",
   "metadata": {},
   "source": [
    "## Testing"
   ]
  },
  {
   "cell_type": "code",
   "execution_count": 19,
   "metadata": {},
   "outputs": [
    {
     "name": "stdout",
     "output_type": "stream",
     "text": [
      "test_acc:  0.55\n"
     ]
    }
   ],
   "source": [
    "acc = model.test_model(sen_vec_test,y_test)\n",
    "print('test_acc: ', acc)"
   ]
  },
  {
   "cell_type": "code",
   "execution_count": 20,
   "metadata": {},
   "outputs": [
    {
     "name": "stdout",
     "output_type": "stream",
     "text": [
      "[3, 1, 2, 1, 4, 2, 2, 2, 2, 2, 1, 1, 1, 4, 1, 4, 3, 2, 1, 1, 2, 2, 1, 1, 1, 2, 0, 1, 2, 1, 1, 1, 1, 1, 1, 3, 1, 4, 1, 2, 2, 4, 2, 1, 1, 2, 1, 1, 1, 1, 2, 1, 1, 4, 1, 1, 1, 1, 1, 1, 3, 2, 2, 4, 1, 3, 1, 2, 1, 4, 1, 2, 1, 1, 1, 1, 2, 4, 1, 3, 2, 1, 0, 1, 1, 1, 1, 1, 2, 1, 1, 1, 1, 1, 3, 3, 1, 1, 1, 1, 2, 2, 1, 1, 1, 2, 2, 1, 2, 4, 1, 1, 1, 1, 2, 1, 1, 1, 1, 2, 2, 4, 4, 1, 2, 1, 1, 4, 1, 2, 3, 1, 2, 1, 1, 1, 1, 2, 2, 2, 1, 0, 2, 1, 2, 1, 2, 4, 3, 1, 1, 0, 2, 2, 1, 1, 4, 1, 1, 1, 1, 1, 1, 2, 4, 2, 1, 2, 1, 1, 2, 1, 3, 2, 1, 2, 1, 1, 4, 2, 1, 1, 2, 4, 1, 2, 1, 0, 4, 1, 2, 1, 4, 1, 1, 2, 2, 0, 4, 1, 1, 1, 4, 1, 2, 1, 0, 2, 1, 3, 1, 1, 1, 4, 2, 2, 4, 2, 1, 4, 1, 2, 1, 1, 1, 1, 2, 1, 1, 3, 1, 1, 2, 1, 1, 1, 4, 1, 1, 2, 1, 1, 1, 1, 2, 4, 2, 4, 1, 1, 1, 1, 1, 0, 1, 1, 1, 1, 1, 1, 1, 1, 1, 4, 1, 1, 1, 2, 1, 4, 1, 2, 2, 1, 1, 4, 4, 1, 1, 4, 1, 1, 1, 1, 2, 1, 1, 1, 4, 1, 2, 1, 3, 1, 1, 1, 1, 1, 2, 1, 2, 1, 2, 1, 1, 1, 2, 2, 1, 1, 4, 1, 1, 1, 3, 1, 1, 1, 1, 1, 1, 1, 1, 1, 2, 2, 2, 1, 1, 1, 4, 1, 2, 1, 0, 1, 1, 1, 1, 1, 0, 1, 1, 1, 1, 1, 1, 1, 2, 1, 1, 4, 1, 1, 2, 1, 1, 1, 3, 2, 2, 1, 4, 1, 1, 1, 1, 2, 1, 1, 1, 2, 2, 1, 2, 3, 1, 1, 2, 1, 1, 2, 4, 4, 4, 1, 1, 1, 1, 1, 0, 1, 1, 1, 1, 3, 2, 2, 2, 1, 1, 1, 1, 1, 3, 2, 1, 2, 2, 4, 1, 2, 1, 2, 1, 2, 1, 1, 1, 1, 1, 1, 1, 2, 1, 1, 1, 1, 4, 2, 1, 1, 1, 1, 1, 0, 1, 1, 1, 2, 2, 1, 1, 1, 1, 2, 2, 1, 0, 1, 1, 2, 1, 1, 3, 2, 0, 2, 2, 1, 1, 2, 1, 1, 1, 1, 1, 1, 2, 2, 4, 1, 4, 2, 2, 1, 1, 0, 1, 4, 1, 2, 1, 0, 1, 2, 0, 1, 1, 2, 1, 1, 2, 2, 4, 2, 1, 1, 1, 1, 1, 1, 4, 1, 2, 1, 1, 2, 2, 1, 2, 2, 1, 1, 1, 1, 0, 2, 2, 1, 1, 1, 4, 1, 1, 1, 1, 2, 1, 2, 1, 2, 2, 1, 2, 2, 1, 2, 1, 1, 1, 1, 1, 1, 1, 1, 4, 1, 1, 0, 1, 1, 2, 1, 1, 2, 2, 2, 1, 1, 2, 3, 1, 2, 1, 1, 1, 0, 4, 2, 4, 1, 2, 2, 4, 1, 1, 2, 2, 1, 2, 2, 1, 1, 2, 2, 1, 1, 4, 1, 1, 2, 1, 1, 3, 1, 1, 1, 4, 1, 2, 2, 2, 1, 1, 1, 1, 1, 0, 2, 0, 1, 1, 2, 1, 2, 2, 1, 1, 3, 2, 1, 2, 2, 2, 1, 1, 2, 1, 1, 1, 1, 1, 1, 1, 1, 1, 1, 1, 2, 1, 0, 1, 1, 2, 1, 4, 2, 2, 2, 2, 1, 0, 1, 1, 1, 4, 1, 2, 0, 2, 1, 2, 1, 1, 1, 1, 1, 1, 1, 4, 1, 1, 1, 1, 1, 1, 4, 0, 1, 2, 1, 1, 1, 4, 2, 4, 0, 0, 1, 2, 1, 1, 1, 4, 4, 1, 1, 1, 1, 1, 2, 1, 4, 1, 4, 1, 1, 2, 1, 1, 2, 1, 1, 1, 1, 1, 1, 1, 2, 1, 1, 2, 1, 1, 1, 1, 3, 1, 2, 1, 2, 2, 2, 2, 1, 1, 1, 1, 1, 2, 1, 1, 1, 2, 2, 1, 1, 1, 4, 1, 2, 1, 0, 4, 4, 1, 1, 0, 4, 2, 2, 2, 1, 1, 2, 1, 3, 1, 1, 4, 1, 4, 1, 1, 2, 2, 1, 2, 1, 1, 1, 1, 1, 2, 3, 1, 4, 1, 2, 1, 1, 1, 1, 1, 1, 1, 1, 1, 1, 1, 1, 1, 1, 1, 0, 1, 2, 3, 2, 1, 4, 2, 1, 2, 4, 1, 1, 4, 2, 2, 1, 1, 1, 1, 2, 1, 2, 1, 2, 1]\n"
     ]
    }
   ],
   "source": [
    "print(model.predict(sen_vec_output))"
   ]
  },
  {
   "cell_type": "code",
   "execution_count": 21,
   "metadata": {},
   "outputs": [
    {
     "data": {
      "text/plain": [
       "1    493\n",
       "2    205\n",
       "4     75\n",
       "0     31\n",
       "3     27\n",
       "dtype: int64"
      ]
     },
     "execution_count": 21,
     "metadata": {},
     "output_type": "execute_result"
    }
   ],
   "source": [
    "result = pd.value_counts(model.predict(sen_vec_output))\n",
    "result"
   ]
  },
  {
   "cell_type": "markdown",
   "metadata": {},
   "source": [
    "# Visualisation"
   ]
  },
  {
   "cell_type": "code",
   "execution_count": 22,
   "metadata": {},
   "outputs": [
    {
     "data": {
      "image/png": "[encoded data removed]",
      "text/plain": [
       "<Figure size 432x432 with 1 Axes>"
      ]
     },
     "metadata": {},
     "output_type": "display_data"
    }
   ],
   "source": [
    "import matplotlib.pyplot as plt\n",
    "\n",
    "plt.figure(figsize=(6,6))#将画布设定为正方形，则绘制的饼图是正圆\n",
    "\n",
    "label=['Protective effect','Appearance','Price','Material']#定义饼图的标签，标签是列表\n",
    "\n",
    "explode=[0.02,0.02,0.02,0.02]#设定各项距离圆心n个半径\n",
    " \n",
    "values= [result[1],result[2],result[3],result[4]]\n",
    "\n",
    "fbcolor = [\"#cdfc71\", \"#679259\", \"#fae77d\", \"#c181d3\",\"#f03781\"]\n",
    "\n",
    "plt.pie(values,explode=explode,labels=label,colors=fbcolor,autopct='%1.1f%%')#绘制饼图\n",
    "\n",
    "plt.title('xxxxx')#绘制标题\n",
    "plt.savefig('xxx')#保存图片"
   ]
  },
  {
   "cell_type": "code",
   "execution_count": null,
   "metadata": {},
   "outputs": [],
   "source": []
  }
 ],
 "metadata": {
  "kernelspec": {
   "display_name": "Python 3",
   "language": "python",
   "name": "python3"
  },
  "language_info": {
   "codemirror_mode": {
    "name": "ipython",
    "version": 3
   },
   "file_extension": ".py",
   "mimetype": "text/x-python",
   "name": "python",
   "nbconvert_exporter": "python",
   "pygments_lexer": "ipython3",
   "version": "3.7.9"
  }
 },
 "nbformat": 4,
 "nbformat_minor": 4
}
