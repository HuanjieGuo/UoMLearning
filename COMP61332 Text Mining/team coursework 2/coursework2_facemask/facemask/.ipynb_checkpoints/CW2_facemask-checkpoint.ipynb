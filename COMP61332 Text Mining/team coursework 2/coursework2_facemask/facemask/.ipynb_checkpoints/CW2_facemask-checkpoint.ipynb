{
 "cells": [
  {
   "cell_type": "markdown",
   "metadata": {},
   "source": [
    "# Preparation"
   ]
  },
  {
   "cell_type": "markdown",
   "metadata": {},
   "source": [
    "## Library installation/import"
   ]
  },
  {
   "cell_type": "markdown",
   "metadata": {},
   "source": [
    "Install and import libraries that are used in multiple sections of the pipeline."
   ]
  },
  {
   "cell_type": "code",
   "execution_count": 1,
   "metadata": {},
   "outputs": [],
   "source": [
    "import pandas as pd"
   ]
  },
  {
   "cell_type": "markdown",
   "metadata": {},
   "source": [
    "## Configuring Twitter API keys"
   ]
  },
  {
   "cell_type": "code",
   "execution_count": 2,
   "metadata": {},
   "outputs": [
    {
     "name": "stdout",
     "output_type": "stream",
     "text": [
      "Requirement already satisfied: tweepy in /opt/anaconda3/lib/python3.8/site-packages (3.10.0)\n",
      "Requirement already satisfied: requests[socks]>=2.11.1 in /opt/anaconda3/lib/python3.8/site-packages (from tweepy) (2.24.0)\n",
      "Requirement already satisfied: six>=1.10.0 in /opt/anaconda3/lib/python3.8/site-packages (from tweepy) (1.15.0)\n",
      "Requirement already satisfied: requests-oauthlib>=0.7.0 in /opt/anaconda3/lib/python3.8/site-packages (from tweepy) (1.3.0)\n",
      "Requirement already satisfied: urllib3!=1.25.0,!=1.25.1,<1.26,>=1.21.1 in /opt/anaconda3/lib/python3.8/site-packages (from requests[socks]>=2.11.1->tweepy) (1.25.9)\n",
      "Requirement already satisfied: chardet<4,>=3.0.2 in /opt/anaconda3/lib/python3.8/site-packages (from requests[socks]>=2.11.1->tweepy) (3.0.4)\n",
      "Requirement already satisfied: certifi>=2017.4.17 in /opt/anaconda3/lib/python3.8/site-packages (from requests[socks]>=2.11.1->tweepy) (2020.6.20)\n",
      "Requirement already satisfied: idna<3,>=2.5 in /opt/anaconda3/lib/python3.8/site-packages (from requests[socks]>=2.11.1->tweepy) (2.10)\n",
      "Requirement already satisfied: PySocks!=1.5.7,>=1.5.6; extra == \"socks\" in /opt/anaconda3/lib/python3.8/site-packages (from requests[socks]>=2.11.1->tweepy) (1.7.1)\n",
      "Requirement already satisfied: oauthlib>=3.0.0 in /opt/anaconda3/lib/python3.8/site-packages (from requests-oauthlib>=0.7.0->tweepy) (3.1.0)\n"
     ]
    }
   ],
   "source": [
    "!pip install tweepy"
   ]
  },
  {
   "cell_type": "code",
   "execution_count": 3,
   "metadata": {},
   "outputs": [],
   "source": [
    "import tweepy\n",
    "\n",
    "#Rebekah's Key\n",
    "# consumer_key= '7GYKP9vhB48GakdRpiC84VhSw'\n",
    "# consumer_secret= '0Ovma9IxGjgQIJogPyTTTyvO6egw7uc3xwOutui0FCFAly4jd8'\n",
    "# access_token= '1373292834120478721-kWV2e3CAKAI9cfVIFJhzur2UMULmyX'\n",
    "# access_token_secret= 'LDSAIJKtnVjnc3CjgtHOZCP988oIpz0lLnmzjprU2IwZt'\n",
    "\n",
    "#Riza's Key\n",
    "#consumer_key= '7udmMgkPoaPPiWQ6GKHONihby'\n",
    "#consumer_secret= 'pWZISm84iJazudbuulEvw5tn6Ayo1A0IOXQw86fhscx6aylfaJ'\n",
    "#access_token= '1368127768102375428-rskpQBqbCtWCPWACaqcH6GVkxJCgd7'\n",
    "#access_token_secret= 'J2SbLFgsRjAp9ZiZi1dQXjM0HXpIkXvyyBmWUrobT6P4g'\n",
    "\n",
    "# auth = tweepy.OAuthHandler(consumer_key, consumer_secret)\n",
    "# auth.set_access_token(access_token, access_token_secret)\n",
    "\n",
    "# api = tweepy.API(auth, wait_on_rate_limit=True, wait_on_rate_limit_notify=True)\n",
    "\n",
    "#auth = tweepy.OAuthHandler('7udmMgkPoaPPiWQ6GKHONihby', 'pWZISm84iJazudbuulEvw5tn6Ayo1A0IOXQw86fhscx6aylfaJ')\n",
    "#auth.set_access_token('1368127768102375428-rskpQBqbCtWCPWACaqcH6GVkxJCgd7', 'J2SbLFgsRjAp9ZiZi1dQXjM0HXpIkXvyyBmWUrobT6P4g')\n",
    "#api = tweepy.API(auth, wait_on_rate_limit=True, wait_on_rate_limit_notify=True)"
   ]
  },
  {
   "cell_type": "markdown",
   "metadata": {},
   "source": [
    "## Downloading of new data set"
   ]
  },
  {
   "cell_type": "markdown",
   "metadata": {},
   "source": [
    "In This coursework, our topic is \"What are people's considerations for the selection of protective products\". Therefore, we add \"#facemask\" into the query list. The date of collection is from 2021-03-17 to 2021-03-24.  \n",
    "Because of the restriction of the $customer\\_key$ parameter, we could not download a high volume of data in a single run. Therefore, we repeatedly ran the code block below and changed the $cutoff\\_date$ and $end\\_date$ parameter to obtain data from different date.   \n",
    "Then, we merged data downloaded in different run together.  After that, we manually labelled those texts into five categories and save them in $tweet\\_train.csv$."
   ]
  },
  {
   "cell_type": "code",
   "execution_count": 4,
   "metadata": {},
   "outputs": [],
   "source": [
    "# Collect tweets\n",
    "# query = \"#facemasks\" + \" -filter:retweets\"\n",
    "\n",
    "# cutoff_date = \"2021-03-21\"\n",
    "# end_date = \"2021-03-22\"\n",
    "\n",
    "# tweets = tweepy.Cursor(api.search, q=query, lang=\"en\", since=cutoff_date,until = end_date).items(1000)\n",
    "\n",
    "# tweets_list = [[tweet.created_at, tweet.user.screen_name, tweet.user.location, tweet.text] for tweet in tweets]\n",
    "\n",
    "# tweets_df = pd.DataFrame(data=tweets_list, columns=['date', 'user', 'location', 'text'])\n",
    "\n",
    "# # A good idea to save downloaded tweets as CSV\n",
    "# tweets_df.to_csv ('current_set.csv', quotechar='\"', encoding='utf8', index = False, header=True)"
   ]
  },
  {
   "cell_type": "markdown",
   "metadata": {},
   "source": [
    "After downloading data from twitter, we manually labelled those text into five class\n",
    "- 0 other\n",
    "- 1 protective effect\n",
    "- 2 appearance\n",
    "- 3 price\n",
    "- 4 material\n",
    "\n",
    "\n",
    "Then, we saved those labelled data into 'tweet_train.csv'"
   ]
  },
  {
   "cell_type": "markdown",
   "metadata": {},
   "source": [
    "# Data pre-processing"
   ]
  },
  {
   "cell_type": "markdown",
   "metadata": {},
   "source": [
    "## Data Cleaning"
   ]
  },
  {
   "cell_type": "code",
   "execution_count": 5,
   "metadata": {},
   "outputs": [],
   "source": [
    "import pandas as pd\n",
    "import re"
   ]
  },
  {
   "cell_type": "code",
   "execution_count": 6,
   "metadata": {},
   "outputs": [],
   "source": [
    "sen_vec_dimension = 200"
   ]
  },
  {
   "cell_type": "code",
   "execution_count": 7,
   "metadata": {},
   "outputs": [],
   "source": [
    "'''\n",
    "get_text_and_label：\n",
    "    data cleaning, save cleaned text to tweets_clean.csv\n",
    "    input: csvfile\n",
    "    output: text,label\n",
    "'''\n",
    "def get_text_and_label(csvfile):\n",
    "    tweets_df = pd.read_csv(csvfile)\n",
    "    # remove urls\n",
    "    tweets_clean = tweets_df['text'].map(lambda x: re.sub('https://[a-zA-Z0-9.?/&=:]*', ' ',x))\n",
    "    # remove tokens start with '@'\n",
    "    tweets_clean = tweets_clean.map(lambda x: re.sub('@[a-zA-Z0-9.?/&=:]*', ' ',x))\n",
    "    # remove punctuations, including '#'\n",
    "    tweets_clean = tweets_clean.map(lambda x: re.sub('[,\\\\.!?#:]', ' ', x))\n",
    "    # remove ellipsis\n",
    "    # tweets_clean = tweets_clean.map(lambda x: re.sub('[a-z]*', ' ', x))\n",
    "    # Remove unnecessary line breaks\n",
    "    tweets_clean = tweets_clean.map(lambda x: re.sub(r\"\\n\", '', x))\n",
    "    # Convert the titles to lowercase\n",
    "    tweets_clean = tweets_clean.map(lambda x: x.lower())\n",
    "    # save data to csv\n",
    "    tweets_clean.to_csv('tweets_clean.csv')\n",
    "    text = pd.read_csv('tweets_clean.csv')['text']\n",
    "    label = pd.read_csv('tweet_train.csv')['label']\n",
    "    return text,label\n",
    "\n",
    "\n",
    "'''\n",
    "get_voc_and_token_of_sentences\n",
    "    tokenization\n",
    "'''\n",
    "def get_text_for_testing(csvfile):\n",
    "    tweets_df = pd.read_csv(csvfile)\n",
    "    # remove urls\n",
    "    tweets_clean = tweets_df['text'].map(lambda x: re.sub('https://[a-zA-Z0-9.?/&=:]*', ' ',x))\n",
    "    # remove tokens start with '@'\n",
    "    tweets_clean = tweets_clean.map(lambda x: re.sub('@[a-zA-Z0-9.?/&=:]*', ' ',x))\n",
    "    # remove punctuations, including '#'\n",
    "    tweets_clean = tweets_clean.map(lambda x: re.sub('[,\\\\.!?#:]', ' ', x))\n",
    "    # remove ellipsis\n",
    "    # tweets_clean = tweets_clean.map(lambda x: re.sub('[a-z]*', ' ', x))\n",
    "    # Remove unnecessary line breaks\n",
    "    tweets_clean = tweets_clean.map(lambda x: re.sub(r\"\\n\", '', x))\n",
    "    # Convert the titles to lowercase\n",
    "    tweets_clean = tweets_clean.map(lambda x: x.lower())\n",
    "    # save data to csv\n",
    "    tweets_clean.to_csv('tweets_clean.csv')\n",
    "    text = pd.read_csv('tweets_clean.csv')['text']\n",
    "    return text\n",
    "    \n",
    "    \n",
    "\n",
    "def get_voc_and_token_of_sentences(text):\n",
    "    token_voc = []\n",
    "    token_of_sentences = []\n",
    "    for sent in text:\n",
    "        token_of_sentences.append(sent.split())\n",
    "        for word in sent.split():\n",
    "            token_voc.append(word)\n",
    "\n",
    "    token_voc = list(set(token_voc))\n",
    "    token_voc = [x for x in token_voc if '…' not in x]\n",
    "    for i in range(len(token_of_sentences)):\n",
    "        for word in token_of_sentences[i]:\n",
    "            if \"…\" in word:\n",
    "                token_of_sentences[i].remove(word)\n",
    "    return token_voc, token_of_sentences"
   ]
  },
  {
   "cell_type": "code",
   "execution_count": 8,
   "metadata": {},
   "outputs": [],
   "source": [
    "text,label = get_text_and_label('tweet_train.csv')\n",
    "output_text = get_text_for_testing('tweet_test.csv')"
   ]
  },
  {
   "cell_type": "markdown",
   "metadata": {},
   "source": [
    "## Data Spliting"
   ]
  },
  {
   "cell_type": "code",
   "execution_count": 9,
   "metadata": {},
   "outputs": [],
   "source": [
    "from sklearn.model_selection import train_test_split\n",
    "\n",
    "sens_,sens_test,y_,y_test = train_test_split(text,label,test_size=0.1, random_state=0) \n",
    "sens_train,sens_val,y_train,y_val = train_test_split(sens_,y_,test_size=1/9, random_state=0)\n",
    "\n",
    "vocalbulary,tos_train = get_voc_and_token_of_sentences(sens_train)\n",
    "_,tos_val = get_voc_and_token_of_sentences(sens_val)\n",
    "_,tos_test = get_voc_and_token_of_sentences(sens_test)\n",
    "\n",
    "_,tos_output = get_voc_and_token_of_sentences(output_text)"
   ]
  },
  {
   "cell_type": "markdown",
   "metadata": {},
   "source": [
    "# Task 1 What are people's considerations for the selection of protective products?"
   ]
  },
  {
   "cell_type": "markdown",
   "metadata": {},
   "source": [
    "## Named Entity Recognition (Part I)"
   ]
  },
  {
   "cell_type": "markdown",
   "metadata": {},
   "source": [
    "In this section, we tried to use NER to label our text. But the result of NER is not satisfying."
   ]
  },
  {
   "cell_type": "code",
   "execution_count": 10,
   "metadata": {},
   "outputs": [],
   "source": [
    "import pandas as pd\n",
    "import numpy as np\n",
    "from pandas import DataFrame,Series\n",
    "import matplotlib.pyplot as plt\n",
    "import random"
   ]
  },
  {
   "cell_type": "code",
   "execution_count": 11,
   "metadata": {},
   "outputs": [],
   "source": [
    "\n",
    "# label_ = []\n",
    "# tweets = []\n",
    "\n",
    "\n",
    "# for tweet_text in unique_tweets:\n",
    "#     doc = nlp(tweet_text)\n",
    "#     print(tweet_text)\n",
    "    \n",
    "#     for ne in doc.ents:\n",
    "#         print('\\tNE found: ', ne.start_char, ne.end_char, ne.label_, tweet_text[ne.start_char:ne.end_char])\n",
    "#         label_.append(ne.label_)\n",
    "#         tweets.append(tweet_text[ne.start_char:ne.end_char])\n",
    "    \n",
    "        \n",
    "# data = {\"label:\":label_, \"NE\":tweets}\n",
    "# f1 = DataFrame(data, columns=['label','NE'])\n",
    "# df = pd.DataFrame(data)\n",
    "# df.to_csv('test.csv',header=True)\n"
   ]
  },
  {
   "cell_type": "markdown",
   "metadata": {},
   "source": [
    "# Convert Text to Vectors"
   ]
  },
  {
   "cell_type": "code",
   "execution_count": 12,
   "metadata": {},
   "outputs": [],
   "source": [
    "import numpy as np\n",
    "import torch"
   ]
  },
  {
   "cell_type": "markdown",
   "metadata": {},
   "source": [
    "## Word Embedding"
   ]
  },
  {
   "cell_type": "code",
   "execution_count": 13,
   "metadata": {},
   "outputs": [],
   "source": [
    "def randomly_initialised_vectors(tokens=None):\n",
    "    wordToIx = {}\n",
    "    wordToIx['UNK'] = 0\n",
    "    i = 1\n",
    "    for token in tokens:\n",
    "        if token not in wordToIx.keys():\n",
    "            wordToIx[token] = i\n",
    "            i = i+1\n",
    "    word_vectors = []\n",
    "    for _ in wordToIx:\n",
    "        word_vectors.append(np.random.random(sen_vec_dimension))\n",
    "    word_vectors = np.array(word_vectors)\n",
    "    return word_vectors,wordToIx"
   ]
  },
  {
   "cell_type": "markdown",
   "metadata": {},
   "source": [
    "## Sentence Representation"
   ]
  },
  {
   "cell_type": "code",
   "execution_count": 14,
   "metadata": {},
   "outputs": [],
   "source": [
    "def make_bow_vector(tokens,wordToIdx,wordVec):\n",
    "    vec = np.zeros(sen_vec_dimension)\n",
    "    count = 0\n",
    "    for word in tokens:\n",
    "        if word in wordToIdx.keys():\n",
    "            vector = wordVec[wordToIdx[word]]\n",
    "            vec += vector\n",
    "            count+=1\n",
    "    vec = vec / count\n",
    "    vec = torch.from_numpy(vec)\n",
    "    return vec.view(1, -1)\n",
    "\n",
    "def multi_sentences_to_vectors(sentences,wordToIdx,wordVec):\n",
    "    myList = []\n",
    "    for tokens in sentences:\n",
    "        myList.append(make_bow_vector(tokens,wordToIdx,wordVec))\n",
    "    return myList"
   ]
  },
  {
   "cell_type": "code",
   "execution_count": 15,
   "metadata": {},
   "outputs": [],
   "source": [
    "word_vectors,word_to_idx = randomly_initialised_vectors(vocalbulary)\n",
    "\n",
    "sen_vec_train = multi_sentences_to_vectors(tos_train,word_to_idx,word_vectors)\n",
    "sen_vec_val = multi_sentences_to_vectors(tos_val,word_to_idx,word_vectors)\n",
    "sen_vec_test = multi_sentences_to_vectors(tos_test,word_to_idx,word_vectors)\n",
    "# use to show\n",
    "sen_vec_output = multi_sentences_to_vectors(tos_output,word_to_idx,word_vectors)"
   ]
  },
  {
   "cell_type": "markdown",
   "metadata": {},
   "source": [
    "# Classifier"
   ]
  },
  {
   "cell_type": "code",
   "execution_count": 16,
   "metadata": {},
   "outputs": [],
   "source": [
    "import torch.nn as nn\n",
    "import torch.optim as optim\n",
    "from torch.autograd import Variable\n",
    "from torch.functional import F\n",
    "\n",
    "class classifier(nn.Module):\n",
    "    def __init__(self, num_labels):\n",
    "        super(classifier, self).__init__()\n",
    "        n_hidden = 1000\n",
    "        self.f1 = nn.Linear(sen_vec_dimension, num_labels)\n",
    "#         self.f2 = nn.Linear(n_hidden, num_labels)\n",
    "\n",
    "        self.double()\n",
    "        # loss\n",
    "        self.loss_function = nn.CrossEntropyLoss()\n",
    "        # optimizer\n",
    "        self.optimizer = optim.SGD(self.parameters(), lr=0.08)\n",
    "\n",
    "        self.test_vecs = []\n",
    "        self.test_label = []\n",
    "        self.label_to_ix = {}\n",
    "\n",
    "    def forward(self, input):\n",
    "        out = self.f1(input)\n",
    "#         out = F.relu(out)\n",
    "#         out = self.f2(out)\n",
    "#         out = F.softmax(out,dim=1)\n",
    "        return out\n",
    "\n",
    "    def train_model(self,sentence_vectors,labels):\n",
    "        for i in range(0, len(sentence_vectors)):\n",
    "            vector = sentence_vectors[i]\n",
    "            lab = labels.iloc[i]\n",
    "            self.zero_grad()\n",
    "            bow_vec = Variable(vector)\n",
    "            target = Variable(torch.LongTensor([lab]))\n",
    "\n",
    "            output = self(bow_vec)\n",
    "            loss = self.loss_function(output, target)\n",
    "            loss.backward()\n",
    "            self.optimizer.step()\n",
    "\n",
    "    def test_model(self, test_sentence_vectors, test_labels):\n",
    "        # calculate correct rate\n",
    "        data_size = len(test_sentence_vectors)\n",
    "        correct_num = 0\n",
    "        for i in range(len(test_labels)):\n",
    "            bow_vec = Variable(test_sentence_vectors[i])\n",
    "            label = test_labels.iloc[i]\n",
    "            output = self(bow_vec)\n",
    "\n",
    "            pre_max_poss, index = torch.max(output, 1)\n",
    "            if label == int(index):\n",
    "                correct_num += 1\n",
    "\n",
    "        return round(correct_num / data_size,4)\n",
    "    \n",
    "    def predict(self,test_sentence_vectors):\n",
    "        predict_list = []\n",
    "        for i in range(len(test_sentence_vectors)):\n",
    "            bow_vec = Variable(test_sentence_vectors[i])\n",
    "            output = self(bow_vec)\n",
    "\n",
    "            pre_max_poss, index = torch.max(output, 1)\n",
    "            predict_list.append(int(index))\n",
    "        return predict_list"
   ]
  },
  {
   "cell_type": "markdown",
   "metadata": {},
   "source": [
    "## Training"
   ]
  },
  {
   "cell_type": "code",
   "execution_count": 17,
   "metadata": {},
   "outputs": [
    {
     "name": "stdout",
     "output_type": "stream",
     "text": [
      "epoch: 0  dev_acc:  0.34\n",
      "epoch: 1  dev_acc:  0.4\n",
      "epoch: 2  dev_acc:  0.44\n",
      "epoch: 3  dev_acc:  0.44\n",
      "epoch: 4  dev_acc:  0.47\n",
      "epoch: 5  dev_acc:  0.48\n",
      "epoch: 6  dev_acc:  0.48\n",
      "epoch: 7  dev_acc:  0.49\n",
      "epoch: 8  dev_acc:  0.49\n",
      "epoch: 9  dev_acc:  0.49\n"
     ]
    }
   ],
   "source": [
    "output_size = len(set(y_train))\n",
    "model = classifier(output_size)\n",
    "for epoch in range(10):\n",
    "    model.train_model(sen_vec_train,y_train)\n",
    "    # validate the model\n",
    "    acc = model.test_model(sen_vec_val,y_val)\n",
    "    print('epoch:', epoch, ' dev_acc: ', acc)"
   ]
  },
  {
   "cell_type": "markdown",
   "metadata": {},
   "source": [
    "## Testing"
   ]
  },
  {
   "cell_type": "code",
   "execution_count": 18,
   "metadata": {},
   "outputs": [
    {
     "name": "stdout",
     "output_type": "stream",
     "text": [
      "test_acc:  0.56\n"
     ]
    }
   ],
   "source": [
    "acc = model.test_model(sen_vec_test,y_test)\n",
    "print('test_acc: ', acc)"
   ]
  },
  {
   "cell_type": "code",
   "execution_count": 19,
   "metadata": {},
   "outputs": [
    {
     "name": "stdout",
     "output_type": "stream",
     "text": [
      "[3, 1, 2, 1, 4, 2, 2, 2, 1, 2, 1, 1, 1, 4, 1, 2, 3, 2, 1, 1, 1, 2, 1, 1, 1, 2, 0, 1, 2, 2, 2, 1, 1, 1, 1, 3, 1, 4, 2, 2, 2, 4, 2, 1, 1, 2, 1, 1, 1, 1, 2, 2, 1, 4, 1, 2, 1, 1, 1, 1, 3, 2, 4, 4, 1, 3, 1, 2, 1, 4, 1, 2, 1, 2, 1, 1, 2, 2, 1, 3, 2, 2, 0, 1, 1, 4, 1, 1, 2, 1, 3, 1, 1, 1, 1, 3, 1, 1, 1, 2, 2, 2, 1, 1, 4, 2, 4, 1, 2, 4, 1, 1, 1, 1, 2, 1, 1, 1, 1, 2, 1, 4, 4, 1, 2, 2, 1, 4, 1, 2, 3, 2, 2, 1, 1, 4, 1, 2, 2, 2, 1, 0, 2, 1, 2, 1, 4, 4, 1, 2, 1, 3, 4, 2, 1, 1, 4, 1, 1, 1, 1, 2, 1, 2, 4, 2, 1, 2, 2, 1, 2, 1, 3, 2, 1, 4, 1, 1, 2, 4, 1, 1, 2, 4, 1, 2, 2, 2, 4, 1, 2, 1, 4, 1, 2, 1, 2, 1, 4, 2, 1, 1, 4, 1, 2, 1, 1, 2, 1, 1, 1, 1, 1, 2, 2, 2, 4, 2, 1, 4, 1, 2, 1, 1, 1, 1, 2, 1, 1, 3, 1, 1, 2, 2, 1, 1, 4, 1, 1, 2, 1, 1, 1, 1, 2, 4, 2, 2, 1, 0, 1, 1, 1, 0, 1, 1, 1, 1, 3, 1, 1, 2, 1, 4, 1, 1, 1, 2, 3, 4, 1, 2, 2, 1, 1, 1, 4, 1, 1, 4, 1, 1, 1, 1, 4, 4, 3, 1, 4, 1, 2, 1, 3, 1, 1, 1, 1, 1, 2, 1, 4, 1, 2, 1, 3, 1, 2, 1, 1, 1, 4, 1, 2, 1, 1, 1, 2, 1, 2, 1, 2, 1, 1, 1, 2, 2, 2, 1, 1, 4, 4, 1, 2, 1, 0, 1, 1, 2, 1, 1, 0, 2, 1, 1, 4, 1, 1, 1, 2, 1, 1, 2, 1, 1, 2, 1, 1, 1, 1, 2, 4, 1, 4, 1, 1, 1, 1, 2, 1, 1, 1, 2, 2, 1, 2, 1, 2, 1, 2, 2, 1, 2, 4, 4, 4, 2, 1, 1, 1, 1, 2, 2, 3, 2, 1, 1, 4, 2, 4, 1, 1, 1, 1, 1, 3, 2, 1, 2, 2, 4, 1, 2, 1, 2, 2, 2, 1, 1, 1, 1, 1, 1, 1, 2, 1, 1, 1, 2, 4, 2, 2, 2, 1, 1, 1, 0, 1, 1, 1, 4, 2, 1, 1, 1, 1, 2, 2, 2, 2, 1, 1, 2, 1, 1, 3, 2, 0, 2, 2, 2, 1, 2, 1, 4, 1, 2, 1, 1, 2, 2, 4, 1, 4, 4, 2, 1, 1, 0, 1, 4, 1, 2, 3, 0, 2, 2, 1, 2, 1, 2, 1, 1, 3, 4, 4, 2, 1, 1, 2, 1, 1, 1, 4, 2, 2, 1, 1, 2, 4, 2, 2, 2, 2, 1, 1, 3, 0, 1, 2, 2, 2, 1, 2, 1, 4, 1, 2, 2, 1, 2, 1, 2, 2, 1, 2, 2, 1, 2, 1, 2, 1, 2, 1, 2, 1, 3, 4, 1, 1, 3, 1, 1, 2, 1, 2, 1, 2, 4, 1, 1, 2, 3, 1, 2, 1, 1, 2, 0, 4, 2, 4, 1, 2, 2, 4, 1, 1, 2, 2, 1, 2, 2, 2, 1, 2, 2, 2, 1, 4, 1, 2, 2, 1, 1, 1, 1, 1, 4, 1, 2, 2, 4, 2, 1, 1, 1, 1, 2, 2, 2, 4, 1, 1, 2, 1, 2, 4, 1, 1, 1, 2, 2, 2, 2, 2, 1, 1, 2, 1, 1, 1, 1, 1, 1, 1, 1, 1, 1, 1, 2, 1, 0, 1, 1, 2, 1, 4, 2, 2, 2, 2, 1, 1, 1, 1, 1, 4, 2, 2, 0, 2, 1, 2, 1, 1, 1, 1, 1, 2, 1, 4, 2, 1, 1, 2, 1, 1, 1, 0, 1, 1, 1, 1, 1, 4, 4, 4, 0, 0, 1, 2, 1, 2, 1, 4, 4, 2, 1, 1, 2, 1, 2, 1, 4, 1, 2, 1, 1, 2, 1, 1, 2, 1, 1, 1, 1, 2, 1, 1, 2, 1, 1, 2, 3, 1, 1, 1, 3, 1, 2, 2, 2, 2, 2, 2, 2, 2, 1, 1, 1, 2, 1, 1, 1, 2, 2, 1, 1, 1, 4, 1, 2, 1, 2, 4, 4, 1, 1, 0, 4, 2, 2, 2, 1, 1, 2, 1, 3, 1, 4, 4, 1, 4, 1, 1, 2, 2, 1, 2, 1, 1, 1, 1, 1, 2, 3, 1, 4, 1, 4, 1, 1, 1, 1, 2, 1, 1, 1, 1, 1, 1, 3, 1, 1, 1, 2, 1, 2, 1, 2, 2, 4, 2, 1, 1, 1, 1, 1, 2, 2, 2, 1, 2, 1, 1, 2, 1, 2, 1, 1, 1]\n"
     ]
    }
   ],
   "source": [
    "print(model.predict(sen_vec_output))"
   ]
  },
  {
   "cell_type": "code",
   "execution_count": 20,
   "metadata": {},
   "outputs": [
    {
     "data": {
      "text/plain": [
       "1    429\n",
       "2    259\n",
       "4     93\n",
       "3     31\n",
       "0     19\n",
       "dtype: int64"
      ]
     },
     "execution_count": 20,
     "metadata": {},
     "output_type": "execute_result"
    }
   ],
   "source": [
    "result = pd.value_counts(model.predict(sen_vec_output))\n",
    "# predict the future label\n",
    "result"
   ]
  },
  {
   "cell_type": "markdown",
   "metadata": {},
   "source": [
    "# Visualisation"
   ]
  },
  {
   "cell_type": "code",
   "execution_count": 21,
   "metadata": {},
   "outputs": [
    {
     "data": {
      "image/png": "[encoded data removed]",
      "text/plain": [
       "<Figure size 432x432 with 1 Axes>"
      ]
     },
     "metadata": {},
     "output_type": "display_data"
    }
   ],
   "source": [
    "import matplotlib.pyplot as plt\n",
    "\n",
    "plt.figure(figsize=(6,6))\n",
    "\n",
    "label=['Protective effect','Appearance','Price','Material']\n",
    "\n",
    "explode=[0.02,0.02,0.02,0.02]\n",
    " \n",
    "values= [result[1],result[2],result[3],result[4]]\n",
    "\n",
    "fbcolor = [\"#cdfc71\", \"#679259\", \"#fae77d\", \"#c181d3\",\"#f03781\"]\n",
    "\n",
    "plt.pie(values,explode=explode,labels=label,colors=fbcolor,autopct='%1.1f%%')\n",
    "\n",
    "plt.title('The proportion of each factors influencing people\\'s options to face masks')\n",
    "plt.savefig('task1')"
   ]
  },
  {
   "cell_type": "markdown",
   "metadata": {},
   "source": [
    "# Task 2 Analysing the sale of face masks"
   ]
  },
  {
   "cell_type": "markdown",
   "metadata": {},
   "source": [
    "## Named Entity Recognition (Part II)"
   ]
  },
  {
   "cell_type": "markdown",
   "metadata": {},
   "source": [
    "In this task, we reused the data obtained in task one's NER part. And we fixed our attention on promotion strategy used by face masks sellers. To be specific, we calculated the proportion of discounts at different level. "
   ]
  },
  {
   "cell_type": "code",
   "execution_count": 22,
   "metadata": {},
   "outputs": [],
   "source": [
    "# tweets_df = pd.read_csv('current_set.csv', quotechar='\"', encoding='utf8')\n",
    "from collections import Counter\n",
    "\n",
    "\n",
    "NE_percent = pd.read_csv('NE.csv')\n",
    "\n",
    "ne1 = NE_percent[NE_percent['label:']=='PERCENT']\n",
    "\n",
    "# data cleaning, remove unreasonable contents with 'PERCENT' label by the length of contents.\n",
    "pc = ne1[ne1['NE'].str.len()<=3]\n",
    "\n",
    "percent = pc['NE'].tolist()\n",
    "\n",
    "dic = {}\n",
    "for p in percent:\n",
    "    dic[p] = dic.get(p,0)+1\n",
    "# print(dic)"
   ]
  },
  {
   "cell_type": "code",
   "execution_count": 23,
   "metadata": {},
   "outputs": [],
   "source": [
    "keys = sorted(dic.keys())\n",
    "values = []\n",
    "for i in keys:\n",
    "    values.append(dic[i])\n",
    "# values, keys\n",
    "\n",
    "keys.insert(-1,'45%')\n",
    "values.insert(-1,0)\n",
    "del keys[4]\n",
    "del values[4]\n",
    "# keys, values"
   ]
  },
  {
   "cell_type": "code",
   "execution_count": 24,
   "metadata": {},
   "outputs": [
    {
     "data": {
      "image/png": "[encoded data removed]",
      "text/plain": [
       "<Figure size 1080x504 with 1 Axes>"
      ]
     },
     "metadata": {
      "needs_background": "light"
     },
     "output_type": "display_data"
    }
   ],
   "source": [
    "plt.figure(figsize=(15,7))\n",
    "colors = [\"#cdfc71\", \"#679259\", \"#fae77d\", \"#c181d3\",\"#765bb4\",\"#4364dc\",\"#3261cb\",\"#65dfed\"]\n",
    "#colors = ['#2ca02c', '#d62728', '#9467bd',\n",
    "#          '#8c564b', '#e377c2', '#7f7f7f', '#bcbd22', '#17becf']\n",
    "sum_all = sum(values)\n",
    "values = np.asarray(values)/sum_all*100\n",
    "\n",
    "plt.xlabel('Discount')\n",
    "plt.ylabel('Proportion(%)')\n",
    "plt.title('Proportion of each promotion strategy')\n",
    "plt.xticks(values)\n",
    "\n",
    "plt.bar(keys, height=values, width=0.7, tick_label=keys, color=colors )\n",
    "\n",
    "for a,b in zip(keys,values):\n",
    "    plt.text(a,b,'%.2f'%b,ha='center',va='bottom',fontsize=10)\n",
    "\n"
   ]
  },
  {
   "cell_type": "markdown",
   "metadata": {},
   "source": [
    "# Task 3 For each country, what's the propotion of people who tend to think that wearing a mask is useful versus those who think it is not?"
   ]
  },
  {
   "cell_type": "code",
   "execution_count": 25,
   "metadata": {},
   "outputs": [],
   "source": [
    "consumer_key = 'cUhfB2TH8SwB9IqtxwzDJYFYJ'\n",
    "consumer_secret = 'XQO6lc0z7b5dxcHpAbNXM7NHsaFp2CDwR6yhe21cdaErpBy45F'\n",
    "access_token = '1375238645544841221-SazebYGkKWfqkqllWteF6mbqOAtLfR'\n",
    "access_token_secret = 'FeFNYUwdWMppty1bdYt1ZmZbNisDtgniauNU9HNexfKju'"
   ]
  },
  {
   "cell_type": "code",
   "execution_count": 26,
   "metadata": {},
   "outputs": [],
   "source": [
    "import tweepy\n",
    "import snscrape.modules.twitter as sntwitter\n",
    "import pandas as pd\n",
    "\n",
    "auth = tweepy.OAuthHandler(consumer_key, consumer_secret)\n",
    "auth.set_access_token(access_token, access_token_secret)\n",
    "api = tweepy.API(auth, wait_on_rate_limit=True)"
   ]
  },
  {
   "cell_type": "code",
   "execution_count": 27,
   "metadata": {},
   "outputs": [],
   "source": [
    "# #do not have to run\n",
    "# #if wanna get dataset, please run snscrape 'twitter-search \"#coronavirus since:2020-01-01 until:2021-01-03\" > scraped_tweets.txt' on terminal\n",
    "# # Collect tweets\n",
    "# # query = \"#facemask\" + \" -filter:retweets\"\n",
    "\n",
    "# tweet_url = pd.read_csv(\"facemasks.txt\", index_col= None, header = None, names = [\"tweet_urls\"])\n",
    "# tweet_url.head\n",
    "\n",
    "# # Extract the tweet id\n",
    "# af = lambda x: x[\"tweet_urls\"].split(\"/\")[-1]\n",
    "# # Store tweet id in another column\n",
    "# tweet_url['tweet_id'] = tweet_url.apply(af, axis=1)\n",
    "\n",
    "# ids = tweet_url['tweet_id'].tolist()\n",
    "# total_count = len(ids)\n",
    "# chunks = (total_count - 1) // 50 + 1\n",
    "# chunks\n",
    "\n",
    "# # Save data to csv\n",
    "# def fetch_tw(ids):\n",
    "#     tw_statuses = api.statuses_lookup(ids, tweet_mode= \"extended\")\n",
    "#     data = pd.DataFrame()\n",
    "#     for status in tw_statuses:\n",
    "#             text= status.full_text\n",
    "#             location = status.user.location\n",
    "#             tweet_elem = {\"tweet\":text.encode('utf-8').decode('utf-8'),\n",
    "#                      \"date\":status.created_at,\n",
    "#                      \"location\":location.encode('utf-8').decode('utf-8')}\n",
    "#             data = data.append(tweet_elem, ignore_index = True)\n",
    "            \n",
    "#     data.to_csv(\"facamasks.csv\", mode=\"a\")\n",
    "\n",
    "# for i in range(chunks):\n",
    "#     lst = ids[i*50:(i+1)*50]\n",
    "#     result = fetch_tw(lst)"
   ]
  },
  {
   "cell_type": "markdown",
   "metadata": {},
   "source": [
    "## Data Cleaning"
   ]
  },
  {
   "cell_type": "code",
   "execution_count": 28,
   "metadata": {},
   "outputs": [
    {
     "name": "stdout",
     "output_type": "stream",
     "text": [
      "183533\n",
      "179058\n"
     ]
    }
   ],
   "source": [
    "# Load the regular expression library\n",
    "import re\n",
    "\n",
    "tweets_df = pd.read_csv('facemasks.csv', quotechar='\"', encoding='utf8')\n",
    "\n",
    "# Remove http links\n",
    "http = r'https.\\S*'\n",
    "tweets_df['text_processed'] = tweets_df['tweet'].map(lambda x: re.sub(http, '', x))\n",
    "\n",
    "# Remove \"@ other users\"\n",
    "name_regex = r'@\\S*'\n",
    "tweets_df['text_processed'] = tweets_df['text_processed'].map(lambda x: re.sub(name_regex, '', x))\n",
    "\n",
    "# Remove \"#\"\n",
    "tweets_df['text_processed'] = tweets_df['text_processed'].map(lambda x: re.sub(r'#(.*?)', '', x))\n",
    "\n",
    "# Remove escape characters\n",
    "escape_characters = r'&\\S*;'\n",
    "tweets_df['text_processed'] = tweets_df['text_processed'].map(lambda x: re.sub(escape_characters, '', x))\n",
    "\n",
    "# Remove punctuations\n",
    "tweets_df['text_processed'] = tweets_df['text_processed'].map(lambda x: re.sub('[,\\\\.!?]', ' ', x))\n",
    "\n",
    "# Remove unnecessary line breaks\n",
    "tweets_df['text_processed'] = tweets_df['text_processed'].map(lambda x: re.sub(r'\\n', '', x))\n",
    "\n",
    "# Convert the titles to lowercase\n",
    "tweets_df['text_processed'] = tweets_df['text_processed'].map(lambda x: x.lower())\n",
    "\n",
    "# Removing duplicate tweets\n",
    "unique_tweets = list(set(list(tweets_df['text_processed'].values)))\n",
    "unique_tweets = [t for t in unique_tweets if t]\n",
    "print(len(unique_tweets))\n",
    "\n",
    "# Remove advertisements\n",
    "i=0\n",
    "while i<len(unique_tweets):\n",
    "    if re.search('\\\\$\\d+', unique_tweets[i]) is not None:\n",
    "        tmp = unique_tweets.pop(i)\n",
    "        # print(tmp)\n",
    "    else:\n",
    "        i += 1\n",
    "print(len(unique_tweets))\n"
   ]
  },
  {
   "cell_type": "markdown",
   "metadata": {},
   "source": [
    "## Exploration Using a Word Cloud"
   ]
  },
  {
   "cell_type": "code",
   "execution_count": 29,
   "metadata": {},
   "outputs": [
    {
     "data": {
      "image/png": "[encoded data removed]",
      "text/plain": [
       "<PIL.Image.Image image mode=RGB size=400x200 at 0x7FDF531E5E90>"
      ]
     },
     "execution_count": 29,
     "metadata": {},
     "output_type": "execute_result"
    }
   ],
   "source": [
    "from wordcloud import WordCloud\n",
    "\n",
    "# join the words of the different tweets together into one string\n",
    "long_string = ' '.join(unique_tweets)\n",
    "new_long_string = ' '.join(set(long_string.split(\" \")))\n",
    "\n",
    "# create a WordCloud object\n",
    "wordcloud = WordCloud(background_color=\"white\", max_words=1000, contour_width=3, contour_color='steelblue')\n",
    "\n",
    "# generate a word cloud\n",
    "wordcloud.generate(new_long_string)\n",
    "\n",
    "# visualize the word cloud\n",
    "wordcloud.to_image()"
   ]
  },
  {
   "cell_type": "markdown",
   "metadata": {},
   "source": [
    "## Topic Modelling"
   ]
  },
  {
   "cell_type": "code",
   "execution_count": 30,
   "metadata": {},
   "outputs": [],
   "source": [
    "import gensim\n",
    "import gensim.corpora as corpora\n",
    "from gensim.utils import simple_preprocess\n",
    "\n",
    "import nltk\n",
    "# nltk.download('stopwords')\n",
    "from nltk.corpus import stopwords\n",
    "\n",
    "stop_words = stopwords.words('english')\n",
    "\n",
    "# Do you want to modify this by adding more stop words?\n",
    "stop_words.extend(['from', 'subject', 're', 'edu', 'mask','fabric','sewing',\n",
    "                   'facemasks','facemask','coronavirus','covid19','covid','buy',\n",
    "                   'sale','cotton','washable','handmade','mask','redbubble',\n",
    "                  'masks','face','cover','zazzle','cloth','corona','coverings','people','giftideas','fashion'])\n",
    "\n",
    "def sent_to_words(sentences):\n",
    "  for sentence in sentences:\n",
    "    yield(gensim.utils.simple_preprocess(str(sentence), deacc=True))\n",
    "\n",
    "def remove_stopwords(texts):\n",
    "  return [[word for word in simple_preprocess(str(doc)) \n",
    "    if word not in stop_words] for doc in texts]\n",
    "\n",
    "\n",
    "data = tweets_df.text_processed.values.tolist()\n",
    "\n",
    "data_words = list(sent_to_words(data))\n",
    "\n",
    "# remove stop words\n",
    "data_words = remove_stopwords(data_words)\n",
    "\n",
    "# create a dictionary\n",
    "id2word = corpora.Dictionary(data_words)\n",
    "\n",
    "# create a corpus\n",
    "texts = data_words\n",
    "\n",
    "# convert the corpus into a BoW representation\n",
    "corpus = [id2word.doc2bow(text) for text in texts]"
   ]
  },
  {
   "cell_type": "code",
   "execution_count": 31,
   "metadata": {},
   "outputs": [
    {
     "name": "stdout",
     "output_type": "stream",
     "text": [
      "[(0,\n",
      "  '0.010*\"wear\" + 0.008*\"staysafe\" + 0.007*\"wearing\" + 0.007*\"one\" + '\n",
      "  '0.006*\"stayhome\" + 0.005*\"make\" + 0.005*\"facecoverings\" + 0.005*\"get\" + '\n",
      "  '0.005*\"new\" + 0.004*\"public\"'),\n",
      " (1,\n",
      "  '0.010*\"ppe\" + 0.008*\"usa\" + 0.008*\"use\" + 0.007*\"available\" + '\n",
      "  '0.007*\"spread\" + 0.007*\"new\" + 0.007*\"protection\" + 0.006*\"via\" + '\n",
      "  '0.006*\"free\" + 0.006*\"wearamask\"'),\n",
      " (2,\n",
      "  '0.006*\"wearing\" + 0.006*\"wear\" + 0.004*\"new\" + 0.004*\"art\" + 0.004*\"made\" + '\n",
      "  '0.004*\"pandemic\" + 0.004*\"via\" + 0.004*\"shop\" + 0.003*\"use\" + '\n",
      "  '0.003*\"medical\"')]\n"
     ]
    }
   ],
   "source": [
    "from pprint import pprint\n",
    "\n",
    "# set number of topics\n",
    "num_topics = 3\n",
    "\n",
    "# build an LDA model\n",
    "lda_model = gensim.models.LdaMulticore(corpus=corpus, id2word=id2word, num_topics=num_topics)\n",
    "\n",
    "# print keywords in each topic\n",
    "pprint(lda_model.print_topics())\n",
    "doc_lda = lda_model[corpus]"
   ]
  },
  {
   "cell_type": "code",
   "execution_count": 32,
   "metadata": {},
   "outputs": [
    {
     "name": "stderr",
     "output_type": "stream",
     "text": [
      "/opt/anaconda3/envs/tm/lib/python3.7/site-packages/sklearn/decomposition/_lda.py:28: DeprecationWarning: `np.float` is a deprecated alias for the builtin `float`. To silence this warning, use `float` by itself. Doing this will not modify any behavior and is safe. If you specifically wanted the numpy scalar type, use `np.float64` here.\n",
      "Deprecated in NumPy 1.20; for more details and guidance: https://numpy.org/devdocs/release/1.20.0-notes.html#deprecations\n",
      "  EPS = np.finfo(np.float).eps\n"
     ]
    }
   ],
   "source": [
    "import os\n",
    "import pyLDAvis.gensim\n",
    "import pickle \n",
    "import pyLDAvis\n",
    "\n",
    "pyLDAvis.enable_notebook()\n",
    "\n",
    "LDAvis_data_filepath = os.path.join('./'+str(num_topics))\n",
    "\n",
    "LDAvis_prepared = pyLDAvis.gensim.prepare(lda_model, corpus, id2word)\n",
    "with open(LDAvis_data_filepath, 'wb') as f:\n",
    "  pickle.dump(LDAvis_prepared, f)\n",
    "\n",
    "with open(LDAvis_data_filepath, 'rb') as f:\n",
    "  LDAvis_prepared = pickle.load(f)\n",
    "\n",
    "pyLDAvis.save_html(LDAvis_prepared, './'+ str(num_topics) +'.html')"
   ]
  },
  {
   "cell_type": "markdown",
   "metadata": {},
   "source": [
    "### Proportion of People in Each Country Who Support Wearing Masks to Those Who Do Not"
   ]
  },
  {
   "cell_type": "code",
   "execution_count": 33,
   "metadata": {},
   "outputs": [
    {
     "name": "stderr",
     "output_type": "stream",
     "text": [
      "/opt/anaconda3/envs/tm/lib/python3.7/site-packages/ipykernel/ipkernel.py:283: DeprecationWarning: `should_run_async` will not call `transform_cell` automatically in the future. Please pass the result to `transformed_cell` argument and any exception that happen during thetransform in `preprocessing_exc_tuple` in IPython 7.17 and above.\n",
      "  and should_run_async(code)\n"
     ]
    }
   ],
   "source": [
    "country = ['USA','Italy','China','Australia','France','England','Scotland','Canada','Netherland','Japan','Africa','Germany','Ireland','Malaysia','Singapore']\n",
    "tweets_df_country = tweets_df[tweets_df['location'].str.contains('Singapore', na=False)]"
   ]
  },
  {
   "cell_type": "code",
   "execution_count": 34,
   "metadata": {},
   "outputs": [
    {
     "name": "stderr",
     "output_type": "stream",
     "text": [
      "/opt/anaconda3/envs/tm/lib/python3.7/site-packages/ipykernel/ipkernel.py:283: DeprecationWarning: `should_run_async` will not call `transform_cell` automatically in the future. Please pass the result to `transformed_cell` argument and any exception that happen during thetransform in `preprocessing_exc_tuple` in IPython 7.17 and above.\n",
      "  and should_run_async(code)\n"
     ]
    },
    {
     "data": {
      "text/plain": [
       "[0.66827667912148,\n",
       " 0.9671052631578947,\n",
       " 0.8571428571428571,\n",
       " 1.0657894736842106,\n",
       " 0.7243589743589743,\n",
       " 0.9352544007716421,\n",
       " 1.2119113573407203,\n",
       " 1.093071354705274,\n",
       " 0.55,\n",
       " 1.6293706293706294,\n",
       " 1.2519280205655527,\n",
       " 0.5197889182058048,\n",
       " 1.2932745314222713,\n",
       " 0.7090909090909091,\n",
       " 1.2795698924731183]"
      ]
     },
     "execution_count": 34,
     "metadata": {},
     "output_type": "execute_result"
    }
   ],
   "source": [
    "from vaderSentiment.vaderSentiment import SentimentIntensityAnalyzer\n",
    "# Sentiment analysis\n",
    "results = []\n",
    "for c in country:\n",
    "    tweets_df_country = tweets_df[tweets_df['location'].str.contains(c,na=False)]\n",
    "\n",
    "    # Removing duplicate tweets\n",
    "    unique_tweets = list(set(list(tweets_df_country['text_processed'].values)))\n",
    "    unique_tweets = [t for t in unique_tweets if t]\n",
    "    \n",
    "    analyzer = SentimentIntensityAnalyzer()\n",
    "    compound = []\n",
    "    for tweet_text in unique_tweets:\n",
    "        vs = analyzer.polarity_scores(tweet_text)\n",
    "        compound.append(vs['compound'])\n",
    "    \n",
    "    data = pd.DataFrame(compound)\n",
    "    pos = data.loc[(data[0] >= 0.05)].count()\n",
    "    neg = data.loc[(data[0] <= 0.05)].count()\n",
    "    results.append(pos/neg)\n",
    "\n",
    "country_results = []\n",
    "for i in range(len(results)):\n",
    "   country_results.append(results[i][0])\n",
    "country_results"
   ]
  },
  {
   "cell_type": "code",
   "execution_count": 35,
   "metadata": {},
   "outputs": [
    {
     "name": "stderr",
     "output_type": "stream",
     "text": [
      "/opt/anaconda3/envs/tm/lib/python3.7/site-packages/ipykernel/ipkernel.py:283: DeprecationWarning: `should_run_async` will not call `transform_cell` automatically in the future. Please pass the result to `transformed_cell` argument and any exception that happen during thetransform in `preprocessing_exc_tuple` in IPython 7.17 and above.\n",
      "  and should_run_async(code)\n"
     ]
    }
   ],
   "source": [
    "dic = {\n",
    "    'country':country,\n",
    "    'country_results':country_results\n",
    "}\n",
    "country_ = pd.DataFrame(dic)\n",
    "country_ = country_.sort_values('country_results')"
   ]
  },
  {
   "cell_type": "code",
   "execution_count": 36,
   "metadata": {},
   "outputs": [
    {
     "name": "stderr",
     "output_type": "stream",
     "text": [
      "/opt/anaconda3/envs/tm/lib/python3.7/site-packages/ipykernel/ipkernel.py:283: DeprecationWarning: `should_run_async` will not call `transform_cell` automatically in the future. Please pass the result to `transformed_cell` argument and any exception that happen during thetransform in `preprocessing_exc_tuple` in IPython 7.17 and above.\n",
      "  and should_run_async(code)\n"
     ]
    },
    {
     "data": {
      "image/png": "[encoded data removed]",
      "text/plain": [
       "<Figure size 1008x576 with 1 Axes>"
      ]
     },
     "metadata": {
      "needs_background": "light"
     },
     "output_type": "display_data"
    }
   ],
   "source": [
    "# Visiualize\n",
    "plt.figure(figsize=(14,8))\n",
    "color = ['grey','gold','turquoise','m','y','darkorange','lightgreen','plum','tan','khaki','pink','darkviolet','skyblue','lawngreen','salmon']\n",
    "plt.bar(country_['country'], country_['country_results'], width=0.6, color=color)\n",
    "plt.xlabel('country')\n",
    "plt.ylabel('pos/neg')\n",
    "plt.title(\"Support for masks in various countries\")\n",
    "x = np.arange(15)\n",
    "y = np.array(country_['country_results'])\n",
    "for _x, _y in zip(x, y):\n",
    "    plt.text(_x, _y+0.005, '%.2f'%_y, ha='center', va='bottom', size=8)\n",
    "plt.show()"
   ]
  },
  {
   "cell_type": "markdown",
   "metadata": {},
   "source": [
    "# Task 4 How do the attitudes of people to face masks change since the outbreak of Covid-19"
   ]
  },
  {
   "cell_type": "markdown",
   "metadata": {},
   "source": [
    "## Sentiment Analysis"
   ]
  },
  {
   "cell_type": "code",
   "execution_count": 37,
   "metadata": {},
   "outputs": [
    {
     "name": "stderr",
     "output_type": "stream",
     "text": [
      "/opt/anaconda3/envs/tm/lib/python3.7/site-packages/ipykernel/ipkernel.py:283: DeprecationWarning: `should_run_async` will not call `transform_cell` automatically in the future. Please pass the result to `transformed_cell` argument and any exception that happen during thetransform in `preprocessing_exc_tuple` in IPython 7.17 and above.\n",
      "  and should_run_async(code)\n"
     ]
    }
   ],
   "source": [
    "from vaderSentiment.vaderSentiment import SentimentIntensityAnalyzer\n",
    "neu = []\n",
    "pos = []\n",
    "neg = []\n",
    "ym = [(0, 2), (0, 3), (0, 4), (0, 5), (0, 6), (0, 7), (0, 8), (0, 9), (0, 10), (0, 11), (0, 12), (1, 1), (1, 2), (1, 3)]\n",
    "for _ym in ym:\n",
    "    if _ym[1] >= 10:\n",
    "        date = '202%s-%s'\n",
    "    else:\n",
    "        date = '202%s-0%s'\n",
    "    date = date%(_ym[0], _ym[1])\n",
    "        \n",
    "    tweets_df_copy = tweets_df[tweets_df['date'].str.contains(date)]\n",
    "    \n",
    "    # Removing duplicate tweets\n",
    "    unique_tweets = list(set(list(tweets_df_copy['text_processed'].values)))\n",
    "    unique_tweets = [t for t in unique_tweets if t]\n",
    "    \n",
    "    analyzer = SentimentIntensityAnalyzer()\n",
    "    compound = []\n",
    "    for tweet_text in unique_tweets:\n",
    "        vs = analyzer.polarity_scores(tweet_text)\n",
    "        compound.append(vs['compound'])\n",
    "    \n",
    "    data = pd.DataFrame(compound)\n",
    "    neu.append(data.loc[(data[0] > -0.05) & (data[0] < 0.05)].count())\n",
    "    pos.append(data.loc[(data[0] >= 0.05)].count())\n",
    "    neg.append(data.loc[(data[0] <= -0.05)].count())"
   ]
  },
  {
   "cell_type": "code",
   "execution_count": 38,
   "metadata": {},
   "outputs": [
    {
     "name": "stderr",
     "output_type": "stream",
     "text": [
      "/opt/anaconda3/envs/tm/lib/python3.7/site-packages/ipykernel/ipkernel.py:283: DeprecationWarning: `should_run_async` will not call `transform_cell` automatically in the future. Please pass the result to `transformed_cell` argument and any exception that happen during thetransform in `preprocessing_exc_tuple` in IPython 7.17 and above.\n",
      "  and should_run_async(code)\n"
     ]
    }
   ],
   "source": [
    "rate = []\n",
    "for i in range(0, 14):\n",
    "    rate.append(pos[i]/neg[i])"
   ]
  },
  {
   "cell_type": "code",
   "execution_count": 39,
   "metadata": {},
   "outputs": [
    {
     "name": "stderr",
     "output_type": "stream",
     "text": [
      "/opt/anaconda3/envs/tm/lib/python3.7/site-packages/ipykernel/ipkernel.py:283: DeprecationWarning: `should_run_async` will not call `transform_cell` automatically in the future. Please pass the result to `transformed_cell` argument and any exception that happen during thetransform in `preprocessing_exc_tuple` in IPython 7.17 and above.\n",
      "  and should_run_async(code)\n"
     ]
    }
   ],
   "source": [
    "label = []\n",
    "for _ym in ym:\n",
    "    if _ym[1] >= 10:\n",
    "        date = '202%s-%s'\n",
    "    else:\n",
    "        date = '202%s-0%s'\n",
    "    label.append(date%(_ym[0], _ym[1]))"
   ]
  },
  {
   "cell_type": "code",
   "execution_count": 40,
   "metadata": {},
   "outputs": [
    {
     "name": "stderr",
     "output_type": "stream",
     "text": [
      "/opt/anaconda3/envs/tm/lib/python3.7/site-packages/ipykernel/ipkernel.py:283: DeprecationWarning: `should_run_async` will not call `transform_cell` automatically in the future. Please pass the result to `transformed_cell` argument and any exception that happen during thetransform in `preprocessing_exc_tuple` in IPython 7.17 and above.\n",
      "  and should_run_async(code)\n"
     ]
    },
    {
     "data": {
      "image/png": "[encoded data removed]",
      "text/plain": [
       "<Figure size 1008x576 with 1 Axes>"
      ]
     },
     "metadata": {
      "needs_background": "light"
     },
     "output_type": "display_data"
    }
   ],
   "source": [
    "import matplotlib.pyplot as plt\n",
    "import numpy as np\n",
    "\n",
    "plt.figure(figsize=(14,8))\n",
    "plt.plot(rate, 'o-')\n",
    "plt.xticks(range(len(label)), label)\n",
    "plt.xlabel('Month')\n",
    "plt.ylabel('Pos/Neg')\n",
    "plt.title(\"The rate of pos/neg\")\n",
    "x = np.arange(14)\n",
    "y = np.array(rate)\n",
    "for _x, _y in zip(x, y):\n",
    "    plt.text(_x, _y+0.005, '%.2f'%_y, ha='center', va='bottom', size=8)\n",
    "plt.show()"
   ]
  }
 ],
 "metadata": {
  "kernelspec": {
   "display_name": "Python 3",
   "language": "python",
   "name": "python3"
  },
  "language_info": {
   "codemirror_mode": {
    "name": "ipython",
    "version": 3
   },
   "file_extension": ".py",
   "mimetype": "text/x-python",
   "name": "python",
   "nbconvert_exporter": "python",
   "pygments_lexer": "ipython3",
   "version": "3.7.9"
  }
 },
 "nbformat": 4,
 "nbformat_minor": 4
}
