{
 "cells": [
  {
   "cell_type": "markdown",
   "metadata": {},
   "source": [
    "#  week 4\n",
    "In addition to the below, remember you can always ask the Lab Helpers for suggestions at the alloted times.\n",
    "\n",
    "The outline code for the level 1 tasks is deliberately much more sparse this week, as you should know feel comfortable in training and testing machine learning models.\n",
    "\n",
    "## Level 1\n",
    "\n",
    "### Build an ID3 (entropy) decision tree with a maximum depth of 10, and a minimum number of examples of 5, using any dataset\n",
    "\n",
    "Remember to do a train/test split. Repeat this with a range of minimum number of examples (up to 500). What is the difference in the test error? What happens if you repeat this for a larger data set?\n",
    "\n",
    "The code below provides the functions you will need to build a decision tree for the digits dataset. \n",
    "\n",
    "Start by training a model for a constant minimun number of examples per leaf of 5 (min_samples_leaf).\n",
    "\n",
    "\n",
    "Rather than change the number of examples individually, you should be able to run the code as a loop (as in examples in previous weeks) and save your outputs"
   ]
  },
  {
   "cell_type": "code",
   "execution_count": 2,
   "metadata": {},
   "outputs": [
    {
     "name": "stdout",
     "output_type": "stream",
     "text": [
      "0.13611111111111107\n"
     ]
    }
   ],
   "source": [
    "from sklearn import datasets\n",
    "import numpy as np\n",
    "import matplotlib.pyplot as plt\n",
    "from sklearn.model_selection import train_test_split\n",
    "from sklearn.tree import DecisionTreeClassifier\n",
    "from sklearn.metrics import accuracy_score\n",
    "from sklearn import preprocessing\n",
    "from sklearn import tree\n",
    "\n",
    "digits = datasets.load_digits()\n",
    "X_scaled = preprocessing.scale(digits.data)\n",
    "\n",
    "#TODO - complete the rest\n",
    "X_train, X_test, y_train, y_test = train_test_split(X_scaled, digits.target, test_size=0.2, random_state=41)\n",
    "model = DecisionTreeClassifier(criterion=\"entropy\",random_state=0,max_depth=10,min_samples_leaf=5)\n",
    "model.fit(X_train,y_train)\n",
    "y_pred = model.predict(X_test)\n",
    "# this line calculates the error rate, and then adds it on to the error_rate array\n",
    "# error rate:\n",
    "print(1-accuracy_score(y_test,y_pred))"
   ]
  },
  {
   "cell_type": "markdown",
   "metadata": {},
   "source": [
    "## Repeat the previous task, using gini impurity: \n",
    "Are there many differences in the final tree when min_samples_leaf = 5 for the gin vs entropy criteria? What about the computation time?"
   ]
  },
  {
   "cell_type": "code",
   "execution_count": 7,
   "metadata": {},
   "outputs": [
    {
     "name": "stdout",
     "output_type": "stream",
     "text": [
      "1606296962.235778\n",
      "0.012786865234375\n",
      "0.15555555555555556\n"
     ]
    },
    {
     "data": {
      "text/plain": [
       "[Text(80.27262931034483, 207.55636363636364, 'X[36] <= -1.652\\ngini = 0.9\\nsamples = 1437\\nvalue = [140, 149, 139, 147, 142, 143, 145, 146, 146, 140]'),\n",
       " Text(23.089655172413792, 187.7890909090909, 'X[42] <= -0.288\\ngini = 0.544\\nsamples = 216\\nvalue = [137, 0, 3, 1, 6, 18, 3, 0, 2, 46]'),\n",
       " Text(11.544827586206896, 168.0218181818182, 'X[21] <= -0.211\\ngini = 0.41\\nsamples = 61\\nvalue = [1, 0, 1, 1, 0, 13, 0, 0, 0, 45]'),\n",
       " Text(5.772413793103448, 148.25454545454545, 'X[5] <= 0.745\\ngini = 0.328\\nsamples = 16\\nvalue = [1, 0, 1, 0, 0, 13, 0, 0, 0, 1]'),\n",
       " Text(2.886206896551724, 128.48727272727274, 'gini = 0.72\\nsamples = 5\\nvalue = [1, 0, 1, 0, 0, 2, 0, 0, 0, 1]'),\n",
       " Text(8.658620689655173, 128.48727272727274, 'gini = 0.0\\nsamples = 11\\nvalue = [0, 0, 0, 0, 0, 11, 0, 0, 0, 0]'),\n",
       " Text(17.317241379310346, 148.25454545454545, 'X[4] <= 0.852\\ngini = 0.043\\nsamples = 45\\nvalue = [0, 0, 0, 1, 0, 0, 0, 0, 0, 44]'),\n",
       " Text(14.43103448275862, 128.48727272727274, 'gini = 0.0\\nsamples = 40\\nvalue = [0, 0, 0, 0, 0, 0, 0, 0, 0, 40]'),\n",
       " Text(20.20344827586207, 128.48727272727274, 'gini = 0.32\\nsamples = 5\\nvalue = [0, 0, 0, 1, 0, 0, 0, 0, 0, 4]'),\n",
       " Text(34.63448275862069, 168.0218181818182, 'X[21] <= -1.179\\ngini = 0.227\\nsamples = 155\\nvalue = [136, 0, 2, 0, 6, 5, 3, 0, 2, 1]'),\n",
       " Text(28.86206896551724, 148.25454545454545, 'X[37] <= -0.553\\ngini = 0.722\\nsamples = 13\\nvalue = [1, 0, 1, 0, 5, 4, 2, 0, 0, 0]'),\n",
       " Text(25.975862068965515, 128.48727272727274, 'gini = 0.656\\nsamples = 8\\nvalue = [1, 0, 1, 0, 0, 4, 2, 0, 0, 0]'),\n",
       " Text(31.748275862068965, 128.48727272727274, 'gini = 0.0\\nsamples = 5\\nvalue = [0, 0, 0, 0, 5, 0, 0, 0, 0, 0]'),\n",
       " Text(40.40689655172414, 148.25454545454545, 'X[28] <= -0.882\\ngini = 0.096\\nsamples = 142\\nvalue = [135, 0, 1, 0, 1, 1, 1, 0, 2, 1]'),\n",
       " Text(37.52068965517241, 128.48727272727274, 'X[44] <= -0.028\\ngini = 0.029\\nsamples = 137\\nvalue = [135, 0, 1, 0, 1, 0, 0, 0, 0, 0]'),\n",
       " Text(34.63448275862069, 108.72, 'gini = 0.0\\nsamples = 132\\nvalue = [132, 0, 0, 0, 0, 0, 0, 0, 0, 0]'),\n",
       " Text(40.40689655172414, 108.72, 'gini = 0.56\\nsamples = 5\\nvalue = [3, 0, 1, 0, 1, 0, 0, 0, 0, 0]'),\n",
       " Text(43.29310344827586, 128.48727272727274, 'gini = 0.72\\nsamples = 5\\nvalue = [0, 0, 0, 0, 0, 1, 1, 0, 2, 1]'),\n",
       " Text(137.45560344827587, 187.7890909090909, 'X[21] <= -1.179\\ngini = 0.888\\nsamples = 1221\\nvalue = [3, 149, 136, 146, 136, 125, 142, 146, 144, 94]'),\n",
       " Text(81.5353448275862, 168.0218181818182, 'X[42] <= 0.248\\ngini = 0.734\\nsamples = 364\\nvalue = [0, 33, 33, 11, 24, 114, 139, 6, 3, 1]'),\n",
       " Text(61.331896551724135, 148.25454545454545, 'X[5] <= -0.756\\ngini = 0.614\\nsamples = 189\\nvalue = [0, 27, 23, 11, 6, 111, 2, 5, 3, 1]'),\n",
       " Text(53.394827586206894, 128.48727272727274, 'X[19] <= 1.294\\ngini = 0.753\\nsamples = 76\\nvalue = [0, 27, 23, 11, 4, 2, 2, 4, 2, 1]'),\n",
       " Text(46.179310344827584, 108.72, 'X[37] <= -0.808\\ngini = 0.727\\nsamples = 48\\nvalue = [0, 4, 22, 10, 2, 2, 1, 4, 2, 1]'),\n",
       " Text(40.40689655172414, 88.95272727272729, 'X[58] <= -0.697\\ngini = 0.269\\nsamples = 26\\nvalue = [0, 3, 22, 0, 0, 0, 0, 0, 1, 0]'),\n",
       " Text(37.52068965517241, 69.18545454545455, 'gini = 0.56\\nsamples = 5\\nvalue = [0, 3, 1, 0, 0, 0, 0, 0, 1, 0]'),\n",
       " Text(43.29310344827586, 69.18545454545455, 'gini = 0.0\\nsamples = 21\\nvalue = [0, 0, 21, 0, 0, 0, 0, 0, 0, 0]'),\n",
       " Text(51.95172413793103, 88.95272727272729, 'X[43] <= -0.268\\ngini = 0.736\\nsamples = 22\\nvalue = [0, 1, 0, 10, 2, 2, 1, 4, 1, 1]'),\n",
       " Text(49.06551724137931, 69.18545454545455, 'X[12] <= 0.883\\ngini = 0.459\\nsamples = 14\\nvalue = [0, 1, 0, 10, 0, 2, 0, 0, 0, 1]'),\n",
       " Text(46.179310344827584, 49.418181818181836, 'gini = 0.72\\nsamples = 5\\nvalue = [0, 1, 0, 1, 0, 2, 0, 0, 0, 1]'),\n",
       " Text(51.95172413793103, 49.418181818181836, 'gini = 0.0\\nsamples = 9\\nvalue = [0, 0, 0, 9, 0, 0, 0, 0, 0, 0]'),\n",
       " Text(54.83793103448276, 69.18545454545455, 'gini = 0.656\\nsamples = 8\\nvalue = [0, 0, 0, 0, 2, 0, 1, 4, 1, 0]'),\n",
       " Text(60.610344827586204, 108.72, 'X[46] <= -0.336\\ngini = 0.316\\nsamples = 28\\nvalue = [0, 23, 1, 1, 2, 0, 1, 0, 0, 0]'),\n",
       " Text(57.72413793103448, 88.95272727272729, 'gini = 0.0\\nsamples = 23\\nvalue = [0, 23, 0, 0, 0, 0, 0, 0, 0, 0]'),\n",
       " Text(63.49655172413793, 88.95272727272729, 'gini = 0.72\\nsamples = 5\\nvalue = [0, 0, 1, 1, 2, 0, 1, 0, 0, 0]'),\n",
       " Text(69.26896551724138, 128.48727272727274, 'X[10] <= -0.163\\ngini = 0.069\\nsamples = 113\\nvalue = [0, 0, 0, 0, 2, 109, 0, 1, 1, 0]'),\n",
       " Text(66.38275862068966, 108.72, 'gini = 0.64\\nsamples = 5\\nvalue = [0, 0, 0, 0, 2, 2, 0, 1, 0, 0]'),\n",
       " Text(72.1551724137931, 108.72, 'X[5] <= -0.138\\ngini = 0.018\\nsamples = 108\\nvalue = [0, 0, 0, 0, 0, 107, 0, 0, 1, 0]'),\n",
       " Text(69.26896551724138, 88.95272727272729, 'gini = 0.32\\nsamples = 5\\nvalue = [0, 0, 0, 0, 0, 4, 0, 0, 1, 0]'),\n",
       " Text(75.04137931034482, 88.95272727272729, 'gini = 0.0\\nsamples = 103\\nvalue = [0, 0, 0, 0, 0, 103, 0, 0, 0, 0]'),\n",
       " Text(101.73879310344827, 148.25454545454545, 'X[54] <= -0.046\\ngini = 0.372\\nsamples = 175\\nvalue = [0, 6, 10, 0, 18, 3, 137, 1, 0, 0]'),\n",
       " Text(93.80172413793103, 128.48727272727274, 'X[41] <= 0.978\\ngini = 0.722\\nsamples = 40\\nvalue = [0, 6, 5, 0, 18, 3, 7, 1, 0, 0]'),\n",
       " Text(86.58620689655172, 108.72, 'X[45] <= -1.095\\ngini = 0.775\\nsamples = 23\\nvalue = [0, 6, 5, 0, 2, 2, 7, 1, 0, 0]'),\n",
       " Text(80.81379310344828, 88.95272727272729, 'X[34] <= 0.053\\ngini = 0.496\\nsamples = 11\\nvalue = [0, 6, 5, 0, 0, 0, 0, 0, 0, 0]'),\n",
       " Text(77.92758620689655, 69.18545454545455, 'gini = 0.0\\nsamples = 5\\nvalue = [0, 0, 5, 0, 0, 0, 0, 0, 0, 0]'),\n",
       " Text(83.7, 69.18545454545455, 'gini = 0.0\\nsamples = 6\\nvalue = [0, 6, 0, 0, 0, 0, 0, 0, 0, 0]'),\n",
       " Text(92.35862068965517, 88.95272727272729, 'X[50] <= -0.09\\ngini = 0.597\\nsamples = 12\\nvalue = [0, 0, 0, 0, 2, 2, 7, 1, 0, 0]'),\n",
       " Text(89.47241379310344, 69.18545454545455, 'gini = 0.64\\nsamples = 5\\nvalue = [0, 0, 0, 0, 2, 2, 1, 0, 0, 0]'),\n",
       " Text(95.2448275862069, 69.18545454545455, 'gini = 0.245\\nsamples = 7\\nvalue = [0, 0, 0, 0, 0, 0, 6, 1, 0, 0]'),\n",
       " Text(101.01724137931033, 108.72, 'X[38] <= 1.864\\ngini = 0.111\\nsamples = 17\\nvalue = [0, 0, 0, 0, 16, 1, 0, 0, 0, 0]'),\n",
       " Text(98.13103448275862, 88.95272727272729, 'gini = 0.0\\nsamples = 12\\nvalue = [0, 0, 0, 0, 12, 0, 0, 0, 0, 0]'),\n",
       " Text(103.90344827586206, 88.95272727272729, 'gini = 0.32\\nsamples = 5\\nvalue = [0, 0, 0, 0, 4, 1, 0, 0, 0, 0]'),\n",
       " Text(109.67586206896551, 128.48727272727274, 'X[20] <= 0.065\\ngini = 0.071\\nsamples = 135\\nvalue = [0, 0, 5, 0, 0, 0, 130, 0, 0, 0]'),\n",
       " Text(106.78965517241379, 108.72, 'gini = 0.0\\nsamples = 130\\nvalue = [0, 0, 0, 0, 0, 0, 130, 0, 0, 0]'),\n",
       " Text(112.56206896551724, 108.72, 'gini = 0.0\\nsamples = 5\\nvalue = [0, 0, 5, 0, 0, 0, 0, 0, 0, 0]'),\n",
       " Text(193.37586206896552, 168.0218181818182, 'X[60] <= -0.874\\ngini = 0.86\\nsamples = 857\\nvalue = [3, 116, 103, 135, 112, 11, 3, 140, 141, 93]'),\n",
       " Text(140.3418103448276, 148.25454545454545, 'X[5] <= -0.932\\ngini = 0.567\\nsamples = 202\\nvalue = [0, 10, 5, 10, 24, 4, 0, 129, 10, 10]'),\n",
       " Text(121.22068965517241, 128.48727272727274, 'X[12] <= -0.581\\ngini = 0.6\\nsamples = 38\\nvalue = [0, 2, 4, 0, 23, 2, 0, 4, 3, 0]'),\n",
       " Text(118.33448275862068, 108.72, 'gini = 0.0\\nsamples = 23\\nvalue = [0, 0, 0, 0, 23, 0, 0, 0, 0, 0]'),\n",
       " Text(124.10689655172413, 108.72, 'X[35] <= 0.068\\ngini = 0.782\\nsamples = 15\\nvalue = [0, 2, 4, 0, 0, 2, 0, 4, 3, 0]'),\n",
       " Text(121.22068965517241, 88.95272727272729, 'gini = 0.32\\nsamples = 5\\nvalue = [0, 0, 4, 0, 0, 1, 0, 0, 0, 0]'),\n",
       " Text(126.99310344827586, 88.95272727272729, 'X[18] <= -0.95\\ngini = 0.7\\nsamples = 10\\nvalue = [0, 2, 0, 0, 0, 1, 0, 4, 3, 0]'),\n",
       " Text(124.10689655172413, 69.18545454545455, 'gini = 0.32\\nsamples = 5\\nvalue = [0, 1, 0, 0, 0, 0, 0, 4, 0, 0]'),\n",
       " Text(129.8793103448276, 69.18545454545455, 'gini = 0.56\\nsamples = 5\\nvalue = [0, 1, 0, 0, 0, 1, 0, 0, 3, 0]'),\n",
       " Text(159.46293103448275, 128.48727272727274, 'X[53] <= -0.872\\ngini = 0.407\\nsamples = 164\\nvalue = [0, 8, 1, 10, 1, 2, 0, 125, 7, 10]'),\n",
       " Text(148.6396551724138, 108.72, 'X[38] <= -0.681\\ngini = 0.281\\nsamples = 148\\nvalue = [0, 3, 0, 4, 1, 1, 0, 125, 5, 9]'),\n",
       " Text(141.42413793103447, 88.95272727272729, 'X[30] <= -0.222\\ngini = 0.674\\nsamples = 45\\nvalue = [0, 3, 0, 4, 0, 1, 0, 23, 5, 9]'),\n",
       " Text(135.65172413793104, 69.18545454545455, 'X[7] <= 0.839\\ngini = 0.793\\nsamples = 26\\nvalue = [0, 3, 0, 4, 0, 1, 0, 5, 5, 8]'),\n",
       " Text(132.7655172413793, 49.418181818181836, 'X[42] <= -0.211\\ngini = 0.739\\nsamples = 21\\nvalue = [0, 3, 0, 4, 0, 1, 0, 0, 5, 8]'),\n",
       " Text(129.8793103448276, 29.650909090909096, 'X[57] <= 0.236\\ngini = 0.521\\nsamples = 13\\nvalue = [0, 0, 0, 4, 0, 1, 0, 0, 0, 8]'),\n",
       " Text(126.99310344827586, 9.883636363636384, 'gini = 0.0\\nsamples = 8\\nvalue = [0, 0, 0, 0, 0, 0, 0, 0, 0, 8]'),\n",
       " Text(132.7655172413793, 9.883636363636384, 'gini = 0.32\\nsamples = 5\\nvalue = [0, 0, 0, 4, 0, 1, 0, 0, 0, 0]'),\n",
       " Text(135.65172413793104, 29.650909090909096, 'gini = 0.469\\nsamples = 8\\nvalue = [0, 3, 0, 0, 0, 0, 0, 0, 5, 0]'),\n",
       " Text(138.53793103448277, 49.418181818181836, 'gini = 0.0\\nsamples = 5\\nvalue = [0, 0, 0, 0, 0, 0, 0, 5, 0, 0]'),\n",
       " Text(147.19655172413792, 69.18545454545455, 'X[59] <= 0.551\\ngini = 0.1\\nsamples = 19\\nvalue = [0, 0, 0, 0, 0, 0, 0, 18, 0, 1]'),\n",
       " Text(144.3103448275862, 49.418181818181836, 'gini = 0.0\\nsamples = 14\\nvalue = [0, 0, 0, 0, 0, 0, 0, 14, 0, 0]'),\n",
       " Text(150.08275862068965, 49.418181818181836, 'gini = 0.32\\nsamples = 5\\nvalue = [0, 0, 0, 0, 0, 0, 0, 4, 0, 1]'),\n",
       " Text(155.8551724137931, 88.95272727272729, 'X[4] <= -0.315\\ngini = 0.019\\nsamples = 103\\nvalue = [0, 0, 0, 0, 1, 0, 0, 102, 0, 0]'),\n",
       " Text(152.96896551724137, 69.18545454545455, 'gini = 0.32\\nsamples = 5\\nvalue = [0, 0, 0, 0, 1, 0, 0, 4, 0, 0]'),\n",
       " Text(158.74137931034483, 69.18545454545455, 'gini = 0.0\\nsamples = 98\\nvalue = [0, 0, 0, 0, 0, 0, 0, 98, 0, 0]'),\n",
       " Text(170.2862068965517, 108.72, 'X[3] <= 0.392\\ngini = 0.734\\nsamples = 16\\nvalue = [0, 5, 1, 6, 0, 1, 0, 0, 2, 1]'),\n",
       " Text(167.4, 88.95272727272729, 'X[11] <= -1.755\\ngini = 0.68\\nsamples = 10\\nvalue = [0, 5, 1, 0, 0, 1, 0, 0, 2, 1]'),\n",
       " Text(164.51379310344828, 69.18545454545455, 'gini = 0.0\\nsamples = 5\\nvalue = [0, 5, 0, 0, 0, 0, 0, 0, 0, 0]'),\n",
       " Text(170.2862068965517, 69.18545454545455, 'gini = 0.72\\nsamples = 5\\nvalue = [0, 0, 1, 0, 0, 1, 0, 0, 2, 1]'),\n",
       " Text(173.17241379310343, 88.95272727272729, 'gini = 0.0\\nsamples = 6\\nvalue = [0, 0, 0, 6, 0, 0, 0, 0, 0, 0]'),\n",
       " Text(246.40991379310344, 148.25454545454545, 'X[43] <= -0.89\\ngini = 0.84\\nsamples = 655\\nvalue = [3, 106, 98, 125, 88, 7, 3, 11, 131, 83]'),\n",
       " Text(198.42672413793102, 128.48727272727274, 'X[29] <= 0.843\\ngini = 0.664\\nsamples = 239\\nvalue = [0, 16, 5, 114, 6, 7, 1, 1, 14, 75]'),\n",
       " Text(184.71724137931034, 108.72, 'X[34] <= -0.659\\ngini = 0.358\\nsamples = 136\\nvalue = [0, 4, 1, 108, 1, 3, 0, 0, 11, 8]'),\n",
       " Text(178.94482758620688, 88.95272727272729, 'X[26] <= -0.096\\ngini = 0.148\\nsamples = 115\\nvalue = [0, 1, 1, 106, 0, 3, 0, 0, 0, 4]'),\n",
       " Text(176.05862068965516, 69.18545454545455, 'X[4] <= -0.781\\ngini = 0.055\\nsamples = 108\\nvalue = [0, 1, 1, 105, 0, 0, 0, 0, 0, 1]'),\n",
       " Text(173.17241379310343, 49.418181818181836, 'gini = 0.667\\nsamples = 6\\nvalue = [0, 1, 1, 3, 0, 0, 0, 0, 0, 1]'),\n",
       " Text(178.94482758620688, 49.418181818181836, 'gini = 0.0\\nsamples = 102\\nvalue = [0, 0, 0, 102, 0, 0, 0, 0, 0, 0]'),\n",
       " Text(181.8310344827586, 69.18545454545455, 'gini = 0.612\\nsamples = 7\\nvalue = [0, 0, 0, 1, 0, 3, 0, 0, 0, 3]'),\n",
       " Text(190.4896551724138, 88.95272727272729, 'X[41] <= -0.028\\ngini = 0.658\\nsamples = 21\\nvalue = [0, 3, 0, 2, 1, 0, 0, 0, 11, 4]'),\n",
       " Text(187.60344827586206, 69.18545454545455, 'X[12] <= 0.674\\ngini = 0.7\\nsamples = 10\\nvalue = [0, 3, 0, 2, 1, 0, 0, 0, 0, 4]'),\n",
       " Text(184.71724137931034, 49.418181818181836, 'gini = 0.32\\nsamples = 5\\nvalue = [0, 0, 0, 0, 1, 0, 0, 0, 0, 4]'),\n",
       " Text(190.4896551724138, 49.418181818181836, 'gini = 0.48\\nsamples = 5\\nvalue = [0, 3, 0, 2, 0, 0, 0, 0, 0, 0]'),\n",
       " Text(193.37586206896552, 69.18545454545455, 'gini = 0.0\\nsamples = 11\\nvalue = [0, 0, 0, 0, 0, 0, 0, 0, 11, 0]'),\n",
       " Text(212.13620689655173, 108.72, 'X[44] <= -0.267\\ngini = 0.553\\nsamples = 103\\nvalue = [0, 12, 4, 6, 5, 4, 1, 1, 3, 67]'),\n",
       " Text(202.03448275862067, 88.95272727272729, 'X[26] <= -1.226\\ngini = 0.284\\nsamples = 69\\nvalue = [0, 1, 0, 6, 0, 2, 1, 0, 1, 58]'),\n",
       " Text(199.14827586206897, 69.18545454545455, 'gini = 0.375\\nsamples = 8\\nvalue = [0, 0, 0, 6, 0, 0, 0, 0, 0, 2]'),\n",
       " Text(204.9206896551724, 69.18545454545455, 'X[41] <= -0.364\\ngini = 0.155\\nsamples = 61\\nvalue = [0, 1, 0, 0, 0, 2, 1, 0, 1, 56]'),\n",
       " Text(202.03448275862067, 49.418181818181836, 'X[19] <= 1.466\\ngini = 0.07\\nsamples = 56\\nvalue = [0, 1, 0, 0, 0, 1, 0, 0, 0, 54]'),\n",
       " Text(199.14827586206897, 29.650909090909096, 'gini = 0.0\\nsamples = 51\\nvalue = [0, 0, 0, 0, 0, 0, 0, 0, 0, 51]'),\n",
       " Text(204.9206896551724, 29.650909090909096, 'gini = 0.56\\nsamples = 5\\nvalue = [0, 1, 0, 0, 0, 1, 0, 0, 0, 3]'),\n",
       " Text(207.80689655172412, 49.418181818181836, 'gini = 0.72\\nsamples = 5\\nvalue = [0, 0, 0, 0, 0, 1, 1, 0, 1, 2]'),\n",
       " Text(222.23793103448276, 88.95272727272729, 'X[12] <= 0.674\\ngini = 0.782\\nsamples = 34\\nvalue = [0, 11, 4, 0, 5, 2, 0, 1, 2, 9]'),\n",
       " Text(216.4655172413793, 69.18545454545455, 'X[13] <= -1.021\\ngini = 0.776\\nsamples = 21\\nvalue = [0, 0, 4, 0, 5, 2, 0, 1, 2, 7]'),\n",
       " Text(213.57931034482758, 49.418181818181836, 'gini = 0.0\\nsamples = 5\\nvalue = [0, 0, 0, 0, 5, 0, 0, 0, 0, 0]'),\n",
       " Text(219.35172413793103, 49.418181818181836, 'X[51] <= -0.582\\ngini = 0.711\\nsamples = 16\\nvalue = [0, 0, 4, 0, 0, 2, 0, 1, 2, 7]'),\n",
       " Text(216.4655172413793, 29.650909090909096, 'gini = 0.219\\nsamples = 8\\nvalue = [0, 0, 0, 0, 0, 0, 0, 0, 1, 7]'),\n",
       " Text(222.23793103448276, 29.650909090909096, 'gini = 0.656\\nsamples = 8\\nvalue = [0, 0, 4, 0, 0, 2, 0, 1, 1, 0]'),\n",
       " Text(228.0103448275862, 69.18545454545455, 'X[19] <= 0.863\\ngini = 0.26\\nsamples = 13\\nvalue = [0, 11, 0, 0, 0, 0, 0, 0, 0, 2]'),\n",
       " Text(225.12413793103448, 49.418181818181836, 'gini = 0.48\\nsamples = 5\\nvalue = [0, 3, 0, 0, 0, 0, 0, 0, 0, 2]'),\n",
       " Text(230.8965517241379, 49.418181818181836, 'gini = 0.0\\nsamples = 8\\nvalue = [0, 8, 0, 0, 0, 0, 0, 0, 0, 0]'),\n",
       " Text(294.39310344827584, 128.48727272727274, 'X[33] <= 0.334\\ngini = 0.784\\nsamples = 416\\nvalue = [3, 90, 93, 11, 82, 0, 2, 10, 117, 8]'),\n",
       " Text(265.5310344827586, 108.72, 'X[27] <= 0.285\\ngini = 0.724\\nsamples = 317\\nvalue = [1, 76, 92, 11, 4, 0, 1, 9, 115, 8]'),\n",
       " Text(245.32758620689654, 88.95272727272729, 'X[26] <= -0.419\\ngini = 0.501\\nsamples = 127\\nvalue = [0, 3, 87, 3, 2, 0, 0, 8, 19, 5]'),\n",
       " Text(239.5551724137931, 69.18545454545455, 'X[38] <= -0.54\\ngini = 0.261\\nsamples = 97\\nvalue = [0, 2, 83, 3, 0, 0, 0, 7, 2, 0]'),\n",
       " Text(236.66896551724136, 49.418181818181836, 'X[19] <= 0.605\\ngini = 0.109\\nsamples = 88\\nvalue = [0, 2, 83, 1, 0, 0, 0, 0, 2, 0]'),\n",
       " Text(233.78275862068963, 29.650909090909096, 'X[51] <= -0.008\\ngini = 0.025\\nsamples = 80\\nvalue = [0, 0, 79, 1, 0, 0, 0, 0, 0, 0]'),\n",
       " Text(230.8965517241379, 9.883636363636384, 'gini = 0.32\\nsamples = 5\\nvalue = [0, 0, 4, 1, 0, 0, 0, 0, 0, 0]'),\n",
       " Text(236.66896551724136, 9.883636363636384, 'gini = 0.0\\nsamples = 75\\nvalue = [0, 0, 75, 0, 0, 0, 0, 0, 0, 0]'),\n",
       " Text(239.5551724137931, 29.650909090909096, 'gini = 0.625\\nsamples = 8\\nvalue = [0, 2, 4, 0, 0, 0, 0, 0, 2, 0]'),\n",
       " Text(242.44137931034481, 49.418181818181836, 'gini = 0.346\\nsamples = 9\\nvalue = [0, 0, 0, 2, 0, 0, 0, 7, 0, 0]'),\n",
       " Text(251.1, 69.18545454545455, 'X[37] <= 0.299\\ngini = 0.627\\nsamples = 30\\nvalue = [0, 1, 4, 0, 2, 0, 0, 1, 17, 5]'),\n",
       " Text(248.21379310344827, 49.418181818181836, 'X[35] <= 0.387\\ngini = 0.434\\nsamples = 22\\nvalue = [0, 1, 4, 0, 0, 0, 0, 1, 16, 0]'),\n",
       " Text(245.32758620689654, 29.650909090909096, 'gini = 0.612\\nsamples = 7\\nvalue = [0, 1, 4, 0, 0, 0, 0, 1, 1, 0]'),\n",
       " Text(251.1, 29.650909090909096, 'gini = 0.0\\nsamples = 15\\nvalue = [0, 0, 0, 0, 0, 0, 0, 0, 15, 0]'),\n",
       " Text(253.98620689655172, 49.418181818181836, 'gini = 0.531\\nsamples = 8\\nvalue = [0, 0, 0, 0, 2, 0, 0, 0, 1, 5]'),\n",
       " Text(285.7344827586207, 88.95272727272729, 'X[12] <= 1.092\\ngini = 0.594\\nsamples = 190\\nvalue = [1, 73, 5, 8, 2, 0, 1, 1, 96, 3]'),\n",
       " Text(266.9741379310345, 69.18545454545455, 'X[18] <= -1.565\\ngini = 0.297\\nsamples = 103\\nvalue = [1, 2, 1, 7, 1, 0, 1, 1, 86, 3]'),\n",
       " Text(259.7586206896552, 49.418181818181836, 'X[2] <= -0.043\\ngini = 0.6\\nsamples = 10\\nvalue = [0, 1, 0, 6, 1, 0, 1, 0, 1, 0]'),\n",
       " Text(256.8724137931034, 29.650909090909096, 'gini = 0.8\\nsamples = 5\\nvalue = [0, 1, 0, 1, 1, 0, 1, 0, 1, 0]'),\n",
       " Text(262.6448275862069, 29.650909090909096, 'gini = 0.0\\nsamples = 5\\nvalue = [0, 0, 0, 5, 0, 0, 0, 0, 0, 0]'),\n",
       " Text(274.1896551724138, 49.418181818181836, 'X[50] <= -0.976\\ngini = 0.163\\nsamples = 93\\nvalue = [1, 1, 1, 1, 0, 0, 0, 1, 85, 3]'),\n",
       " Text(268.4172413793103, 29.650909090909096, 'X[51] <= 0.184\\ngini = 0.583\\nsamples = 12\\nvalue = [0, 0, 0, 1, 0, 0, 0, 1, 7, 3]'),\n",
       " Text(265.5310344827586, 9.883636363636384, 'gini = 0.56\\nsamples = 5\\nvalue = [0, 0, 0, 1, 0, 0, 0, 1, 0, 3]'),\n",
       " Text(271.3034482758621, 9.883636363636384, 'gini = 0.0\\nsamples = 7\\nvalue = [0, 0, 0, 0, 0, 0, 0, 0, 7, 0]'),\n",
       " Text(279.96206896551723, 29.650909090909096, 'X[13] <= -1.268\\ngini = 0.072\\nsamples = 81\\nvalue = [1, 1, 1, 0, 0, 0, 0, 0, 78, 0]'),\n",
       " Text(277.07586206896553, 9.883636363636384, 'gini = 0.56\\nsamples = 5\\nvalue = [0, 1, 1, 0, 0, 0, 0, 0, 3, 0]'),\n",
       " Text(282.84827586206893, 9.883636363636384, 'gini = 0.026\\nsamples = 76\\nvalue = [1, 0, 0, 0, 0, 0, 0, 0, 75, 0]'),\n",
       " Text(304.4948275862069, 69.18545454545455, 'X[9] <= -0.468\\ngini = 0.318\\nsamples = 87\\nvalue = [0, 71, 4, 1, 1, 0, 0, 0, 10, 0]'),\n",
       " Text(297.2793103448276, 49.418181818181836, 'X[50] <= 0.708\\ngini = 0.149\\nsamples = 75\\nvalue = [0, 69, 0, 0, 1, 0, 0, 0, 5, 0]'),\n",
       " Text(291.50689655172414, 29.650909090909096, 'X[34] <= 1.002\\ngini = 0.033\\nsamples = 60\\nvalue = [0, 59, 0, 0, 1, 0, 0, 0, 0, 0]'),\n",
       " Text(288.6206896551724, 9.883636363636384, 'gini = 0.0\\nsamples = 55\\nvalue = [0, 55, 0, 0, 0, 0, 0, 0, 0, 0]'),\n",
       " Text(294.39310344827584, 9.883636363636384, 'gini = 0.32\\nsamples = 5\\nvalue = [0, 4, 0, 0, 1, 0, 0, 0, 0, 0]'),\n",
       " Text(303.05172413793105, 29.650909090909096, 'X[51] <= 0.854\\ngini = 0.444\\nsamples = 15\\nvalue = [0, 10, 0, 0, 0, 0, 0, 0, 5, 0]'),\n",
       " Text(300.1655172413793, 9.883636363636384, 'gini = 0.278\\nsamples = 6\\nvalue = [0, 1, 0, 0, 0, 0, 0, 0, 5, 0]'),\n",
       " Text(305.93793103448274, 9.883636363636384, 'gini = 0.0\\nsamples = 9\\nvalue = [0, 9, 0, 0, 0, 0, 0, 0, 0, 0]'),\n",
       " Text(311.7103448275862, 49.418181818181836, 'X[21] <= 0.435\\ngini = 0.681\\nsamples = 12\\nvalue = [0, 2, 4, 1, 0, 0, 0, 0, 5, 0]'),\n",
       " Text(308.82413793103444, 29.650909090909096, 'gini = 0.571\\nsamples = 7\\nvalue = [0, 2, 4, 1, 0, 0, 0, 0, 0, 0]'),\n",
       " Text(314.5965517241379, 29.650909090909096, 'gini = 0.0\\nsamples = 5\\nvalue = [0, 0, 0, 0, 0, 0, 0, 0, 5, 0]'),\n",
       " Text(323.2551724137931, 108.72, 'X[27] <= 1.136\\ngini = 0.358\\nsamples = 99\\nvalue = [2, 14, 1, 0, 78, 0, 1, 1, 2, 0]'),\n",
       " Text(317.48275862068965, 88.95272727272729, 'X[13] <= 0.632\\ngini = 0.16\\nsamples = 83\\nvalue = [2, 1, 1, 0, 76, 0, 1, 1, 1, 0]'),\n",
       " Text(314.5965517241379, 69.18545454545455, 'gini = 0.0\\nsamples = 73\\nvalue = [0, 0, 0, 0, 73, 0, 0, 0, 0, 0]'),\n",
       " Text(320.36896551724135, 69.18545454545455, 'X[22] <= -0.089\\ngini = 0.82\\nsamples = 10\\nvalue = [2, 1, 1, 0, 3, 0, 1, 1, 1, 0]'),\n",
       " Text(317.48275862068965, 49.418181818181836, 'gini = 0.56\\nsamples = 5\\nvalue = [0, 1, 0, 0, 3, 0, 1, 0, 0, 0]'),\n",
       " Text(323.2551724137931, 49.418181818181836, 'gini = 0.72\\nsamples = 5\\nvalue = [2, 0, 1, 0, 0, 0, 0, 1, 1, 0]'),\n",
       " Text(329.02758620689656, 88.95272727272729, 'X[61] <= -0.214\\ngini = 0.32\\nsamples = 16\\nvalue = [0, 13, 0, 0, 2, 0, 0, 0, 1, 0]'),\n",
       " Text(326.1413793103448, 69.18545454545455, 'gini = 0.611\\nsamples = 6\\nvalue = [0, 3, 0, 0, 2, 0, 0, 0, 1, 0]'),\n",
       " Text(331.91379310344826, 69.18545454545455, 'gini = 0.0\\nsamples = 10\\nvalue = [0, 10, 0, 0, 0, 0, 0, 0, 0, 0]')]"
      ]
     },
     "execution_count": 7,
     "metadata": {},
     "output_type": "execute_result"
    },
    {
     "data": {
      "image/png": "[encoded data removed]",
      "text/plain": [
       "<Figure size 432x288 with 1 Axes>"
      ]
     },
     "metadata": {
      "needs_background": "light"
     },
     "output_type": "display_data"
    }
   ],
   "source": [
    "from sklearn.tree import plot_tree\n",
    "\n",
    "# If you have completed the first part correctly, you should be able to re-use most of the code. You will need the additional\n",
    "#imported function to plot the tree. If oyu are unsure about how to measure computation time, check last weeks python notebook\n",
    "import matplotlib.pyplot as plt\n",
    "from sklearn.model_selection import train_test_split\n",
    "from sklearn.tree import DecisionTreeClassifier\n",
    "from sklearn.metrics import accuracy_score\n",
    "from sklearn import preprocessing\n",
    "from sklearn import tree\n",
    "import time\n",
    "\n",
    "digits = datasets.load_digits()\n",
    "X_scaled = preprocessing.scale(digits.data)\n",
    "\n",
    "#TODO - complete the rest\n",
    "X_train, X_test, y_train, y_test = train_test_split(X_scaled, digits.target, test_size=0.2, random_state=41)\n",
    "model = DecisionTreeClassifier(criterion=\"gini\",random_state=0,max_depth=10,min_samples_leaf=5)\n",
    "start_t = time.time()\n",
    "model.fit(X_train,y_train)\n",
    "print(time.time()-start_t)\n",
    "y_pred = model.predict(X_test)\n",
    "# this line calculates the error rate, and then adds it on to the error_rate array\n",
    "# error rate:\n",
    "print(1-accuracy_score(y_test,y_pred))\n",
    "plot_tree(model)"
   ]
  },
  {
   "cell_type": "markdown",
   "metadata": {},
   "source": [
    "### Construct an ROC curve for a logistic regression classifier using the inbuilt functions in scikit\n",
    "\n",
    "Note that an ROC curve only works for 2 classes (in its standard form), so you will need to select an appropriate dataset"
   ]
  },
  {
   "cell_type": "code",
   "execution_count": 20,
   "metadata": {},
   "outputs": [
    {
     "name": "stdout",
     "output_type": "stream",
     "text": [
      "[1 1 1 1 1 1 1 1 1 1 0 1 1 0 0 1 1 0 0 1 0 0 0 1 1 0 0 1 1 1 1 0 1 0 1 1 1\n",
      " 1 0 1 0 1 0 1 0 1 1 1 1 1 0 1 1 0 0 1 0 1 1 0 1 1 0 1 1 1 1 0 1 1 0 0 0 1\n",
      " 1 0 1 0 1 0 1 1 1 1 0 1 1 1 1 1 1 0 1 1 1 1 0 1 1 1 1 1 1 0 0 1 0 0 1 1 0\n",
      " 1 1 0 1 0 1 1 1 0 1 0 1 1 0 1 1 1 1 0 0 1 1 0 1 0 0 1 1 0 0 1 1 0 0 0 0 1\n",
      " 1 1 1 0 1 1 1 0 0 1 0 1 0 0 0 0 0 0 0 1 1 1 1]\n"
     ]
    },
    {
     "name": "stderr",
     "output_type": "stream",
     "text": [
      "/opt/anaconda3/lib/python3.8/site-packages/sklearn/linear_model/_logistic.py:762: ConvergenceWarning: lbfgs failed to converge (status=1):\n",
      "STOP: TOTAL NO. of ITERATIONS REACHED LIMIT.\n",
      "\n",
      "Increase the number of iterations (max_iter) or scale the data as shown in:\n",
      "    https://scikit-learn.org/stable/modules/preprocessing.html\n",
      "Please also refer to the documentation for alternative solver options:\n",
      "    https://scikit-learn.org/stable/modules/linear_model.html#logistic-regression\n",
      "  n_iter_i = _check_optimize_result(\n"
     ]
    },
    {
     "data": {
      "text/plain": [
       "Text(0.5, 0, 'False Positive Rate')"
      ]
     },
     "execution_count": 20,
     "metadata": {},
     "output_type": "execute_result"
    },
    {
     "data": {
      "image/png": "[encoded data removed]",
      "text/plain": [
       "<Figure size 432x288 with 1 Axes>"
      ]
     },
     "metadata": {
      "needs_background": "light"
     },
     "output_type": "display_data"
    }
   ],
   "source": [
    "from sklearn.datasets import load_breast_cancer\n",
    "from sklearn.linear_model import LogisticRegression\n",
    "from sklearn.metrics import roc_curve\n",
    "from sklearn.preprocessing import StandardScaler\n",
    "import matplotlib.pyplot as plt\n",
    "\n",
    "data = load_breast_cancer()\n",
    "X = data.data;\n",
    "y = data.target;\n",
    "\n",
    "X_train, X_test, y_train, y_test = train_test_split(X, y, test_size = 0.3)\n",
    "# TODO - complete the rest\n",
    "clf = LogisticRegression()\n",
    "clf.fit(X_train,y_train)\n",
    "y_pred = clf.predict(X_test)\n",
    "print(y_pred)\n",
    "accuracy_score(y_test,y_pred)\n",
    "fpr,tpr,threshold=roc_curve(y_true=y_test,y_score=y_pred,pos_label=1)\n",
    "\n",
    "from sklearn.metrics import auc \n",
    "\n",
    "plt.plot(fpr, tpr)  \n",
    "plt.ylabel('True Positive Rate')  \n",
    "plt.xlabel('False Positive Rate')\n"
   ]
  },
  {
   "cell_type": "markdown",
   "metadata": {},
   "source": [
    "## Level 2\n",
    "### implement an ROC curve for a logistic regression classifier from scratch\n",
    "\n",
    "You can use sklearn to generate and learn the model (and provide output probabilities for the class), but you should write the rest yourself."
   ]
  },
  {
   "cell_type": "code",
   "execution_count": 22,
   "metadata": {},
   "outputs": [
    {
     "name": "stdout",
     "output_type": "stream",
     "text": [
      "[[1.00000000e+00 2.63071595e-21]\n",
      " [1.97668733e-03 9.98023313e-01]\n",
      " [9.99998401e-01 1.59852140e-06]\n",
      " [1.00000000e+00 2.04242943e-19]\n",
      " [9.99960604e-01 3.93963075e-05]\n",
      " [5.35361302e-02 9.46463870e-01]\n",
      " [1.00000000e+00 6.69109653e-18]\n",
      " [3.07954764e-01 6.92045236e-01]\n",
      " [3.14490222e-02 9.68550978e-01]\n",
      " [7.89882383e-01 2.10117617e-01]\n",
      " [9.94481114e-01 5.51888647e-03]\n",
      " [8.89773015e-04 9.99110227e-01]\n",
      " [2.51031772e-03 9.97489682e-01]\n",
      " [1.44132294e-01 8.55867706e-01]\n",
      " [1.66616116e-03 9.98333839e-01]\n",
      " [9.99961090e-01 3.89096759e-05]\n",
      " [2.47502852e-02 9.75249715e-01]\n",
      " [8.13833171e-03 9.91861668e-01]\n",
      " [1.44234471e-03 9.98557655e-01]\n",
      " [1.27515693e-01 8.72484307e-01]\n",
      " [1.00000000e+00 1.72203219e-22]\n",
      " [3.57959306e-03 9.96420407e-01]\n",
      " [8.26698794e-01 1.73301206e-01]\n",
      " [7.50735436e-04 9.99249265e-01]\n",
      " [3.94568807e-01 6.05431193e-01]\n",
      " [1.81193564e-01 8.18806436e-01]\n",
      " [1.79947796e-02 9.82005220e-01]\n",
      " [9.99992800e-01 7.19988972e-06]\n",
      " [2.50660738e-02 9.74933926e-01]\n",
      " [9.99999846e-01 1.54270672e-07]\n",
      " [9.99999906e-01 9.42047176e-08]\n",
      " [2.02371129e-03 9.97976289e-01]\n",
      " [3.43136828e-01 6.56863172e-01]\n",
      " [2.50744775e-03 9.97492552e-01]\n",
      " [7.42305427e-03 9.92576946e-01]\n",
      " [1.62398144e-03 9.98376019e-01]\n",
      " [1.00000000e+00 1.35300132e-53]\n",
      " [1.30550544e-03 9.98694495e-01]\n",
      " [1.77485361e-02 9.82251464e-01]\n",
      " [3.36258367e-04 9.99663742e-01]\n",
      " [6.60947490e-03 9.93390525e-01]\n",
      " [1.00000000e+00 6.04507336e-14]\n",
      " [9.99978100e-01 2.19004890e-05]\n",
      " [2.88174567e-03 9.97118254e-01]\n",
      " [5.23784714e-01 4.76215286e-01]\n",
      " [9.99999981e-01 1.88140939e-08]\n",
      " [6.62660221e-03 9.93373398e-01]\n",
      " [9.99997718e-01 2.28187762e-06]\n",
      " [8.22281662e-01 1.77718338e-01]\n",
      " [1.07865469e-01 8.92134531e-01]\n",
      " [9.99999980e-01 1.96570166e-08]\n",
      " [4.03992922e-02 9.59600708e-01]\n",
      " [1.75105916e-02 9.82489408e-01]\n",
      " [1.20618137e-03 9.98793819e-01]\n",
      " [3.20751181e-01 6.79248819e-01]\n",
      " [4.41005562e-02 9.55899444e-01]\n",
      " [9.99999999e-01 8.67320889e-10]\n",
      " [3.22206090e-02 9.67779391e-01]\n",
      " [5.98825980e-01 4.01174020e-01]\n",
      " [7.99124779e-02 9.20087522e-01]\n",
      " [1.00000000e+00 1.41323735e-11]\n",
      " [4.81824172e-03 9.95181758e-01]\n",
      " [9.97935627e-01 2.06437287e-03]\n",
      " [2.62553185e-03 9.97374468e-01]\n",
      " [5.95533665e-03 9.94044663e-01]\n",
      " [1.20264494e-03 9.98797355e-01]\n",
      " [1.27734004e-03 9.98722660e-01]\n",
      " [9.97801231e-01 2.19876937e-03]\n",
      " [8.48673612e-01 1.51326388e-01]\n",
      " [3.68063356e-04 9.99631937e-01]\n",
      " [6.87217752e-01 3.12782248e-01]\n",
      " [2.60013247e-02 9.73998675e-01]\n",
      " [1.72721518e-01 8.27278482e-01]\n",
      " [9.92804106e-01 7.19589369e-03]\n",
      " [9.95940152e-01 4.05984835e-03]\n",
      " [1.12189062e-02 9.88781094e-01]\n",
      " [9.99537070e-01 4.62929851e-04]\n",
      " [9.99999914e-01 8.62491305e-08]\n",
      " [9.99999840e-01 1.60311239e-07]\n",
      " [9.99999991e-01 9.32764414e-09]\n",
      " [1.93552048e-02 9.80644795e-01]\n",
      " [9.99997412e-01 2.58775230e-06]\n",
      " [4.56994422e-02 9.54300558e-01]\n",
      " [9.99936085e-01 6.39146018e-05]\n",
      " [6.42113815e-02 9.35788619e-01]\n",
      " [1.00000000e+00 4.79354338e-16]\n",
      " [1.19003839e-03 9.98809962e-01]\n",
      " [1.99625010e-01 8.00374990e-01]\n",
      " [1.00000000e+00 3.84033896e-11]\n",
      " [4.27856406e-02 9.57214359e-01]\n",
      " [8.51181237e-03 9.91488188e-01]\n",
      " [9.95714649e-01 4.28535121e-03]\n",
      " [9.99994685e-01 5.31540090e-06]\n",
      " [5.20910462e-05 9.99947909e-01]\n",
      " [2.08350533e-01 7.91649467e-01]\n",
      " [1.57555263e-02 9.84244474e-01]\n",
      " [1.68567157e-02 9.83143284e-01]\n",
      " [9.94762395e-01 5.23760462e-03]\n",
      " [9.92259638e-01 7.74036237e-03]\n",
      " [5.01736969e-02 9.49826303e-01]\n",
      " [1.00000000e+00 1.11069314e-13]\n",
      " [8.85347165e-01 1.14652835e-01]\n",
      " [2.89674005e-03 9.97103260e-01]\n",
      " [1.32336793e-02 9.86766321e-01]\n",
      " [9.58889726e-01 4.11102742e-02]\n",
      " [1.64370235e-02 9.83562976e-01]\n",
      " [1.00000000e+00 2.13554032e-12]\n",
      " [1.53503774e-01 8.46496226e-01]\n",
      " [9.99999999e-01 1.12556635e-09]\n",
      " [5.85209526e-03 9.94147905e-01]\n",
      " [1.76445908e-01 8.23554092e-01]\n",
      " [9.48675696e-01 5.13243038e-02]\n",
      " [3.76267799e-02 9.62373220e-01]\n",
      " [5.18456692e-03 9.94815433e-01]\n",
      " [9.99999974e-01 2.56947168e-08]\n",
      " [1.00000000e+00 5.12637881e-11]\n",
      " [7.84079231e-05 9.99921592e-01]\n",
      " [5.20125547e-04 9.99479874e-01]\n",
      " [9.74163984e-01 2.58360162e-02]\n",
      " [1.00000000e+00 1.78383939e-24]\n",
      " [9.99999986e-01 1.40471301e-08]\n",
      " [8.42682662e-01 1.57317338e-01]\n",
      " [9.93273261e-01 6.72673901e-03]\n",
      " [2.87664096e-03 9.97123359e-01]\n",
      " [9.72733484e-01 2.72665155e-02]\n",
      " [1.00000000e+00 9.16823556e-13]\n",
      " [7.89344577e-05 9.99921066e-01]\n",
      " [6.25347771e-02 9.37465223e-01]\n",
      " [2.59890497e-01 7.40109503e-01]\n",
      " [9.99999228e-01 7.71905896e-07]\n",
      " [9.99994955e-01 5.04515826e-06]\n",
      " [1.97616359e-02 9.80238364e-01]\n",
      " [9.97599769e-01 2.40023070e-03]\n",
      " [6.01947162e-01 3.98052838e-01]\n",
      " [2.72483732e-01 7.27516268e-01]\n",
      " [9.99995979e-01 4.02124856e-06]\n",
      " [5.00331601e-05 9.99949967e-01]\n",
      " [1.08127811e-03 9.98918722e-01]\n",
      " [9.74333133e-01 2.56668672e-02]\n",
      " [1.80653642e-03 9.98193464e-01]\n",
      " [9.99756836e-01 2.43163879e-04]\n",
      " [3.55301075e-02 9.64469893e-01]\n",
      " [1.10299644e-02 9.88970036e-01]\n",
      " [9.25461956e-01 7.45380440e-02]\n",
      " [7.79437342e-03 9.92205627e-01]\n",
      " [5.44625500e-04 9.99455374e-01]\n",
      " [9.99999997e-01 3.03133807e-09]\n",
      " [1.28574022e-03 9.98714260e-01]\n",
      " [1.00000000e+00 6.96268707e-13]\n",
      " [1.64576625e-02 9.83542337e-01]\n",
      " [2.47277106e-02 9.75272289e-01]\n",
      " [1.57633349e-03 9.98423667e-01]\n",
      " [6.56392378e-02 9.34360762e-01]\n",
      " [1.00000000e+00 1.33194111e-21]\n",
      " [1.19497357e-03 9.98805026e-01]\n",
      " [1.00000000e+00 8.39173465e-26]\n",
      " [7.41235846e-01 2.58764154e-01]\n",
      " [2.71683378e-02 9.72831662e-01]\n",
      " [9.99132085e-01 8.67914509e-04]\n",
      " [6.73094085e-03 9.93269059e-01]\n",
      " [5.41818347e-04 9.99458182e-01]\n",
      " [4.10241230e-03 9.95897588e-01]\n",
      " [1.00000000e+00 1.50450529e-17]\n",
      " [1.79260588e-03 9.98207394e-01]\n",
      " [3.25013923e-03 9.96749861e-01]\n",
      " [9.99999992e-01 7.85628256e-09]\n",
      " [1.00218497e-02 9.89978150e-01]\n",
      " [4.18736636e-03 9.95812634e-01]\n",
      " [3.35625979e-03 9.96643740e-01]\n",
      " [9.25194617e-03 9.90748054e-01]\n",
      " [8.76108970e-03 9.91238910e-01]]\n"
     ]
    },
    {
     "name": "stderr",
     "output_type": "stream",
     "text": [
      "/opt/anaconda3/lib/python3.8/site-packages/sklearn/linear_model/_logistic.py:762: ConvergenceWarning: lbfgs failed to converge (status=1):\n",
      "STOP: TOTAL NO. of ITERATIONS REACHED LIMIT.\n",
      "\n",
      "Increase the number of iterations (max_iter) or scale the data as shown in:\n",
      "    https://scikit-learn.org/stable/modules/preprocessing.html\n",
      "Please also refer to the documentation for alternative solver options:\n",
      "    https://scikit-learn.org/stable/modules/linear_model.html#logistic-regression\n",
      "  n_iter_i = _check_optimize_result(\n"
     ]
    }
   ],
   "source": [
    "from sklearn.datasets import load_breast_cancer\n",
    "from sklearn.linear_model import LogisticRegression\n",
    "from sklearn.metrics import roc_curve\n",
    "from sklearn.preprocessing import StandardScaler\n",
    "from sklearn import preprocessing\n",
    "import matplotlib.pyplot as plt\n",
    "\n",
    "data = load_breast_cancer()\n",
    "X = data.data;\n",
    "y = data.target;\n",
    "\n",
    "X_train, X_test, y_train, y_test = train_test_split(X, y, test_size = 0.3)\n",
    "\n",
    "# TODO: train logistic regression model below - you will need to use the predict_proba function to get the label probabilities\n",
    "clf = LogisticRegression()\n",
    "clf.fit(X_train,y_train)\n",
    "y_pred_pro = clf.predict_proba(X_test)"
   ]
  },
  {
   "cell_type": "code",
   "execution_count": 27,
   "metadata": {},
   "outputs": [],
   "source": [
    "# Here is the ROC part:\n",
    "\n",
    "# sweep through the decision threshold - from 0 to 1, in small steps\n",
    "tpr = []\n",
    "fpr = []\n",
    "\n",
    "for thresh in np.arange(0,1,0.01):\n",
    "    # TODO calculate tpr\n",
    "    # TODO calculate fpr\n",
    "    y_pred = preprocessing.binarize(X=y_pred_pro,threshold=thresh)[:,1]\n",
    "    fpr_t,tpr_t,th = roc_curve(y_test,y_pred)\n",
    "    fpr.append(fpr_t)\n",
    "    tpr.append(tpr_t)\n",
    "    \n"
   ]
  },
  {
   "cell_type": "code",
   "execution_count": 28,
   "metadata": {},
   "outputs": [
    {
     "ename": "ValueError",
     "evalue": "setting an array element with a sequence.",
     "output_type": "error",
     "traceback": [
      "\u001b[0;31m---------------------------------------------------------------------------\u001b[0m",
      "\u001b[0;31mTypeError\u001b[0m                                 Traceback (most recent call last)",
      "\u001b[0;31mTypeError\u001b[0m: only size-1 arrays can be converted to Python scalars",
      "\nThe above exception was the direct cause of the following exception:\n",
      "\u001b[0;31mValueError\u001b[0m                                Traceback (most recent call last)",
      "\u001b[0;32m<ipython-input-28-ab6a39b1a64d>\u001b[0m in \u001b[0;36m<module>\u001b[0;34m\u001b[0m\n\u001b[0;32m----> 1\u001b[0;31m \u001b[0mplt\u001b[0m\u001b[0;34m.\u001b[0m\u001b[0mplot\u001b[0m\u001b[0;34m(\u001b[0m\u001b[0mfpr\u001b[0m\u001b[0;34m,\u001b[0m\u001b[0mtpr\u001b[0m\u001b[0;34m)\u001b[0m\u001b[0;34m\u001b[0m\u001b[0;34m\u001b[0m\u001b[0m\n\u001b[0m",
      "\u001b[0;32m/opt/anaconda3/lib/python3.8/site-packages/matplotlib/pyplot.py\u001b[0m in \u001b[0;36mplot\u001b[0;34m(scalex, scaley, data, *args, **kwargs)\u001b[0m\n\u001b[1;32m   2759\u001b[0m \u001b[0;34m@\u001b[0m\u001b[0mdocstring\u001b[0m\u001b[0;34m.\u001b[0m\u001b[0mcopy\u001b[0m\u001b[0;34m(\u001b[0m\u001b[0mAxes\u001b[0m\u001b[0;34m.\u001b[0m\u001b[0mplot\u001b[0m\u001b[0;34m)\u001b[0m\u001b[0;34m\u001b[0m\u001b[0;34m\u001b[0m\u001b[0m\n\u001b[1;32m   2760\u001b[0m \u001b[0;32mdef\u001b[0m \u001b[0mplot\u001b[0m\u001b[0;34m(\u001b[0m\u001b[0;34m*\u001b[0m\u001b[0margs\u001b[0m\u001b[0;34m,\u001b[0m \u001b[0mscalex\u001b[0m\u001b[0;34m=\u001b[0m\u001b[0;32mTrue\u001b[0m\u001b[0;34m,\u001b[0m \u001b[0mscaley\u001b[0m\u001b[0;34m=\u001b[0m\u001b[0;32mTrue\u001b[0m\u001b[0;34m,\u001b[0m \u001b[0mdata\u001b[0m\u001b[0;34m=\u001b[0m\u001b[0;32mNone\u001b[0m\u001b[0;34m,\u001b[0m \u001b[0;34m**\u001b[0m\u001b[0mkwargs\u001b[0m\u001b[0;34m)\u001b[0m\u001b[0;34m:\u001b[0m\u001b[0;34m\u001b[0m\u001b[0;34m\u001b[0m\u001b[0m\n\u001b[0;32m-> 2761\u001b[0;31m     return gca().plot(\n\u001b[0m\u001b[1;32m   2762\u001b[0m         *args, scalex=scalex, scaley=scaley, **({\"data\": data} if data\n\u001b[1;32m   2763\u001b[0m         is not None else {}), **kwargs)\n",
      "\u001b[0;32m/opt/anaconda3/lib/python3.8/site-packages/matplotlib/axes/_axes.py\u001b[0m in \u001b[0;36mplot\u001b[0;34m(self, scalex, scaley, data, *args, **kwargs)\u001b[0m\n\u001b[1;32m   1647\u001b[0m         \u001b[0mlines\u001b[0m \u001b[0;34m=\u001b[0m \u001b[0;34m[\u001b[0m\u001b[0;34m*\u001b[0m\u001b[0mself\u001b[0m\u001b[0;34m.\u001b[0m\u001b[0m_get_lines\u001b[0m\u001b[0;34m(\u001b[0m\u001b[0;34m*\u001b[0m\u001b[0margs\u001b[0m\u001b[0;34m,\u001b[0m \u001b[0mdata\u001b[0m\u001b[0;34m=\u001b[0m\u001b[0mdata\u001b[0m\u001b[0;34m,\u001b[0m \u001b[0;34m**\u001b[0m\u001b[0mkwargs\u001b[0m\u001b[0;34m)\u001b[0m\u001b[0;34m]\u001b[0m\u001b[0;34m\u001b[0m\u001b[0;34m\u001b[0m\u001b[0m\n\u001b[1;32m   1648\u001b[0m         \u001b[0;32mfor\u001b[0m \u001b[0mline\u001b[0m \u001b[0;32min\u001b[0m \u001b[0mlines\u001b[0m\u001b[0;34m:\u001b[0m\u001b[0;34m\u001b[0m\u001b[0;34m\u001b[0m\u001b[0m\n\u001b[0;32m-> 1649\u001b[0;31m             \u001b[0mself\u001b[0m\u001b[0;34m.\u001b[0m\u001b[0madd_line\u001b[0m\u001b[0;34m(\u001b[0m\u001b[0mline\u001b[0m\u001b[0;34m)\u001b[0m\u001b[0;34m\u001b[0m\u001b[0;34m\u001b[0m\u001b[0m\n\u001b[0m\u001b[1;32m   1650\u001b[0m         \u001b[0mself\u001b[0m\u001b[0;34m.\u001b[0m\u001b[0m_request_autoscale_view\u001b[0m\u001b[0;34m(\u001b[0m\u001b[0mscalex\u001b[0m\u001b[0;34m=\u001b[0m\u001b[0mscalex\u001b[0m\u001b[0;34m,\u001b[0m \u001b[0mscaley\u001b[0m\u001b[0;34m=\u001b[0m\u001b[0mscaley\u001b[0m\u001b[0;34m)\u001b[0m\u001b[0;34m\u001b[0m\u001b[0;34m\u001b[0m\u001b[0m\n\u001b[1;32m   1651\u001b[0m         \u001b[0;32mreturn\u001b[0m \u001b[0mlines\u001b[0m\u001b[0;34m\u001b[0m\u001b[0;34m\u001b[0m\u001b[0m\n",
      "\u001b[0;32m/opt/anaconda3/lib/python3.8/site-packages/matplotlib/axes/_base.py\u001b[0m in \u001b[0;36madd_line\u001b[0;34m(self, line)\u001b[0m\n\u001b[1;32m   1848\u001b[0m             \u001b[0mline\u001b[0m\u001b[0;34m.\u001b[0m\u001b[0mset_clip_path\u001b[0m\u001b[0;34m(\u001b[0m\u001b[0mself\u001b[0m\u001b[0;34m.\u001b[0m\u001b[0mpatch\u001b[0m\u001b[0;34m)\u001b[0m\u001b[0;34m\u001b[0m\u001b[0;34m\u001b[0m\u001b[0m\n\u001b[1;32m   1849\u001b[0m \u001b[0;34m\u001b[0m\u001b[0m\n\u001b[0;32m-> 1850\u001b[0;31m         \u001b[0mself\u001b[0m\u001b[0;34m.\u001b[0m\u001b[0m_update_line_limits\u001b[0m\u001b[0;34m(\u001b[0m\u001b[0mline\u001b[0m\u001b[0;34m)\u001b[0m\u001b[0;34m\u001b[0m\u001b[0;34m\u001b[0m\u001b[0m\n\u001b[0m\u001b[1;32m   1851\u001b[0m         \u001b[0;32mif\u001b[0m \u001b[0;32mnot\u001b[0m \u001b[0mline\u001b[0m\u001b[0;34m.\u001b[0m\u001b[0mget_label\u001b[0m\u001b[0;34m(\u001b[0m\u001b[0;34m)\u001b[0m\u001b[0;34m:\u001b[0m\u001b[0;34m\u001b[0m\u001b[0;34m\u001b[0m\u001b[0m\n\u001b[1;32m   1852\u001b[0m             \u001b[0mline\u001b[0m\u001b[0;34m.\u001b[0m\u001b[0mset_label\u001b[0m\u001b[0;34m(\u001b[0m\u001b[0;34m'_line%d'\u001b[0m \u001b[0;34m%\u001b[0m \u001b[0mlen\u001b[0m\u001b[0;34m(\u001b[0m\u001b[0mself\u001b[0m\u001b[0;34m.\u001b[0m\u001b[0mlines\u001b[0m\u001b[0;34m)\u001b[0m\u001b[0;34m)\u001b[0m\u001b[0;34m\u001b[0m\u001b[0;34m\u001b[0m\u001b[0m\n",
      "\u001b[0;32m/opt/anaconda3/lib/python3.8/site-packages/matplotlib/axes/_base.py\u001b[0m in \u001b[0;36m_update_line_limits\u001b[0;34m(self, line)\u001b[0m\n\u001b[1;32m   1870\u001b[0m         \u001b[0mFigures\u001b[0m \u001b[0mout\u001b[0m \u001b[0mthe\u001b[0m \u001b[0mdata\u001b[0m \u001b[0mlimit\u001b[0m \u001b[0mof\u001b[0m \u001b[0mthe\u001b[0m \u001b[0mgiven\u001b[0m \u001b[0mline\u001b[0m\u001b[0;34m,\u001b[0m \u001b[0mupdating\u001b[0m \u001b[0mself\u001b[0m\u001b[0;34m.\u001b[0m\u001b[0mdataLim\u001b[0m\u001b[0;34m.\u001b[0m\u001b[0;34m\u001b[0m\u001b[0;34m\u001b[0m\u001b[0m\n\u001b[1;32m   1871\u001b[0m         \"\"\"\n\u001b[0;32m-> 1872\u001b[0;31m         \u001b[0mpath\u001b[0m \u001b[0;34m=\u001b[0m \u001b[0mline\u001b[0m\u001b[0;34m.\u001b[0m\u001b[0mget_path\u001b[0m\u001b[0;34m(\u001b[0m\u001b[0;34m)\u001b[0m\u001b[0;34m\u001b[0m\u001b[0;34m\u001b[0m\u001b[0m\n\u001b[0m\u001b[1;32m   1873\u001b[0m         \u001b[0;32mif\u001b[0m \u001b[0mpath\u001b[0m\u001b[0;34m.\u001b[0m\u001b[0mvertices\u001b[0m\u001b[0;34m.\u001b[0m\u001b[0msize\u001b[0m \u001b[0;34m==\u001b[0m \u001b[0;36m0\u001b[0m\u001b[0;34m:\u001b[0m\u001b[0;34m\u001b[0m\u001b[0;34m\u001b[0m\u001b[0m\n\u001b[1;32m   1874\u001b[0m             \u001b[0;32mreturn\u001b[0m\u001b[0;34m\u001b[0m\u001b[0;34m\u001b[0m\u001b[0m\n",
      "\u001b[0;32m/opt/anaconda3/lib/python3.8/site-packages/matplotlib/lines.py\u001b[0m in \u001b[0;36mget_path\u001b[0;34m(self)\u001b[0m\n\u001b[1;32m   1025\u001b[0m         \"\"\"\n\u001b[1;32m   1026\u001b[0m         \u001b[0;32mif\u001b[0m \u001b[0mself\u001b[0m\u001b[0;34m.\u001b[0m\u001b[0m_invalidy\u001b[0m \u001b[0;32mor\u001b[0m \u001b[0mself\u001b[0m\u001b[0;34m.\u001b[0m\u001b[0m_invalidx\u001b[0m\u001b[0;34m:\u001b[0m\u001b[0;34m\u001b[0m\u001b[0;34m\u001b[0m\u001b[0m\n\u001b[0;32m-> 1027\u001b[0;31m             \u001b[0mself\u001b[0m\u001b[0;34m.\u001b[0m\u001b[0mrecache\u001b[0m\u001b[0;34m(\u001b[0m\u001b[0;34m)\u001b[0m\u001b[0;34m\u001b[0m\u001b[0;34m\u001b[0m\u001b[0m\n\u001b[0m\u001b[1;32m   1028\u001b[0m         \u001b[0;32mreturn\u001b[0m \u001b[0mself\u001b[0m\u001b[0;34m.\u001b[0m\u001b[0m_path\u001b[0m\u001b[0;34m\u001b[0m\u001b[0;34m\u001b[0m\u001b[0m\n\u001b[1;32m   1029\u001b[0m \u001b[0;34m\u001b[0m\u001b[0m\n",
      "\u001b[0;32m/opt/anaconda3/lib/python3.8/site-packages/matplotlib/lines.py\u001b[0m in \u001b[0;36mrecache\u001b[0;34m(self, always)\u001b[0m\n\u001b[1;32m    668\u001b[0m         \u001b[0;32mif\u001b[0m \u001b[0malways\u001b[0m \u001b[0;32mor\u001b[0m \u001b[0mself\u001b[0m\u001b[0;34m.\u001b[0m\u001b[0m_invalidx\u001b[0m\u001b[0;34m:\u001b[0m\u001b[0;34m\u001b[0m\u001b[0;34m\u001b[0m\u001b[0m\n\u001b[1;32m    669\u001b[0m             \u001b[0mxconv\u001b[0m \u001b[0;34m=\u001b[0m \u001b[0mself\u001b[0m\u001b[0;34m.\u001b[0m\u001b[0mconvert_xunits\u001b[0m\u001b[0;34m(\u001b[0m\u001b[0mself\u001b[0m\u001b[0;34m.\u001b[0m\u001b[0m_xorig\u001b[0m\u001b[0;34m)\u001b[0m\u001b[0;34m\u001b[0m\u001b[0;34m\u001b[0m\u001b[0m\n\u001b[0;32m--> 670\u001b[0;31m             \u001b[0mx\u001b[0m \u001b[0;34m=\u001b[0m \u001b[0m_to_unmasked_float_array\u001b[0m\u001b[0;34m(\u001b[0m\u001b[0mxconv\u001b[0m\u001b[0;34m)\u001b[0m\u001b[0;34m.\u001b[0m\u001b[0mravel\u001b[0m\u001b[0;34m(\u001b[0m\u001b[0;34m)\u001b[0m\u001b[0;34m\u001b[0m\u001b[0;34m\u001b[0m\u001b[0m\n\u001b[0m\u001b[1;32m    671\u001b[0m         \u001b[0;32melse\u001b[0m\u001b[0;34m:\u001b[0m\u001b[0;34m\u001b[0m\u001b[0;34m\u001b[0m\u001b[0m\n\u001b[1;32m    672\u001b[0m             \u001b[0mx\u001b[0m \u001b[0;34m=\u001b[0m \u001b[0mself\u001b[0m\u001b[0;34m.\u001b[0m\u001b[0m_x\u001b[0m\u001b[0;34m\u001b[0m\u001b[0;34m\u001b[0m\u001b[0m\n",
      "\u001b[0;32m/opt/anaconda3/lib/python3.8/site-packages/matplotlib/cbook/__init__.py\u001b[0m in \u001b[0;36m_to_unmasked_float_array\u001b[0;34m(x)\u001b[0m\n\u001b[1;32m   1315\u001b[0m         \u001b[0;32mreturn\u001b[0m \u001b[0mnp\u001b[0m\u001b[0;34m.\u001b[0m\u001b[0mma\u001b[0m\u001b[0;34m.\u001b[0m\u001b[0masarray\u001b[0m\u001b[0;34m(\u001b[0m\u001b[0mx\u001b[0m\u001b[0;34m,\u001b[0m \u001b[0mfloat\u001b[0m\u001b[0;34m)\u001b[0m\u001b[0;34m.\u001b[0m\u001b[0mfilled\u001b[0m\u001b[0;34m(\u001b[0m\u001b[0mnp\u001b[0m\u001b[0;34m.\u001b[0m\u001b[0mnan\u001b[0m\u001b[0;34m)\u001b[0m\u001b[0;34m\u001b[0m\u001b[0;34m\u001b[0m\u001b[0m\n\u001b[1;32m   1316\u001b[0m     \u001b[0;32melse\u001b[0m\u001b[0;34m:\u001b[0m\u001b[0;34m\u001b[0m\u001b[0;34m\u001b[0m\u001b[0m\n\u001b[0;32m-> 1317\u001b[0;31m         \u001b[0;32mreturn\u001b[0m \u001b[0mnp\u001b[0m\u001b[0;34m.\u001b[0m\u001b[0masarray\u001b[0m\u001b[0;34m(\u001b[0m\u001b[0mx\u001b[0m\u001b[0;34m,\u001b[0m \u001b[0mfloat\u001b[0m\u001b[0;34m)\u001b[0m\u001b[0;34m\u001b[0m\u001b[0;34m\u001b[0m\u001b[0m\n\u001b[0m\u001b[1;32m   1318\u001b[0m \u001b[0;34m\u001b[0m\u001b[0m\n\u001b[1;32m   1319\u001b[0m \u001b[0;34m\u001b[0m\u001b[0m\n",
      "\u001b[0;32m/opt/anaconda3/lib/python3.8/site-packages/numpy/core/_asarray.py\u001b[0m in \u001b[0;36masarray\u001b[0;34m(a, dtype, order)\u001b[0m\n\u001b[1;32m     83\u001b[0m \u001b[0;34m\u001b[0m\u001b[0m\n\u001b[1;32m     84\u001b[0m     \"\"\"\n\u001b[0;32m---> 85\u001b[0;31m     \u001b[0;32mreturn\u001b[0m \u001b[0marray\u001b[0m\u001b[0;34m(\u001b[0m\u001b[0ma\u001b[0m\u001b[0;34m,\u001b[0m \u001b[0mdtype\u001b[0m\u001b[0;34m,\u001b[0m \u001b[0mcopy\u001b[0m\u001b[0;34m=\u001b[0m\u001b[0;32mFalse\u001b[0m\u001b[0;34m,\u001b[0m \u001b[0morder\u001b[0m\u001b[0;34m=\u001b[0m\u001b[0morder\u001b[0m\u001b[0;34m)\u001b[0m\u001b[0;34m\u001b[0m\u001b[0;34m\u001b[0m\u001b[0m\n\u001b[0m\u001b[1;32m     86\u001b[0m \u001b[0;34m\u001b[0m\u001b[0m\n\u001b[1;32m     87\u001b[0m \u001b[0;34m\u001b[0m\u001b[0m\n",
      "\u001b[0;31mValueError\u001b[0m: setting an array element with a sequence."
     ]
    },
    {
     "data": {
      "image/png": "[encoded data removed]",
      "text/plain": [
       "<Figure size 432x288 with 1 Axes>"
      ]
     },
     "metadata": {
      "needs_background": "light"
     },
     "output_type": "display_data"
    }
   ],
   "source": [
    "plt.plot(fpr,tpr)"
   ]
  },
  {
   "cell_type": "markdown",
   "metadata": {},
   "source": [
    "### using the previous result, calculate the AUROC\n",
    "\n",
    "You will need to consider how to estimate an area under the curve using the triangle/trapezium rule"
   ]
  },
  {
   "cell_type": "code",
   "execution_count": 101,
   "metadata": {},
   "outputs": [
    {
     "name": "stdout",
     "output_type": "stream",
     "text": [
      "0.9996996996996997\n"
     ]
    }
   ],
   "source": []
  },
  {
   "cell_type": "markdown",
   "metadata": {},
   "source": [
    "### Compare how well the decision tree does against other models we've built so far.\n",
    "\n",
    "How sensitive is it to parameter setting, compared to the other models? How does it react to data sets with large numbers of examples versus small numbers? What about data with large numbers of features versus small numbers?"
   ]
  },
  {
   "cell_type": "code",
   "execution_count": 102,
   "metadata": {},
   "outputs": [
    {
     "name": "stdout",
     "output_type": "stream",
     "text": [
      "[[0.         0.82777778 0.86666667 0.85       0.84840056 0.82424917\n",
      "  0.81649676 0.78934817 0.7635605 ]\n",
      " [0.         0.96111111 0.95833333 0.97407407 0.96244784 0.96329255\n",
      "  0.95088044 0.95627981 0.93324061]]\n"
     ]
    },
    {
     "data": {
      "text/plain": [
       "[<matplotlib.lines.Line2D at 0x16f9cb94d08>,\n",
       " <matplotlib.lines.Line2D at 0x16f9c6510c8>]"
      ]
     },
     "execution_count": 102,
     "metadata": {},
     "output_type": "execute_result"
    },
    {
     "data": {
      "image/png": "[encoded data removed]",
      "text/plain": [
       "<Figure size 432x288 with 1 Axes>"
      ]
     },
     "metadata": {
      "needs_background": "light"
     },
     "output_type": "display_data"
    }
   ],
   "source": [
    "# below we compare decision trees to logistic regression - this provides a platform for you to answer the rest of the question.\n",
    "\n",
    "from sklearn import datasets\n",
    "import numpy as np\n",
    "import matplotlib.pyplot as plt\n",
    "from sklearn.model_selection import train_test_split\n",
    "from sklearn.metrics import accuracy_score\n",
    "from sklearn import preprocessing\n",
    "from sklearn import tree\n",
    "from sklearn.tree import DecisionTreeClassifier\n",
    "from sklearn.linear_model import LogisticRegression\n",
    "\n",
    "digits = datasets.load_digits()\n",
    "X_scaled = preprocessing.scale(digits.data)\n",
    "\n",
    "tree_model = DecisionTreeClassifier(random_state=0, max_depth = 20, min_samples_leaf = 1)\n",
    "logist_model = LogisticRegression(random_state = 0, max_iter = 1000)\n",
    "\n",
    "j=9\n",
    "accuracies = np.empty([2, j])\n",
    "\n",
    "for i in range(1,j):\n",
    "    X_train, X_test, y_train, y_test = train_test_split(X_scaled, digits.target, test_size = i/10)\n",
    "    tree_model.fit(X_train, y_train)\n",
    "    tree_pred = tree_model.predict(X_test)\n",
    "    tree_accuracy = accuracy_score(y_test,tree_pred)\n",
    "    \n",
    "    logist_model.fit(X_train,y_train)\n",
    "    logist_pred = logist_model.predict(X_test)\n",
    "    logist_accuracy = accuracy_score(y_test,logist_pred)\n",
    "    \n",
    "    accuracies[0, i] = tree_accuracy\n",
    "    accuracies[1, i] = logist_accuracy\n",
    "    \n",
    "print(accuracies)\n",
    "\n",
    "plt.plot(np.arange(0.1,1.0,0.1),np.transpose(accuracies))"
   ]
  },
  {
   "cell_type": "markdown",
   "metadata": {},
   "source": [
    "## Implement you own decision tree\n",
    "\n",
    "note that this is not straightforward (even if you start with the pseudocode from the notes) - we suggest that you research some online tutorials before getting started"
   ]
  },
  {
   "cell_type": "code",
   "execution_count": null,
   "metadata": {},
   "outputs": [],
   "source": [
    "## This is non-trivial: see: https://machinelearningmastery.com/implement-decision-tree-algorithm-scratch-python/\n"
   ]
  }
 ],
 "metadata": {
  "kernelspec": {
   "display_name": "Python 3",
   "language": "python",
   "name": "python3"
  },
  "language_info": {
   "codemirror_mode": {
    "name": "ipython",
    "version": 3
   },
   "file_extension": ".py",
   "mimetype": "text/x-python",
   "name": "python",
   "nbconvert_exporter": "python",
   "pygments_lexer": "ipython3",
   "version": "3.8.3"
  }
 },
 "nbformat": 4,
 "nbformat_minor": 4
}
