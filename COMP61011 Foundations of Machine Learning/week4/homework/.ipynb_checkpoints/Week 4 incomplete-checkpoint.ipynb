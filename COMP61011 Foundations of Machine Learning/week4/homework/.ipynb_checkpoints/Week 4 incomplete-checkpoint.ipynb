{
 "cells": [
  {
   "cell_type": "markdown",
   "metadata": {},
   "source": [
    "#  week 4\n",
    "In addition to the below, remember you can always ask the Lab Helpers for suggestions at the alloted times.\n",
    "\n",
    "The outline code for the level 1 tasks is deliberately much more sparse this week, as you should know feel comfortable in training and testing machine learning models.\n",
    "\n",
    "## Level 1\n",
    "\n",
    "### Build an ID3 (entropy) decision tree with a maximum depth of 10, and a minimum number of examples of 5, using any dataset\n",
    "\n",
    "Remember to do a train/test split. Repeat this with a range of minimum number of examples (up to 500). What is the difference in the test error? What happens if you repeat this for a larger data set?\n",
    "\n",
    "The code below provides the functions you will need to build a decision tree for the digits dataset. \n",
    "\n",
    "Start by training a model for a constant minimun number of examples per leaf of 5 (min_samples_leaf).\n",
    "\n",
    "\n",
    "Rather than change the number of examples individually, you should be able to run the code as a loop (as in examples in previous weeks) and save your outputs"
   ]
  },
  {
   "cell_type": "code",
   "execution_count": 1,
   "metadata": {},
   "outputs": [],
   "source": [
    "from sklearn import datasets\n",
    "import numpy as np\n",
    "import matplotlib.pyplot as plt\n",
    "from sklearn.model_selection import train_test_split\n",
    "from sklearn.tree import DecisionTreeClassifier\n",
    "from sklearn.metrics import accuracy_score\n",
    "from sklearn import preprocessing\n",
    "from sklearn import tree\n",
    "\n",
    "digits = datasets.load_digits()\n",
    "X_scaled = preprocessing.scale(digits.data)\n",
    "\n",
    "#TODO - complete the rest\n",
    "model = DecisionTreeClassifier(max_depth=10,min)"
   ]
  },
  {
   "cell_type": "markdown",
   "metadata": {},
   "source": [
    "## Repeat the previous task, using gini impurity: \n",
    "Are there many differences in the final tree when min_samples_leaf = 5 for the gin vs entropy criteria? What about the computation time?"
   ]
  },
  {
   "cell_type": "code",
   "execution_count": 11,
   "metadata": {},
   "outputs": [
    {
     "name": "stdout",
     "output_type": "stream",
     "text": [
      "0.17130144605116793\n"
     ]
    },
    {
     "data": {
      "text/plain": [
       "[Text(94.05024141630902, 210.192, 'X[36] <= -1.652\\ngini = 0.9\\nsamples = 898\\nvalue = [90, 83, 94, 83, 88, 84, 101, 93, 96, 86]'),\n",
       " Text(26.582832618025755, 195.696, 'X[28] <= -1.208\\ngini = 0.539\\nsamples = 134\\nvalue = [87, 0, 4, 1, 4, 12, 1, 0, 2, 23]'),\n",
       " Text(11.495278969957083, 181.2, 'X[21] <= -1.099\\ngini = 0.194\\nsamples = 96\\nvalue = [86, 0, 2, 0, 4, 4, 0, 0, 0, 0]'),\n",
       " Text(5.747639484978541, 166.704, 'X[41] <= -0.028\\ngini = 0.667\\nsamples = 9\\nvalue = [1, 0, 1, 0, 3, 4, 0, 0, 0, 0]'),\n",
       " Text(2.8738197424892706, 152.208, 'gini = 0.0\\nsamples = 4\\nvalue = [0, 0, 0, 0, 0, 4, 0, 0, 0, 0]'),\n",
       " Text(8.621459227467811, 152.208, 'X[58] <= -0.501\\ngini = 0.56\\nsamples = 5\\nvalue = [1, 0, 1, 0, 3, 0, 0, 0, 0, 0]'),\n",
       " Text(5.747639484978541, 137.712, 'gini = 0.0\\nsamples = 3\\nvalue = [0, 0, 0, 0, 3, 0, 0, 0, 0, 0]'),\n",
       " Text(11.495278969957083, 137.712, 'X[11] <= 0.76\\ngini = 0.5\\nsamples = 2\\nvalue = [1, 0, 1, 0, 0, 0, 0, 0, 0, 0]'),\n",
       " Text(8.621459227467811, 123.216, 'gini = 0.0\\nsamples = 1\\nvalue = [1, 0, 0, 0, 0, 0, 0, 0, 0, 0]'),\n",
       " Text(14.369098712446354, 123.216, 'gini = 0.0\\nsamples = 1\\nvalue = [0, 0, 1, 0, 0, 0, 0, 0, 0, 0]'),\n",
       " Text(17.242918454935623, 166.704, 'X[44] <= 0.292\\ngini = 0.045\\nsamples = 87\\nvalue = [85, 0, 1, 0, 1, 0, 0, 0, 0, 0]'),\n",
       " Text(14.369098712446354, 152.208, 'gini = 0.0\\nsamples = 85\\nvalue = [85, 0, 0, 0, 0, 0, 0, 0, 0, 0]'),\n",
       " Text(20.116738197424894, 152.208, 'X[33] <= 0.046\\ngini = 0.5\\nsamples = 2\\nvalue = [0, 0, 1, 0, 1, 0, 0, 0, 0, 0]'),\n",
       " Text(17.242918454935623, 137.712, 'gini = 0.0\\nsamples = 1\\nvalue = [0, 0, 1, 0, 0, 0, 0, 0, 0, 0]'),\n",
       " Text(22.990557939914165, 137.712, 'gini = 0.0\\nsamples = 1\\nvalue = [0, 0, 0, 0, 1, 0, 0, 0, 0, 0]'),\n",
       " Text(41.670386266094425, 181.2, 'X[21] <= 0.193\\ngini = 0.582\\nsamples = 38\\nvalue = [1, 0, 2, 1, 0, 8, 1, 0, 2, 23]'),\n",
       " Text(34.485836909871246, 166.704, 'X[45] <= -0.305\\ngini = 0.568\\nsamples = 13\\nvalue = [0, 0, 2, 0, 0, 8, 1, 0, 0, 2]'),\n",
       " Text(31.61201716738198, 152.208, 'X[10] <= 0.667\\ngini = 0.64\\nsamples = 5\\nvalue = [0, 0, 2, 0, 0, 0, 1, 0, 0, 2]'),\n",
       " Text(28.738197424892707, 137.712, 'X[62] <= 0.472\\ngini = 0.444\\nsamples = 3\\nvalue = [0, 0, 0, 0, 0, 0, 1, 0, 0, 2]'),\n",
       " Text(25.864377682403436, 123.216, 'gini = 0.0\\nsamples = 1\\nvalue = [0, 0, 0, 0, 0, 0, 1, 0, 0, 0]'),\n",
       " Text(31.61201716738198, 123.216, 'gini = 0.0\\nsamples = 2\\nvalue = [0, 0, 0, 0, 0, 0, 0, 0, 0, 2]'),\n",
       " Text(34.485836909871246, 137.712, 'gini = 0.0\\nsamples = 2\\nvalue = [0, 0, 2, 0, 0, 0, 0, 0, 0, 0]'),\n",
       " Text(37.35965665236052, 152.208, 'gini = 0.0\\nsamples = 8\\nvalue = [0, 0, 0, 0, 0, 8, 0, 0, 0, 0]'),\n",
       " Text(48.8549356223176, 166.704, 'X[42] <= 0.095\\ngini = 0.285\\nsamples = 25\\nvalue = [1, 0, 0, 1, 0, 0, 0, 0, 2, 21]'),\n",
       " Text(43.10729613733906, 152.208, 'X[1] <= 1.319\\ngini = 0.087\\nsamples = 22\\nvalue = [0, 0, 0, 1, 0, 0, 0, 0, 0, 21]'),\n",
       " Text(40.23347639484979, 137.712, 'gini = 0.0\\nsamples = 21\\nvalue = [0, 0, 0, 0, 0, 0, 0, 0, 0, 21]'),\n",
       " Text(45.98111587982833, 137.712, 'gini = 0.0\\nsamples = 1\\nvalue = [0, 0, 0, 1, 0, 0, 0, 0, 0, 0]'),\n",
       " Text(54.60257510729614, 152.208, 'X[61] <= -0.892\\ngini = 0.444\\nsamples = 3\\nvalue = [1, 0, 0, 0, 0, 0, 0, 0, 2, 0]'),\n",
       " Text(51.72875536480687, 137.712, 'gini = 0.0\\nsamples = 2\\nvalue = [0, 0, 0, 0, 0, 0, 0, 0, 2, 0]'),\n",
       " Text(57.476394849785414, 137.712, 'gini = 0.0\\nsamples = 1\\nvalue = [1, 0, 0, 0, 0, 0, 0, 0, 0, 0]'),\n",
       " Text(161.5176502145923, 195.696, 'X[21] <= -1.179\\ngini = 0.888\\nsamples = 764\\nvalue = [3, 83, 90, 82, 84, 72, 100, 93, 94, 63]'),\n",
       " Text(108.48669527896996, 181.2, 'X[42] <= 0.248\\ngini = 0.732\\nsamples = 237\\nvalue = [0, 15, 22, 11, 18, 67, 97, 4, 2, 1]'),\n",
       " Text(86.21459227467813, 166.704, 'X[5] <= -0.756\\ngini = 0.644\\nsamples = 118\\nvalue = [0, 11, 18, 11, 4, 66, 2, 3, 2, 1]'),\n",
       " Text(71.84549356223177, 152.208, 'X[37] <= -0.808\\ngini = 0.764\\nsamples = 49\\nvalue = [0, 11, 18, 10, 3, 0, 2, 2, 2, 1]'),\n",
       " Text(63.22403433476396, 137.712, 'X[9] <= 0.002\\ngini = 0.535\\nsamples = 31\\nvalue = [0, 11, 18, 0, 0, 0, 1, 0, 1, 0]'),\n",
       " Text(60.35021459227468, 123.216, 'X[45] <= 0.573\\ngini = 0.367\\nsamples = 14\\nvalue = [0, 11, 1, 0, 0, 0, 1, 0, 1, 0]'),\n",
       " Text(54.60257510729614, 108.72, 'X[10] <= 0.667\\ngini = 0.153\\nsamples = 12\\nvalue = [0, 11, 1, 0, 0, 0, 0, 0, 0, 0]'),\n",
       " Text(51.72875536480687, 94.22399999999999, 'gini = 0.0\\nsamples = 11\\nvalue = [0, 11, 0, 0, 0, 0, 0, 0, 0, 0]'),\n",
       " Text(57.476394849785414, 94.22399999999999, 'gini = 0.0\\nsamples = 1\\nvalue = [0, 0, 1, 0, 0, 0, 0, 0, 0, 0]'),\n",
       " Text(66.09785407725323, 108.72, 'X[51] <= 0.949\\ngini = 0.5\\nsamples = 2\\nvalue = [0, 0, 0, 0, 0, 0, 1, 0, 1, 0]'),\n",
       " Text(63.22403433476396, 94.22399999999999, 'gini = 0.0\\nsamples = 1\\nvalue = [0, 0, 0, 0, 0, 0, 0, 0, 1, 0]'),\n",
       " Text(68.97167381974249, 94.22399999999999, 'gini = 0.0\\nsamples = 1\\nvalue = [0, 0, 0, 0, 0, 0, 1, 0, 0, 0]'),\n",
       " Text(66.09785407725323, 123.216, 'gini = 0.0\\nsamples = 17\\nvalue = [0, 0, 17, 0, 0, 0, 0, 0, 0, 0]'),\n",
       " Text(80.46695278969958, 137.712, 'X[43] <= -0.268\\ngini = 0.642\\nsamples = 18\\nvalue = [0, 0, 0, 10, 3, 0, 1, 2, 1, 1]'),\n",
       " Text(74.71931330472104, 123.216, 'X[62] <= 1.206\\ngini = 0.165\\nsamples = 11\\nvalue = [0, 0, 0, 10, 0, 0, 0, 0, 0, 1]'),\n",
       " Text(71.84549356223177, 108.72, 'gini = 0.0\\nsamples = 10\\nvalue = [0, 0, 0, 10, 0, 0, 0, 0, 0, 0]'),\n",
       " Text(77.5931330472103, 108.72, 'gini = 0.0\\nsamples = 1\\nvalue = [0, 0, 0, 0, 0, 0, 0, 0, 0, 1]'),\n",
       " Text(86.21459227467813, 123.216, 'X[27] <= 0.285\\ngini = 0.694\\nsamples = 7\\nvalue = [0, 0, 0, 0, 3, 0, 1, 2, 1, 0]'),\n",
       " Text(83.34077253218885, 108.72, 'gini = 0.0\\nsamples = 3\\nvalue = [0, 0, 0, 0, 3, 0, 0, 0, 0, 0]'),\n",
       " Text(89.08841201716739, 108.72, 'X[52] <= -1.116\\ngini = 0.625\\nsamples = 4\\nvalue = [0, 0, 0, 0, 0, 0, 1, 2, 1, 0]'),\n",
       " Text(86.21459227467813, 94.22399999999999, 'gini = 0.0\\nsamples = 2\\nvalue = [0, 0, 0, 0, 0, 0, 0, 2, 0, 0]'),\n",
       " Text(91.96223175965666, 94.22399999999999, 'X[46] <= 1.973\\ngini = 0.5\\nsamples = 2\\nvalue = [0, 0, 0, 0, 0, 0, 1, 0, 1, 0]'),\n",
       " Text(89.08841201716739, 79.72799999999998, 'gini = 0.0\\nsamples = 1\\nvalue = [0, 0, 0, 0, 0, 0, 0, 0, 1, 0]'),\n",
       " Text(94.83605150214593, 79.72799999999998, 'gini = 0.0\\nsamples = 1\\nvalue = [0, 0, 0, 0, 0, 0, 1, 0, 0, 0]'),\n",
       " Text(100.58369098712447, 152.208, 'X[2] <= -0.99\\ngini = 0.084\\nsamples = 69\\nvalue = [0, 0, 0, 1, 1, 66, 0, 1, 0, 0]'),\n",
       " Text(94.83605150214593, 137.712, 'X[26] <= -0.257\\ngini = 0.5\\nsamples = 2\\nvalue = [0, 0, 0, 0, 1, 0, 0, 1, 0, 0]'),\n",
       " Text(91.96223175965666, 123.216, 'gini = 0.0\\nsamples = 1\\nvalue = [0, 0, 0, 0, 0, 0, 0, 1, 0, 0]'),\n",
       " Text(97.7098712446352, 123.216, 'gini = 0.0\\nsamples = 1\\nvalue = [0, 0, 0, 0, 1, 0, 0, 0, 0, 0]'),\n",
       " Text(106.33133047210302, 137.712, 'X[18] <= -0.95\\ngini = 0.029\\nsamples = 67\\nvalue = [0, 0, 0, 1, 0, 66, 0, 0, 0, 0]'),\n",
       " Text(103.45751072961374, 123.216, 'gini = 0.0\\nsamples = 1\\nvalue = [0, 0, 0, 1, 0, 0, 0, 0, 0, 0]'),\n",
       " Text(109.20515021459228, 123.216, 'gini = 0.0\\nsamples = 66\\nvalue = [0, 0, 0, 0, 0, 66, 0, 0, 0, 0]'),\n",
       " Text(130.75879828326183, 166.704, 'X[54] <= -0.554\\ngini = 0.346\\nsamples = 119\\nvalue = [0, 4, 4, 0, 14, 1, 95, 1, 0, 0]'),\n",
       " Text(123.57424892703864, 152.208, 'X[37] <= -0.808\\ngini = 0.55\\nsamples = 22\\nvalue = [0, 4, 0, 0, 14, 1, 2, 1, 0, 0]'),\n",
       " Text(117.82660944206009, 137.712, 'X[45] <= -1.007\\ngini = 0.444\\nsamples = 6\\nvalue = [0, 4, 0, 0, 0, 0, 2, 0, 0, 0]'),\n",
       " Text(114.95278969957083, 123.216, 'gini = 0.0\\nsamples = 4\\nvalue = [0, 4, 0, 0, 0, 0, 0, 0, 0, 0]'),\n",
       " Text(120.70042918454936, 123.216, 'gini = 0.0\\nsamples = 2\\nvalue = [0, 0, 0, 0, 0, 0, 2, 0, 0, 0]'),\n",
       " Text(129.3218884120172, 137.712, 'X[44] <= -0.028\\ngini = 0.227\\nsamples = 16\\nvalue = [0, 0, 0, 0, 14, 1, 0, 1, 0, 0]'),\n",
       " Text(126.44806866952791, 123.216, 'X[44] <= -0.267\\ngini = 0.5\\nsamples = 2\\nvalue = [0, 0, 0, 0, 0, 1, 0, 1, 0, 0]'),\n",
       " Text(123.57424892703864, 108.72, 'gini = 0.0\\nsamples = 1\\nvalue = [0, 0, 0, 0, 0, 0, 0, 1, 0, 0]'),\n",
       " Text(129.3218884120172, 108.72, 'gini = 0.0\\nsamples = 1\\nvalue = [0, 0, 0, 0, 0, 1, 0, 0, 0, 0]'),\n",
       " Text(132.19570815450646, 123.216, 'gini = 0.0\\nsamples = 14\\nvalue = [0, 0, 0, 0, 14, 0, 0, 0, 0, 0]'),\n",
       " Text(137.94334763948498, 152.208, 'X[58] <= 0.773\\ngini = 0.079\\nsamples = 97\\nvalue = [0, 0, 4, 0, 0, 0, 93, 0, 0, 0]'),\n",
       " Text(135.0695278969957, 137.712, 'gini = 0.0\\nsamples = 93\\nvalue = [0, 0, 0, 0, 0, 0, 93, 0, 0, 0]'),\n",
       " Text(140.81716738197426, 137.712, 'gini = 0.0\\nsamples = 4\\nvalue = [0, 0, 4, 0, 0, 0, 0, 0, 0, 0]'),\n",
       " Text(214.5486051502146, 181.2, 'X[60] <= -1.887\\ngini = 0.86\\nsamples = 527\\nvalue = [3, 68, 68, 71, 66, 5, 3, 89, 92, 62]'),\n",
       " Text(155.1862660944206, 166.704, 'X[26] <= 0.066\\ngini = 0.184\\nsamples = 70\\nvalue = [0, 0, 0, 1, 5, 0, 0, 63, 0, 1]'),\n",
       " Text(149.43862660944208, 152.208, 'X[37] <= -1.405\\ngini = 0.032\\nsamples = 61\\nvalue = [0, 0, 0, 1, 0, 0, 0, 60, 0, 0]'),\n",
       " Text(146.5648068669528, 137.712, 'X[36] <= -0.388\\ngini = 0.5\\nsamples = 2\\nvalue = [0, 0, 0, 1, 0, 0, 0, 1, 0, 0]'),\n",
       " Text(143.69098712446353, 123.216, 'gini = 0.0\\nsamples = 1\\nvalue = [0, 0, 0, 0, 0, 0, 0, 1, 0, 0]'),\n",
       " Text(149.43862660944208, 123.216, 'gini = 0.0\\nsamples = 1\\nvalue = [0, 0, 0, 1, 0, 0, 0, 0, 0, 0]'),\n",
       " Text(152.31244635193136, 137.712, 'gini = 0.0\\nsamples = 59\\nvalue = [0, 0, 0, 0, 0, 0, 0, 59, 0, 0]'),\n",
       " Text(160.93390557939915, 152.208, 'X[6] <= 0.192\\ngini = 0.568\\nsamples = 9\\nvalue = [0, 0, 0, 0, 5, 0, 0, 3, 0, 1]'),\n",
       " Text(158.06008583690988, 137.712, 'gini = 0.0\\nsamples = 5\\nvalue = [0, 0, 0, 0, 5, 0, 0, 0, 0, 0]'),\n",
       " Text(163.80772532188843, 137.712, 'X[36] <= 0.792\\ngini = 0.375\\nsamples = 4\\nvalue = [0, 0, 0, 0, 0, 0, 0, 3, 0, 1]'),\n",
       " Text(160.93390557939915, 123.216, 'gini = 0.0\\nsamples = 3\\nvalue = [0, 0, 0, 0, 0, 0, 0, 3, 0, 0]'),\n",
       " Text(166.6815450643777, 123.216, 'gini = 0.0\\nsamples = 1\\nvalue = [0, 0, 0, 0, 0, 0, 0, 0, 0, 1]'),\n",
       " Text(273.9109442060086, 166.704, 'X[33] <= 0.621\\ngini = 0.853\\nsamples = 457\\nvalue = [3, 68, 68, 70, 61, 5, 3, 26, 92, 61]'),\n",
       " Text(221.643347639485, 152.208, 'X[43] <= -0.734\\ngini = 0.827\\nsamples = 387\\nvalue = [3, 62, 68, 70, 4, 4, 1, 23, 91, 61]'),\n",
       " Text(186.07982832618026, 137.712, 'X[26] <= -0.903\\ngini = 0.707\\nsamples = 162\\nvalue = [0, 17, 6, 63, 0, 3, 0, 5, 11, 57]'),\n",
       " Text(172.42918454935625, 123.216, 'X[28] <= -0.395\\ngini = 0.228\\nsamples = 64\\nvalue = [0, 1, 5, 56, 0, 0, 0, 0, 1, 1]'),\n",
       " Text(169.55536480686698, 108.72, 'gini = 0.0\\nsamples = 5\\nvalue = [0, 0, 5, 0, 0, 0, 0, 0, 0, 0]'),\n",
       " Text(175.3030042918455, 108.72, 'X[19] <= 0.605\\ngini = 0.098\\nsamples = 59\\nvalue = [0, 1, 0, 56, 0, 0, 0, 0, 1, 1]'),\n",
       " Text(169.55536480686698, 94.22399999999999, 'X[59] <= -1.621\\ngini = 0.034\\nsamples = 57\\nvalue = [0, 1, 0, 56, 0, 0, 0, 0, 0, 0]'),\n",
       " Text(166.6815450643777, 79.72799999999998, 'gini = 0.0\\nsamples = 1\\nvalue = [0, 1, 0, 0, 0, 0, 0, 0, 0, 0]'),\n",
       " Text(172.42918454935625, 79.72799999999998, 'gini = 0.0\\nsamples = 56\\nvalue = [0, 0, 0, 56, 0, 0, 0, 0, 0, 0]'),\n",
       " Text(181.05064377682405, 94.22399999999999, 'X[20] <= -0.178\\ngini = 0.5\\nsamples = 2\\nvalue = [0, 0, 0, 0, 0, 0, 0, 0, 1, 1]'),\n",
       " Text(178.17682403433477, 79.72799999999998, 'gini = 0.0\\nsamples = 1\\nvalue = [0, 0, 0, 0, 0, 0, 0, 0, 1, 0]'),\n",
       " Text(183.92446351931332, 79.72799999999998, 'gini = 0.0\\nsamples = 1\\nvalue = [0, 0, 0, 0, 0, 0, 0, 0, 0, 1]'),\n",
       " Text(199.7304721030043, 123.216, 'X[10] <= -1.823\\ngini = 0.628\\nsamples = 98\\nvalue = [0, 16, 1, 7, 0, 3, 0, 5, 10, 56]'),\n",
       " Text(196.85665236051503, 108.72, 'gini = 0.0\\nsamples = 11\\nvalue = [0, 11, 0, 0, 0, 0, 0, 0, 0, 0]'),\n",
       " Text(202.60429184549358, 108.72, 'X[29] <= 1.013\\ngini = 0.558\\nsamples = 87\\nvalue = [0, 5, 1, 7, 0, 3, 0, 5, 10, 56]'),\n",
       " Text(192.54592274678114, 94.22399999999999, 'X[42] <= 0.171\\ngini = 0.786\\nsamples = 28\\nvalue = [0, 1, 1, 7, 0, 2, 0, 4, 9, 4]'),\n",
       " Text(189.67210300429187, 79.72799999999998, 'X[26] <= -0.338\\ngini = 0.759\\nsamples = 19\\nvalue = [0, 1, 1, 7, 0, 2, 0, 4, 0, 4]'),\n",
       " Text(183.92446351931332, 65.232, 'X[28] <= -0.72\\ngini = 0.219\\nsamples = 8\\nvalue = [0, 0, 1, 7, 0, 0, 0, 0, 0, 0]'),\n",
       " Text(181.05064377682405, 50.73599999999999, 'gini = 0.0\\nsamples = 1\\nvalue = [0, 0, 1, 0, 0, 0, 0, 0, 0, 0]'),\n",
       " Text(186.7982832618026, 50.73599999999999, 'gini = 0.0\\nsamples = 7\\nvalue = [0, 0, 0, 7, 0, 0, 0, 0, 0, 0]'),\n",
       " Text(195.4197424892704, 65.232, 'X[22] <= 0.065\\ngini = 0.694\\nsamples = 11\\nvalue = [0, 1, 0, 0, 0, 2, 0, 4, 0, 4]'),\n",
       " Text(192.54592274678114, 50.73599999999999, 'X[52] <= -1.022\\ngini = 0.571\\nsamples = 7\\nvalue = [0, 1, 0, 0, 0, 2, 0, 0, 0, 4]'),\n",
       " Text(189.67210300429187, 36.23999999999998, 'gini = 0.0\\nsamples = 4\\nvalue = [0, 0, 0, 0, 0, 0, 0, 0, 0, 4]'),\n",
       " Text(195.4197424892704, 36.23999999999998, 'X[9] <= 0.002\\ngini = 0.444\\nsamples = 3\\nvalue = [0, 1, 0, 0, 0, 2, 0, 0, 0, 0]'),\n",
       " Text(192.54592274678114, 21.744, 'gini = 0.0\\nsamples = 1\\nvalue = [0, 1, 0, 0, 0, 0, 0, 0, 0, 0]'),\n",
       " Text(198.29356223175967, 21.744, 'gini = 0.0\\nsamples = 2\\nvalue = [0, 0, 0, 0, 0, 2, 0, 0, 0, 0]'),\n",
       " Text(198.29356223175967, 50.73599999999999, 'gini = 0.0\\nsamples = 4\\nvalue = [0, 0, 0, 0, 0, 0, 0, 4, 0, 0]'),\n",
       " Text(195.4197424892704, 79.72799999999998, 'gini = 0.0\\nsamples = 9\\nvalue = [0, 0, 0, 0, 0, 0, 0, 0, 9, 0]'),\n",
       " Text(212.66266094420604, 94.22399999999999, 'X[5] <= 1.362\\ngini = 0.218\\nsamples = 59\\nvalue = [0, 4, 0, 0, 0, 1, 0, 1, 1, 52]'),\n",
       " Text(209.78884120171676, 79.72799999999998, 'gini = 0.0\\nsamples = 46\\nvalue = [0, 0, 0, 0, 0, 0, 0, 0, 0, 46]'),\n",
       " Text(215.53648068669528, 79.72799999999998, 'X[14] <= 2.135\\ngini = 0.675\\nsamples = 13\\nvalue = [0, 4, 0, 0, 0, 1, 0, 1, 1, 6]'),\n",
       " Text(212.66266094420604, 65.232, 'X[53] <= 0.869\\ngini = 0.612\\nsamples = 7\\nvalue = [0, 4, 0, 0, 0, 1, 0, 1, 1, 0]'),\n",
       " Text(209.78884120171676, 50.73599999999999, 'X[9] <= 0.002\\ngini = 0.667\\nsamples = 3\\nvalue = [0, 0, 0, 0, 0, 1, 0, 1, 1, 0]'),\n",
       " Text(206.9150214592275, 36.23999999999998, 'X[36] <= 0.286\\ngini = 0.5\\nsamples = 2\\nvalue = [0, 0, 0, 0, 0, 1, 0, 0, 1, 0]'),\n",
       " Text(204.04120171673821, 21.744, 'gini = 0.0\\nsamples = 1\\nvalue = [0, 0, 0, 0, 0, 1, 0, 0, 0, 0]'),\n",
       " Text(209.78884120171676, 21.744, 'gini = 0.0\\nsamples = 1\\nvalue = [0, 0, 0, 0, 0, 0, 0, 0, 1, 0]'),\n",
       " Text(212.66266094420604, 36.23999999999998, 'gini = 0.0\\nsamples = 1\\nvalue = [0, 0, 0, 0, 0, 0, 0, 1, 0, 0]'),\n",
       " Text(215.53648068669528, 50.73599999999999, 'gini = 0.0\\nsamples = 4\\nvalue = [0, 4, 0, 0, 0, 0, 0, 0, 0, 0]'),\n",
       " Text(218.41030042918456, 65.232, 'gini = 0.0\\nsamples = 6\\nvalue = [0, 0, 0, 0, 0, 0, 0, 0, 0, 6]'),\n",
       " Text(257.2068669527897, 137.712, 'X[27] <= -0.395\\ngini = 0.749\\nsamples = 225\\nvalue = [3, 45, 62, 7, 4, 1, 1, 18, 80, 4]'),\n",
       " Text(232.77939914163093, 123.216, 'X[61] <= -1.062\\ngini = 0.496\\nsamples = 79\\nvalue = [0, 0, 54, 0, 3, 0, 0, 13, 7, 2]'),\n",
       " Text(227.03175965665238, 108.72, 'X[12] <= -1.313\\ngini = 0.24\\nsamples = 15\\nvalue = [0, 0, 0, 0, 1, 0, 0, 13, 1, 0]'),\n",
       " Text(224.1579399141631, 94.22399999999999, 'X[36] <= 0.118\\ngini = 0.5\\nsamples = 2\\nvalue = [0, 0, 0, 0, 1, 0, 0, 0, 1, 0]'),\n",
       " Text(221.28412017167383, 79.72799999999998, 'gini = 0.0\\nsamples = 1\\nvalue = [0, 0, 0, 0, 0, 0, 0, 0, 1, 0]'),\n",
       " Text(227.03175965665238, 79.72799999999998, 'gini = 0.0\\nsamples = 1\\nvalue = [0, 0, 0, 0, 1, 0, 0, 0, 0, 0]'),\n",
       " Text(229.90557939914166, 94.22399999999999, 'gini = 0.0\\nsamples = 13\\nvalue = [0, 0, 0, 0, 0, 0, 0, 13, 0, 0]'),\n",
       " Text(238.52703862660945, 108.72, 'X[26] <= -0.257\\ngini = 0.277\\nsamples = 64\\nvalue = [0, 0, 54, 0, 2, 0, 0, 0, 6, 2]'),\n",
       " Text(235.65321888412018, 94.22399999999999, 'gini = 0.0\\nsamples = 52\\nvalue = [0, 0, 52, 0, 0, 0, 0, 0, 0, 0]'),\n",
       " Text(241.40085836909873, 94.22399999999999, 'X[37] <= 0.64\\ngini = 0.667\\nsamples = 12\\nvalue = [0, 0, 2, 0, 2, 0, 0, 0, 6, 2]'),\n",
       " Text(235.65321888412018, 79.72799999999998, 'X[63] <= 0.879\\ngini = 0.375\\nsamples = 8\\nvalue = [0, 0, 2, 0, 0, 0, 0, 0, 6, 0]'),\n",
       " Text(232.77939914163093, 65.232, 'gini = 0.0\\nsamples = 6\\nvalue = [0, 0, 0, 0, 0, 0, 0, 0, 6, 0]'),\n",
       " Text(238.52703862660945, 65.232, 'gini = 0.0\\nsamples = 2\\nvalue = [0, 0, 2, 0, 0, 0, 0, 0, 0, 0]'),\n",
       " Text(247.14849785407728, 79.72799999999998, 'X[12] <= 0.046\\ngini = 0.5\\nsamples = 4\\nvalue = [0, 0, 0, 0, 2, 0, 0, 0, 0, 2]'),\n",
       " Text(244.274678111588, 65.232, 'gini = 0.0\\nsamples = 2\\nvalue = [0, 0, 0, 0, 2, 0, 0, 0, 0, 0]'),\n",
       " Text(250.02231759656655, 65.232, 'gini = 0.0\\nsamples = 2\\nvalue = [0, 0, 0, 0, 0, 0, 0, 0, 0, 2]'),\n",
       " Text(281.6343347639485, 123.216, 'X[20] <= 1.361\\ngini = 0.648\\nsamples = 146\\nvalue = [3, 45, 8, 7, 1, 1, 1, 5, 73, 2]'),\n",
       " Text(268.7021459227468, 108.72, 'X[30] <= 1.406\\ngini = 0.374\\nsamples = 89\\nvalue = [3, 2, 1, 4, 0, 1, 1, 5, 70, 2]'),\n",
       " Text(262.95450643776826, 94.22399999999999, 'X[28] <= -1.37\\ngini = 0.284\\nsamples = 83\\nvalue = [3, 2, 1, 4, 0, 1, 1, 0, 70, 1]'),\n",
       " Text(260.080686695279, 79.72799999999998, 'gini = 0.0\\nsamples = 3\\nvalue = [3, 0, 0, 0, 0, 0, 0, 0, 0, 0]'),\n",
       " Text(265.82832618025753, 79.72799999999998, 'X[18] <= -1.477\\ngini = 0.231\\nsamples = 80\\nvalue = [0, 2, 1, 4, 0, 1, 1, 0, 70, 1]'),\n",
       " Text(255.76995708154507, 65.232, 'X[42] <= -0.211\\ngini = 0.571\\nsamples = 7\\nvalue = [0, 0, 0, 4, 0, 0, 1, 0, 2, 0]'),\n",
       " Text(252.89613733905583, 50.73599999999999, 'gini = 0.0\\nsamples = 4\\nvalue = [0, 0, 0, 4, 0, 0, 0, 0, 0, 0]'),\n",
       " Text(258.6437768240344, 50.73599999999999, 'X[51] <= -0.486\\ngini = 0.444\\nsamples = 3\\nvalue = [0, 0, 0, 0, 0, 0, 1, 0, 2, 0]'),\n",
       " Text(255.76995708154507, 36.23999999999998, 'gini = 0.0\\nsamples = 2\\nvalue = [0, 0, 0, 0, 0, 0, 0, 0, 2, 0]'),\n",
       " Text(261.51759656652365, 36.23999999999998, 'gini = 0.0\\nsamples = 1\\nvalue = [0, 0, 0, 0, 0, 0, 1, 0, 0, 0]'),\n",
       " Text(275.88669527896997, 65.232, 'X[21] <= -0.534\\ngini = 0.131\\nsamples = 73\\nvalue = [0, 2, 1, 0, 0, 1, 0, 0, 68, 1]'),\n",
       " Text(270.1390557939914, 50.73599999999999, 'X[51] <= 0.567\\ngini = 0.611\\nsamples = 6\\nvalue = [0, 2, 0, 0, 0, 1, 0, 0, 3, 0]'),\n",
       " Text(267.26523605150214, 36.23999999999998, 'gini = 0.0\\nsamples = 3\\nvalue = [0, 0, 0, 0, 0, 0, 0, 0, 3, 0]'),\n",
       " Text(273.0128755364807, 36.23999999999998, 'X[61] <= -1.062\\ngini = 0.444\\nsamples = 3\\nvalue = [0, 2, 0, 0, 0, 1, 0, 0, 0, 0]'),\n",
       " Text(270.1390557939914, 21.744, 'gini = 0.0\\nsamples = 1\\nvalue = [0, 0, 0, 0, 0, 1, 0, 0, 0, 0]'),\n",
       " Text(275.88669527896997, 21.744, 'gini = 0.0\\nsamples = 2\\nvalue = [0, 2, 0, 0, 0, 0, 0, 0, 0, 0]'),\n",
       " Text(281.6343347639485, 50.73599999999999, 'X[36] <= -1.147\\ngini = 0.058\\nsamples = 67\\nvalue = [0, 0, 1, 0, 0, 0, 0, 0, 65, 1]'),\n",
       " Text(278.76051502145924, 36.23999999999998, 'gini = 0.0\\nsamples = 1\\nvalue = [0, 0, 0, 0, 0, 0, 0, 0, 0, 1]'),\n",
       " Text(284.5081545064378, 36.23999999999998, 'X[27] <= -0.055\\ngini = 0.03\\nsamples = 66\\nvalue = [0, 0, 1, 0, 0, 0, 0, 0, 65, 0]'),\n",
       " Text(281.6343347639485, 21.744, 'X[20] <= 0.308\\ngini = 0.375\\nsamples = 4\\nvalue = [0, 0, 1, 0, 0, 0, 0, 0, 3, 0]'),\n",
       " Text(278.76051502145924, 7.2479999999999905, 'gini = 0.0\\nsamples = 3\\nvalue = [0, 0, 0, 0, 0, 0, 0, 0, 3, 0]'),\n",
       " Text(284.5081545064378, 7.2479999999999905, 'gini = 0.0\\nsamples = 1\\nvalue = [0, 0, 1, 0, 0, 0, 0, 0, 0, 0]'),\n",
       " Text(287.38197424892707, 21.744, 'gini = 0.0\\nsamples = 62\\nvalue = [0, 0, 0, 0, 0, 0, 0, 0, 62, 0]'),\n",
       " Text(274.44978540772536, 94.22399999999999, 'X[20] <= -0.016\\ngini = 0.278\\nsamples = 6\\nvalue = [0, 0, 0, 0, 0, 0, 0, 5, 0, 1]'),\n",
       " Text(271.5759656652361, 79.72799999999998, 'gini = 0.0\\nsamples = 5\\nvalue = [0, 0, 0, 0, 0, 0, 0, 5, 0, 0]'),\n",
       " Text(277.32360515021463, 79.72799999999998, 'gini = 0.0\\nsamples = 1\\nvalue = [0, 0, 0, 0, 0, 0, 0, 0, 0, 1]'),\n",
       " Text(294.5665236051502, 108.72, 'X[44] <= -0.187\\ngini = 0.41\\nsamples = 57\\nvalue = [0, 43, 7, 3, 1, 0, 0, 0, 3, 0]'),\n",
       " Text(285.94506437768246, 94.22399999999999, 'X[45] <= 0.924\\ngini = 0.37\\nsamples = 9\\nvalue = [0, 0, 7, 1, 0, 0, 0, 0, 1, 0]'),\n",
       " Text(283.0712446351932, 79.72799999999998, 'gini = 0.0\\nsamples = 7\\nvalue = [0, 0, 7, 0, 0, 0, 0, 0, 0, 0]'),\n",
       " Text(288.8188841201717, 79.72799999999998, 'X[61] <= -0.384\\ngini = 0.5\\nsamples = 2\\nvalue = [0, 0, 0, 1, 0, 0, 0, 0, 1, 0]'),\n",
       " Text(285.94506437768246, 65.232, 'gini = 0.0\\nsamples = 1\\nvalue = [0, 0, 0, 0, 0, 0, 0, 0, 1, 0]'),\n",
       " Text(291.69270386266095, 65.232, 'gini = 0.0\\nsamples = 1\\nvalue = [0, 0, 0, 1, 0, 0, 0, 0, 0, 0]'),\n",
       " Text(303.18798283261805, 94.22399999999999, 'X[9] <= 0.941\\ngini = 0.194\\nsamples = 48\\nvalue = [0, 43, 0, 2, 1, 0, 0, 0, 2, 0]'),\n",
       " Text(300.3141630901288, 79.72799999999998, 'X[49] <= 0.742\\ngini = 0.124\\nsamples = 46\\nvalue = [0, 43, 0, 0, 1, 0, 0, 0, 2, 0]'),\n",
       " Text(297.4403433476395, 65.232, 'X[52] <= -0.173\\ngini = 0.085\\nsamples = 45\\nvalue = [0, 43, 0, 0, 0, 0, 0, 0, 2, 0]'),\n",
       " Text(294.5665236051502, 50.73599999999999, 'gini = 0.0\\nsamples = 1\\nvalue = [0, 0, 0, 0, 0, 0, 0, 0, 1, 0]'),\n",
       " Text(300.3141630901288, 50.73599999999999, 'X[27] <= 0.285\\ngini = 0.044\\nsamples = 44\\nvalue = [0, 43, 0, 0, 0, 0, 0, 0, 1, 0]'),\n",
       " Text(297.4403433476395, 36.23999999999998, 'X[5] <= -0.315\\ngini = 0.5\\nsamples = 2\\nvalue = [0, 1, 0, 0, 0, 0, 0, 0, 1, 0]'),\n",
       " Text(294.5665236051502, 21.744, 'gini = 0.0\\nsamples = 1\\nvalue = [0, 0, 0, 0, 0, 0, 0, 0, 1, 0]'),\n",
       " Text(300.3141630901288, 21.744, 'gini = 0.0\\nsamples = 1\\nvalue = [0, 1, 0, 0, 0, 0, 0, 0, 0, 0]'),\n",
       " Text(303.18798283261805, 36.23999999999998, 'gini = 0.0\\nsamples = 42\\nvalue = [0, 42, 0, 0, 0, 0, 0, 0, 0, 0]'),\n",
       " Text(303.18798283261805, 65.232, 'gini = 0.0\\nsamples = 1\\nvalue = [0, 0, 0, 0, 1, 0, 0, 0, 0, 0]'),\n",
       " Text(306.0618025751073, 79.72799999999998, 'gini = 0.0\\nsamples = 2\\nvalue = [0, 0, 0, 2, 0, 0, 0, 0, 0, 0]'),\n",
       " Text(326.17854077253224, 152.208, 'X[61] <= 0.549\\ngini = 0.327\\nsamples = 70\\nvalue = [0, 6, 0, 0, 57, 1, 2, 3, 1, 0]'),\n",
       " Text(323.30472103004297, 137.712, 'X[14] <= 2.274\\ngini = 0.227\\nsamples = 65\\nvalue = [0, 1, 0, 0, 57, 1, 2, 3, 1, 0]'),\n",
       " Text(320.4309012875537, 123.216, 'X[37] <= -1.064\\ngini = 0.153\\nsamples = 62\\nvalue = [0, 1, 0, 0, 57, 1, 2, 0, 1, 0]'),\n",
       " Text(311.80944206008587, 108.72, 'X[14] <= -0.097\\ngini = 0.667\\nsamples = 3\\nvalue = [0, 1, 0, 0, 0, 0, 1, 0, 1, 0]'),\n",
       " Text(308.9356223175966, 94.22399999999999, 'gini = 0.0\\nsamples = 1\\nvalue = [0, 1, 0, 0, 0, 0, 0, 0, 0, 0]'),\n",
       " Text(314.68326180257515, 94.22399999999999, 'X[4] <= 0.852\\ngini = 0.5\\nsamples = 2\\nvalue = [0, 0, 0, 0, 0, 0, 1, 0, 1, 0]'),\n",
       " Text(311.80944206008587, 79.72799999999998, 'gini = 0.0\\nsamples = 1\\nvalue = [0, 0, 0, 0, 0, 0, 0, 0, 1, 0]'),\n",
       " Text(317.5570815450644, 79.72799999999998, 'gini = 0.0\\nsamples = 1\\nvalue = [0, 0, 0, 0, 0, 0, 1, 0, 0, 0]'),\n",
       " Text(329.05236051502146, 108.72, 'X[58] <= 0.479\\ngini = 0.066\\nsamples = 59\\nvalue = [0, 0, 0, 0, 57, 1, 1, 0, 0, 0]'),\n",
       " Text(326.17854077253224, 94.22399999999999, 'X[46] <= 0.818\\ngini = 0.034\\nsamples = 58\\nvalue = [0, 0, 0, 0, 57, 0, 1, 0, 0, 0]'),\n",
       " Text(323.30472103004297, 79.72799999999998, 'gini = 0.0\\nsamples = 57\\nvalue = [0, 0, 0, 0, 57, 0, 0, 0, 0, 0]'),\n",
       " Text(329.05236051502146, 79.72799999999998, 'gini = 0.0\\nsamples = 1\\nvalue = [0, 0, 0, 0, 0, 0, 1, 0, 0, 0]'),\n",
       " Text(331.92618025751074, 94.22399999999999, 'gini = 0.0\\nsamples = 1\\nvalue = [0, 0, 0, 0, 0, 1, 0, 0, 0, 0]'),\n",
       " Text(326.17854077253224, 123.216, 'gini = 0.0\\nsamples = 3\\nvalue = [0, 0, 0, 0, 0, 0, 0, 3, 0, 0]'),\n",
       " Text(329.05236051502146, 137.712, 'gini = 0.0\\nsamples = 5\\nvalue = [0, 5, 0, 0, 0, 0, 0, 0, 0, 0]')]"
      ]
     },
     "execution_count": 11,
     "metadata": {},
     "output_type": "execute_result"
    },
    {
     "data": {
      "image/png": "[encoded data removed]",
      "text/plain": [
       "<Figure size 432x288 with 1 Axes>"
      ]
     },
     "metadata": {
      "needs_background": "light"
     },
     "output_type": "display_data"
    }
   ],
   "source": [
    "from sklearn.tree import plot_tree\n",
    "\n",
    "# If you have completed the first part correctly, you should be able to re-use most of the code. You will need the additional\n",
    "#imported function to plot the tree. If oyu are unsure about how to measure computation time, check last weeks python notebook\n"
   ]
  },
  {
   "cell_type": "markdown",
   "metadata": {},
   "source": [
    "### Construct an ROC curve for a logistic regression classifier using the inbuilt functions in scikit\n",
    "\n",
    "Note that an ROC curve only works for 2 classes (in its standard form), so you will need to select an appropriate dataset"
   ]
  },
  {
   "cell_type": "code",
   "execution_count": 28,
   "metadata": {},
   "outputs": [
    {
     "data": {
      "text/plain": [
       "[<matplotlib.lines.Line2D at 0x16f9a3bf588>]"
      ]
     },
     "execution_count": 28,
     "metadata": {},
     "output_type": "execute_result"
    },
    {
     "data": {
      "image/png": "[encoded data removed]",
      "text/plain": [
       "<Figure size 432x288 with 1 Axes>"
      ]
     },
     "metadata": {
      "needs_background": "light"
     },
     "output_type": "display_data"
    }
   ],
   "source": [
    "from sklearn.datasets import load_breast_cancer\n",
    "from sklearn.linear_model import LogisticRegression\n",
    "from sklearn.metrics import roc_curve\n",
    "from sklearn.preprocessing import StandardScaler\n",
    "import matplotlib.pyplot as plt\n",
    "\n",
    "data = load_breast_cancer()\n",
    "X = data.data;\n",
    "y = data.target;\n",
    "\n",
    "X_train, X_test, y_train, y_test = train_test_split(X, y, test_size = 0.3)\n",
    "\n",
    "# TODO - complete the rest"
   ]
  },
  {
   "cell_type": "markdown",
   "metadata": {},
   "source": [
    "## Level 2\n",
    "### implement an ROC curve for a logistic regression classifier from scratch\n",
    "\n",
    "You can use sklearn to generate and learn the model (and provide output probabilities for the class), but you should write the rest yourself."
   ]
  },
  {
   "cell_type": "code",
   "execution_count": 69,
   "metadata": {},
   "outputs": [],
   "source": [
    "from sklearn.datasets import load_breast_cancer\n",
    "from sklearn.linear_model import LogisticRegression\n",
    "from sklearn.metrics import roc_curve\n",
    "from sklearn.preprocessing import StandardScaler\n",
    "import matplotlib.pyplot as plt\n",
    "\n",
    "data = load_breast_cancer()\n",
    "X = data.data;\n",
    "y = data.target;\n",
    "\n",
    "X_train, X_test, y_train, y_test = train_test_split(X, y, test_size = 0.3)\n",
    "\n",
    "# TODO: train logistic regression model below - you will need to use the predict_proba function to get the label probabilities"
   ]
  },
  {
   "cell_type": "code",
   "execution_count": 82,
   "metadata": {},
   "outputs": [],
   "source": [
    "# Here is the ROC part:\n",
    "\n",
    "# sweep through the decision threshold - from 0 to 1, in small steps\n",
    "tpr = []\n",
    "fpr = []\n",
    "\n",
    "for thresh in np.arange(0,1,0.01):\n",
    "    # TODO calculate tpr\n",
    "    # TODO calculate fpr\n"
   ]
  },
  {
   "cell_type": "code",
   "execution_count": 86,
   "metadata": {},
   "outputs": [
    {
     "data": {
      "text/plain": [
       "[<matplotlib.lines.Line2D at 0x16f9cc84a48>]"
      ]
     },
     "execution_count": 86,
     "metadata": {},
     "output_type": "execute_result"
    },
    {
     "data": {
      "image/png": "[encoded data removed]",
      "text/plain": [
       "<Figure size 432x288 with 1 Axes>"
      ]
     },
     "metadata": {
      "needs_background": "light"
     },
     "output_type": "display_data"
    }
   ],
   "source": [
    "plt.plot(fpr,tpr)"
   ]
  },
  {
   "cell_type": "markdown",
   "metadata": {},
   "source": [
    "### using the previous result, calculate the AUROC\n",
    "\n",
    "You will need to consider how to estimate an area under the curve using the triangle/trapezium rule"
   ]
  },
  {
   "cell_type": "code",
   "execution_count": 101,
   "metadata": {},
   "outputs": [
    {
     "name": "stdout",
     "output_type": "stream",
     "text": [
      "0.9996996996996997\n"
     ]
    }
   ],
   "source": []
  },
  {
   "cell_type": "markdown",
   "metadata": {},
   "source": [
    "### Compare how well the decision tree does against other models we've built so far.\n",
    "\n",
    "How sensitive is it to parameter setting, compared to the other models? How does it react to data sets with large numbers of examples versus small numbers? What about data with large numbers of features versus small numbers?"
   ]
  },
  {
   "cell_type": "code",
   "execution_count": 102,
   "metadata": {},
   "outputs": [
    {
     "name": "stdout",
     "output_type": "stream",
     "text": [
      "[[0.         0.82777778 0.86666667 0.85       0.84840056 0.82424917\n",
      "  0.81649676 0.78934817 0.7635605 ]\n",
      " [0.         0.96111111 0.95833333 0.97407407 0.96244784 0.96329255\n",
      "  0.95088044 0.95627981 0.93324061]]\n"
     ]
    },
    {
     "data": {
      "text/plain": [
       "[<matplotlib.lines.Line2D at 0x16f9cb94d08>,\n",
       " <matplotlib.lines.Line2D at 0x16f9c6510c8>]"
      ]
     },
     "execution_count": 102,
     "metadata": {},
     "output_type": "execute_result"
    },
    {
     "data": {
      "image/png": "[encoded data removed]",
      "text/plain": [
       "<Figure size 432x288 with 1 Axes>"
      ]
     },
     "metadata": {
      "needs_background": "light"
     },
     "output_type": "display_data"
    }
   ],
   "source": [
    "# below we compare decision trees to logistic regression - this provides a platform for you to answer the rest of the question.\n",
    "\n",
    "from sklearn import datasets\n",
    "import numpy as np\n",
    "import matplotlib.pyplot as plt\n",
    "from sklearn.model_selection import train_test_split\n",
    "from sklearn.metrics import accuracy_score\n",
    "from sklearn import preprocessing\n",
    "from sklearn import tree\n",
    "from sklearn.tree import DecisionTreeClassifier\n",
    "from sklearn.linear_model import LogisticRegression\n",
    "\n",
    "digits = datasets.load_digits()\n",
    "X_scaled = preprocessing.scale(digits.data)\n",
    "\n",
    "tree_model = DecisionTreeClassifier(random_state=0, max_depth = 20, min_samples_leaf = 1)\n",
    "logist_model = LogisticRegression(random_state = 0, max_iter = 1000)\n",
    "\n",
    "j=9\n",
    "accuracies = np.empty([2, j])\n",
    "\n",
    "for i in range(1,j):\n",
    "    X_train, X_test, y_train, y_test = train_test_split(X_scaled, digits.target, test_size = i/10)\n",
    "    tree_model.fit(X_train, y_train)\n",
    "    tree_pred = tree_model.predict(X_test)\n",
    "    tree_accuracy = accuracy_score(y_test,tree_pred)\n",
    "    \n",
    "    logist_model.fit(X_train,y_train)\n",
    "    logist_pred = logist_model.predict(X_test)\n",
    "    logist_accuracy = accuracy_score(y_test,logist_pred)\n",
    "    \n",
    "    accuracies[0, i] = tree_accuracy\n",
    "    accuracies[1, i] = logist_accuracy\n",
    "    \n",
    "print(accuracies)\n",
    "\n",
    "plt.plot(np.arange(0.1,1.0,0.1),np.transpose(accuracies))"
   ]
  },
  {
   "cell_type": "markdown",
   "metadata": {},
   "source": [
    "## Implement you own decision tree\n",
    "\n",
    "note that this is not straightforward (even if you start with the pseudocode from the notes) - we suggest that you research some online tutorials before getting started"
   ]
  },
  {
   "cell_type": "code",
   "execution_count": null,
   "metadata": {},
   "outputs": [],
   "source": [
    "## This is non-trivial: see: https://machinelearningmastery.com/implement-decision-tree-algorithm-scratch-python/\n"
   ]
  }
 ],
 "metadata": {
  "kernelspec": {
   "display_name": "Python 3",
   "language": "python",
   "name": "python3"
  },
  "language_info": {
   "codemirror_mode": {
    "name": "ipython",
    "version": 3
   },
   "file_extension": ".py",
   "mimetype": "text/x-python",
   "name": "python",
   "nbconvert_exporter": "python",
   "pygments_lexer": "ipython3",
   "version": "3.8.3"
  }
 },
 "nbformat": 4,
 "nbformat_minor": 4
}
