{
 "cells": [
  {
   "cell_type": "markdown",
   "metadata": {},
   "source": [
    "# Week 3\n",
    "\n",
    "In addition to the below, remember you can always ask the Lab Helpers for suggestions at the alloted times.\n",
    "\n",
    "## Level 1\n",
    "### Use a nearest neighbour classifier on a dataset\n",
    "Supply a random half of your data examples as trainnig data, and test on the remainder. Plot the value of the test error as you increase k from 1 to 15."
   ]
  },
  {
   "cell_type": "code",
   "execution_count": 1,
   "metadata": {},
   "outputs": [],
   "source": [
    "# import a dataset -  we will use one of the scikit built in datasets again\n",
    "from sklearn import datasets\n",
    "import numpy as np\n",
    "import matplotlib.pyplot as plt\n",
    "digits = datasets.load_digits()"
   ]
  },
  {
   "cell_type": "markdown",
   "metadata": {},
   "source": [
    "We have imported the digits dataset, which is a simplified version of the very famous MNIST data set. This is a set of images, in black and white, of hand-drawn numbers from 0 to 9. Before proceeding, we will look at some of the data."
   ]
  },
  {
   "cell_type": "code",
   "execution_count": 2,
   "metadata": {},
   "outputs": [
    {
     "data": {
      "text/plain": [
       "<matplotlib.image.AxesImage at 0x7fa9b8449c70>"
      ]
     },
     "execution_count": 2,
     "metadata": {},
     "output_type": "execute_result"
    },
    {
     "data": {
      "image/png": "[encoded data removed]",
      "text/plain": [
       "<Figure size 432x288 with 1 Axes>"
      ]
     },
     "metadata": {
      "needs_background": "light"
     },
     "output_type": "display_data"
    }
   ],
   "source": [
    "# get one image\n",
    "image1 = digits.images[1]\n",
    "plt.imshow(image1, cmap='Greys')\n"
   ]
  },
  {
   "cell_type": "markdown",
   "metadata": {},
   "source": [
    "you should understand what the cmap parameter is doing here. If you do not, read the documentation for imshow (via a google search). The data in *images* is stored as a 2-d array, so that the rows and columns of the array match up with the physical coordinates of the image. The data in *data* is stored as a 1-d array, as shown below. You should compare both arrays to ensure you understand how the image data has been converted. From here, we will be working with *data*, as the sklearn functions take a 1-D array as input."
   ]
  },
  {
   "cell_type": "code",
   "execution_count": 3,
   "metadata": {},
   "outputs": [
    {
     "name": "stdout",
     "output_type": "stream",
     "text": [
      "[[ 0.  0.  0. 12. 13.  5.  0.  0.]\n",
      " [ 0.  0.  0. 11. 16.  9.  0.  0.]\n",
      " [ 0.  0.  3. 15. 16.  6.  0.  0.]\n",
      " [ 0.  7. 15. 16. 16.  2.  0.  0.]\n",
      " [ 0.  0.  1. 16. 16.  3.  0.  0.]\n",
      " [ 0.  0.  1. 16. 16.  6.  0.  0.]\n",
      " [ 0.  0.  1. 16. 16.  6.  0.  0.]\n",
      " [ 0.  0.  0. 11. 16. 10.  0.  0.]]\n",
      "[ 0.  0.  0. 12. 13.  5.  0.  0.  0.  0.  0. 11. 16.  9.  0.  0.  0.  0.\n",
      "  3. 15. 16.  6.  0.  0.  0.  7. 15. 16. 16.  2.  0.  0.  0.  0.  1. 16.\n",
      " 16.  3.  0.  0.  0.  0.  1. 16. 16.  6.  0.  0.  0.  0.  1. 16. 16.  6.\n",
      "  0.  0.  0.  0.  0. 11. 16. 10.  0.  0.]\n"
     ]
    }
   ],
   "source": [
    "print(digits.images[1])\n",
    "print(digits.data[1])"
   ]
  },
  {
   "cell_type": "markdown",
   "metadata": {},
   "source": [
    "Let's now apply the k-means classifier. Note that we have scaled the data. Why is this important, especially for a k-means classifier (which uses distances between features)? If you are struggling to answer this, the answer is in Week 4's video on *practical considerations in machine learning - part 1*"
   ]
  },
  {
   "cell_type": "code",
   "execution_count": 4,
   "metadata": {},
   "outputs": [
    {
     "ename": "SyntaxError",
     "evalue": "invalid syntax (<ipython-input-4-842494a7852f>, line 9)",
     "output_type": "error",
     "traceback": [
      "\u001b[0;36m  File \u001b[0;32m\"<ipython-input-4-842494a7852f>\"\u001b[0;36m, line \u001b[0;32m9\u001b[0m\n\u001b[0;31m    X_train, X_test, y_train, y_test = #TODO\u001b[0m\n\u001b[0m                                       ^\u001b[0m\n\u001b[0;31mSyntaxError\u001b[0m\u001b[0;31m:\u001b[0m invalid syntax\n"
     ]
    }
   ],
   "source": [
    "from sklearn.model_selection import train_test_split\n",
    "from sklearn.neighbors import KNeighborsClassifier\n",
    "from sklearn.metrics import accuracy_score\n",
    "from sklearn import preprocessing\n",
    "\n",
    "X_scaled = preprocessing.scale(digits.data)\n",
    "# split the data into a training and test set\n",
    "X_train, X_test, y_train, y_test = #TO\n",
    "error_rate = []\n",
    "\n",
    "for n_neighbors in range(1,40):\n",
    "    clf = # TODO : train the k nearest neighbours classifier with different values for k\n",
    "    clf.fit(X_train, y_train)\n",
    "    y_pred = clf.predict(X_test)\n",
    "    \n",
    "    # this line calculates the error rate, and then adds it on to the error_rate array\n",
    "    error_rate.append(1 - accuracy_score(y_test,y_pred))\n",
    "plt.plot(range(1,40), error_rate)"
   ]
  },
  {
   "cell_type": "markdown",
   "metadata": {},
   "source": [
    "What happens to the error rate as K increases? Why do you think this occurs?\n",
    "\n",
    "For problems with an even number of target classes, most people slsect an odd number for k. Try repeating this process for a problem that has only two classes (e.g. breast_cancer dataset). What do you notice about even numbered values of k? Why do you think this occurs?\n",
    "\n",
    "## Repeat the target above, but over random train/test splits\n",
    "\n",
    "Plot an average across random variation, including error bars for the standard error. What do you notice?\n",
    "\n",
    "In the code below, we select 10 different random splits of train/test data. Note that the code is not particularly efficient, as we are training 10\\*40 = 400 classifiers. It may take a couple of minutes to run."
   ]
  },
  {
   "cell_type": "code",
   "execution_count": 5,
   "metadata": {},
   "outputs": [
    {
     "data": {
      "text/plain": [
       "<ErrorbarContainer object of 3 artists>"
      ]
     },
     "execution_count": 5,
     "metadata": {},
     "output_type": "execute_result"
    },
    {
     "data": {
      "image/png": "[encoded data removed]",
      "text/plain": [
       "<Figure size 432x288 with 1 Axes>"
      ]
     },
     "metadata": {
      "needs_background": "light"
     },
     "output_type": "display_data"
    }
   ],
   "source": [
    "error_rate_a = np.empty([10, 39])\n",
    "for i in range(0,10):\n",
    "    for n_neighbors in range(1,40):\n",
    "        X_train, X_test, y_train, y_test = #TODO - set up the train/test split\n",
    "        clf = #TODO = initialise the KNN model\n",
    "        clf.fit(X_train, y_train)\n",
    "        y_pred = clf.predict(X_test)\n",
    "        error_rate_a[i,n_neighbors-1] = 1 - accuracy_score(y_test,y_pred)\n",
    "        \n",
    "mean_error = #TODO: calculate the mean error for each of the ten runs\n",
    "err_bar = np.std(error_rate_a, axis = 0) * 1.96\n",
    "plt.errorbar(range(1,40), mean_error, yerr = err_bar)"
   ]
  },
  {
   "cell_type": "markdown",
   "metadata": {},
   "source": [
    "### Train and test a support vector machine on a dataset\n",
    "For some variation, we are going to use a different data set to train and test an SVM. Note that standard SVM formulation is only designed to classify two classes. It *can* be extended to classify mutliple classes (and indeed, the SKlearn implentation does so), but the details of this are beyond the course scope.\n",
    "\n",
    "We will use the breast cancer wisconsin dataset, in which the task is to classify whether a tumour is malignant (dangerous) or benign (safe) using features derived from images of a breast biopsy."
   ]
  },
  {
   "cell_type": "code",
   "execution_count": 7,
   "metadata": {},
   "outputs": [
    {
     "data": {
      "text/plain": [
       "0.9064327485380117"
      ]
     },
     "execution_count": 7,
     "metadata": {},
     "output_type": "execute_result"
    }
   ],
   "source": [
    "from sklearn.datasets import load_breast_cancer\n",
    "from sklearn.model_selection import train_test_split\n",
    "from sklearn.svm import SVC\n",
    "data = load_breast_cancer()\n",
    "X = data.data;\n",
    "y = data.target;\n",
    "\n",
    "X_train, X_test, y_train, y_test = train_test_split(X, y, test_size = 0.3)\n",
    "\n",
    "# You will learn next week that it is good practice to scale the data, using the mean\n",
    "# and standard devation of the training set - we will skip this for now\n",
    "\n",
    "# train a support vector machine classifier with an polynomial kernel of order 3\n",
    "model = SVC()\n",
    "# Todo - fit the model to training data\n",
    "# calculate the model accuracy using .score()"
   ]
  },
  {
   "cell_type": "markdown",
   "metadata": {},
   "source": [
    "### Vary the gamma parameter for the rbf svm and plot the error as you vary it between 0.01 and 10\n",
    "\n",
    "For this particular data set, the optimum value of gamma is very close to zero, so we have varied gamma between 0.001 and 1, in steps of 0.01 instead."
   ]
  },
  {
   "cell_type": "code",
   "execution_count": 13,
   "metadata": {},
   "outputs": [
    {
     "data": {
      "text/plain": [
       "[<matplotlib.lines.Line2D at 0x1ba12aedf88>]"
      ]
     },
     "execution_count": 13,
     "metadata": {},
     "output_type": "execute_result"
    },
    {
     "data": {
      "image/png": "[encoded data removed]",
      "text/plain": [
       "<Figure size 432x288 with 1 Axes>"
      ]
     },
     "metadata": {
      "needs_background": "light"
     },
     "output_type": "display_data"
    }
   ],
   "source": [
    "import numpy as np\n",
    "from sklearn.metrics import accuracy_score\n",
    "import matplotlib.pyplot as plt\n",
    "\n",
    "### vary the gamma parameter for the rbf svm and plot the error as you vary it between 0.01 annd 10\n",
    "error_rate = []\n",
    "step_size = 0.01\n",
    "max_gamma = 1\n",
    "for i in np.arange(0.001, max_gamma, step_size):\n",
    "    model = SVC(kernel = 'rbf', gamma = i)\n",
    "    model.fit(X_train, y_train)\n",
    "    y_pred = model.predict(X_test)\n",
    "    error_rate.append(1 - accuracy_score(y_test,y_pred))\n",
    "    \n",
    "plt.plot(np.arange(0.001, max_gamma, step_size), error_rate)"
   ]
  },
  {
   "cell_type": "markdown",
   "metadata": {},
   "source": [
    "## Level 2\n",
    "\n",
    "### try several different SVM parameters, plotting the testing error for each\n",
    "\n",
    "Let us try using the the digits dataset again, so we can see how the sklearn implementation deals with multiclass (more than 2 classes) classification problems. This time, let's vary C, the regularisation parameter for the slack variables.\n",
    "\n",
    "You will have to find a suitable range of values to plot for C."
   ]
  },
  {
   "cell_type": "code",
   "execution_count": 5,
   "metadata": {},
   "outputs": [
    {
     "data": {
      "text/plain": [
       "[<matplotlib.lines.Line2D at 0x2689834a5c8>]"
      ]
     },
     "execution_count": 5,
     "metadata": {},
     "output_type": "execute_result"
    },
    {
     "data": {
      "image/png": "[encoded data removed]",
      "text/plain": [
       "<Figure size 432x288 with 1 Axes>"
      ]
     },
     "metadata": {
      "needs_background": "light"
     },
     "output_type": "display_data"
    }
   ],
   "source": [
    "from sklearn import datasets\n",
    "import numpy as np\n",
    "import matplotlib.pyplot as plt\n",
    "from sklearn.model_selection import train_test_split\n",
    "from sklearn.metrics import accuracy_score\n",
    "from sklearn import preprocessing\n",
    "from sklearn.svm import SVC\n",
    "\n",
    "digits = datasets.load_digits()\n",
    "X_scaled = preprocessing.scale(digits.data)\n",
    "\n",
    "# split the data into a training and test set\n",
    "\n",
    "# create for loop that loops over different values of C, and store the model accuracy each time (hint: for this data set, start by searching 0<C<1)\n",
    "\n",
    "# plot the model accuracies\n",
    "\n",
    "\n",
    "X_train, X_test, y_train, y_test = train_test_split(X_scaled, digits.target, test_size = 0.5)\n",
    "error_rate = []\n",
    "\n",
    "C = [#Todo]\n",
    "for i in C:\n",
    "#TODO\n",
    "    \n",
    "plt.plot(C, error_rate)"
   ]
  },
  {
   "cell_type": "markdown",
   "metadata": {},
   "source": [
    "\n",
    "\n",
    "### Use the K-nn model and analyse how much time it takes to classify data points\n",
    "User different numbers of features and different numbers of examples in the training data"
   ]
  },
  {
   "cell_type": "code",
   "execution_count": 37,
   "metadata": {},
   "outputs": [
    {
     "data": {
      "text/plain": [
       "[<matplotlib.lines.Line2D at 0x2ab9a8bd3c8>]"
      ]
     },
     "execution_count": 37,
     "metadata": {},
     "output_type": "execute_result"
    },
    {
     "data": {
      "image/png": "[encoded data removed]",
      "text/plain": [
       "<Figure size 432x288 with 1 Axes>"
      ]
     },
     "metadata": {
      "needs_background": "light"
     },
     "output_type": "display_data"
    }
   ],
   "source": [
    "import time\n",
    "\n",
    "# keep k fixed. Let's choose k=3\n",
    "# change number of features - start with 5 features, and make our way up to the full 64 in increments of 5.\n",
    "# record the time corresponding the number of features (and plot the result)\n",
    "\n",
    "k=3\n",
    "training_time = np.empty([10, 1])\n",
    "\n",
    "for i in range(0,10):\n",
    "        # Todo: change our dataset to have different numbers of features each time \n",
    "        # n.b. this is excluded from the time to train the classifier\n",
    "        \n",
    "        # todo: split the dataset into train/test sets\n",
    "        \n",
    "        start_time = time.time() #note the time at the start of classification\n",
    "        \n",
    "        # todo: train and test model.\n",
    "\n",
    "        training_time[i] = time.time() - start_time\n",
    "\n",
    "# plot the results\n",
    "# technically, this shouldn't be a line plot, as k cannot take non-integer values\n",
    "plt.plot(np.arange(1,51,5),training_time)"
   ]
  }
 ],
 "metadata": {
  "kernelspec": {
   "display_name": "Python 3",
   "language": "python",
   "name": "python3"
  },
  "language_info": {
   "codemirror_mode": {
    "name": "ipython",
    "version": 3
   },
   "file_extension": ".py",
   "mimetype": "text/x-python",
   "name": "python",
   "nbconvert_exporter": "python",
   "pygments_lexer": "ipython3",
   "version": "3.8.3"
  }
 },
 "nbformat": 4,
 "nbformat_minor": 4
}
