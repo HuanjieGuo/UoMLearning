{
 "cells": [
  {
   "cell_type": "markdown",
   "metadata": {},
   "source": [
    "# week 5\n",
    "In addition to the below, remember you can always ask the Lab Helpers for suggestions at the alloted times.\n",
    "\n",
    "Like last week, the outline code for the level 1 tasks is deliberately sparse, as you should know feel comfortable in training and testing machine learning models.\n",
    "\n",
    "## Level 1\n",
    "### On a dataset of your choice (perhaps using one of the in-built data sets within scikit), build a random forest classifier, and compare the performance to a single decision tree.\n",
    "\n",
    "Repeat this process for a second data set. The second data set should have a large range of features (>10) and examples (>1000). You may need to download data from the UCI repository at https://archive.ics.uci.edu/ml/index.php - note that there is a searchable interface on the website to help find appropriate dat sets.\n",
    "\n",
    "\n",
    "The code snippet below is a template that imports the functions that you will need to run a single decision tree and a random forest classifier on the iris dataset that you used in Week 2"
   ]
  },
  {
   "cell_type": "code",
   "execution_count": 1,
   "metadata": {},
   "outputs": [],
   "source": [
    "# import the iris data set. Information on the data set here: https://en.wikipedia.org/wiki/Iris_flower_data_set\n",
    "import numpy as np\n",
    "from sklearn import datasets\n",
    "from sklearn.model_selection import train_test_split\n",
    "from sklearn.tree import DecisionTreeClassifier\n",
    "from sklearn.ensemble import RandomForestClassifier\n",
    "\n",
    "iris = datasets.load_iris()\n",
    "features = iris.data\n",
    "labels = iris.target\n",
    "\n",
    "#Todo: train and test a random forest classifier\n",
    "\n",
    "#Todo: train and test a decision tree classifier"
   ]
  },
  {
   "cell_type": "markdown",
   "metadata": {},
   "source": [
    "The code snippet below trains and tests a decision tree and random forest classifier for the dataset included on Blackboard. You may need to edit the path in the read_csv command to make sure that it points to your downloaded file. A description of the data is provided at: https://archive.ics.uci.edu/ml/datasets/Estimation+of+obesity+levels+based+on+eating+habits+and+physical+condition+\n",
    "\n",
    "Note that the raw csv file contains categorical features, but these are initial recorded as text strings - you should make sure you understand the pre-processing in the following snippet:"
   ]
  },
  {
   "cell_type": "code",
   "execution_count": 3,
   "metadata": {},
   "outputs": [],
   "source": [
    "import pandas as pd #import the pandas library for data manipulation\n",
    "\n",
    "data = pd.read_csv(\"ObesityData.csv\", header=0, na_values=['?'])\n",
    "\n",
    "# code the categorical features {Gender, family_history_with_overweight,\n",
    "# FAVC, CAEC, SMOKE, SCC, CALC, MTRANS}\n",
    "categories = ['Gender', 'family_history_with_overweight', 'FAVC', 'CAEC', 'SMOKE', 'SCC', 'CALC', 'MTRANS', 'NObeyesdad']\n",
    "\n",
    "for i in categories:\n",
    "    data[i] = data[i].astype('category')\n",
    "    data[i] = data[i].cat.codes\n",
    "    \n",
    "y = data.pop('NObeyesdad').values"
   ]
  },
  {
   "cell_type": "markdown",
   "metadata": {},
   "source": [
    "After getting the data into a suitable format, we can train and test a random forest classifier:"
   ]
  },
  {
   "cell_type": "code",
   "execution_count": 2,
   "metadata": {},
   "outputs": [],
   "source": [
    "from sklearn.model_selection import train_test_split\n",
    "from sklearn.ensemble import RandomForestClassifier\n",
    "\n",
    "#Todo: train and test a random forest classifier"
   ]
  },
  {
   "cell_type": "markdown",
   "metadata": {},
   "source": [
    "Using the same train/test split, train and test a single decision tree"
   ]
  },
  {
   "cell_type": "code",
   "execution_count": 3,
   "metadata": {},
   "outputs": [],
   "source": [
    "#Todo: train and test a random forest classifier"
   ]
  },
  {
   "cell_type": "markdown",
   "metadata": {},
   "source": [
    "At this stage, you will likely see that the accuracy of the random forest is higher than the single decision tree. You may wish to confirm that this is not due to a 'lucky' train/test split, by repeating the process for different random splits, and recording the mean and standard deviation of your results.\n",
    "\n",
    "### For the random forest above, investigate the impact of changing the number of trees, and whether bootstrap sampling is used\n",
    "\n",
    "There is no accompanying code here, as the investigation involves making minor tweaks to the existing template above. If you do not know how to change these parameters, then you should look at the scikit documentation for the decisionTreeClassifier function."
   ]
  },
  {
   "cell_type": "markdown",
   "metadata": {},
   "source": [
    "### For the breast cancer dataset (in sklearn), build an adaboost classifier using sklearn.\n",
    "\n",
    "plot the classification accuracy as you vary the number of estimators (iterations) between 1 and 10. What do you notice?\n",
    "\n",
    "The classification accuracy is relatively high (~85%) after 1 estimator - what does this tell you about the dataset?"
   ]
  },
  {
   "cell_type": "code",
   "execution_count": 5,
   "metadata": {},
   "outputs": [],
   "source": [
    "from sklearn.ensemble import AdaBoostClassifier\n",
    "import matplotlib.pyplot as plt\n",
    "\n",
    "## train and test adaboost on breast cancer dataset\n",
    "from sklearn.datasets import load_breast_cancer\n",
    "from sklearn.preprocessing import LabelEncoder\n",
    "breast_cancer = load_breast_cancer()\n",
    "X = breast_cancer.data\n",
    "y = breast_cancer.target\n",
    "\n",
    "## todo: train and test an adaboost classifier, over a range of different numbers of estimators, and store in a variable 'accuracies'\n",
    "    \n",
    "## plt.plot(accuracies)\n"
   ]
  }
 ],
 "metadata": {
  "kernelspec": {
   "display_name": "Python 3",
   "language": "python",
   "name": "python3"
  },
  "language_info": {
   "codemirror_mode": {
    "name": "ipython",
    "version": 3
   },
   "file_extension": ".py",
   "mimetype": "text/x-python",
   "name": "python",
   "nbconvert_exporter": "python",
   "pygments_lexer": "ipython3",
   "version": "3.7.6"
  }
 },
 "nbformat": 4,
 "nbformat_minor": 4
}
