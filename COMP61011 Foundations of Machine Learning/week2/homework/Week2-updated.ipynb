{
 "cells": [
  {
   "cell_type": "markdown",
   "metadata": {},
   "source": [
    "# 61011 Week 2\n",
    "\n",
    "Over the next week: try to do all of Level 1, and some of Level 2. Skeleton code is provide for the Level 1 targets, below.\n",
    "\n",
    "In addition, read through and understand the Jupyter notebooks on Logistic Regression, Perceptron, and Machine Learning Training\n",
    "\n",
    "## Level 1\n",
    "Rather than importing data directly, we will use the data sets built in to sklearn for these tasks. This saves us having to download and convert csv files.\n",
    "\n",
    "### Plot train/test errors of a logistic regression, as the number of epochs increase\n",
    "Note that the code below will throw a series of warnings, because we are stopping the logistic regression before it has fully finished training.\n",
    "\n",
    "What is the effect of changing the train/test split?\n",
    "What is the effect of changing the number of epochs?\n",
    "What is the effect of changing the solver?"
   ]
  },
  {
   "cell_type": "code",
   "execution_count": 32,
   "metadata": {
    "scrolled": true
   },
   "outputs": [],
   "source": [
    "# import the iris data set. Information on the data set here: https://en.wikipedia.org/wiki/Iris_flower_data_set\n",
    "import numpy as np\n",
    "from sklearn import datasets\n",
    "from sklearn.linear_model import LogisticRegression\n",
    "from sklearn.model_selection import train_test_split\n",
    "from matplotlib.pyplot import plot\n",
    "from sklearn.metrics import accuracy_score\n",
    "import warnings\n",
    "\n",
    "warnings.filterwarnings('ignore')\n",
    "\n",
    "iris = datasets.load_iris()\n",
    "features = iris.data\n",
    "labels = iris.target\n",
    "\n",
    "X_train, X_test, y_train, y_test = train_test_split(features, labels, test_size=0.5, random_state=42)\n",
    "\n",
    "epochs = 30;\n",
    "training_acc = [0] * (epochs-1)\n",
    "test_acc = [0] * (epochs-1)\n",
    "\n",
    "for i in range(1,epochs):\n",
    "    clf = LogisticRegression(random_state=0, solver='lbfgs', max_iter=i)\n",
    "    # TODO: train the model\n",
    "    clf.fit(X_train,y_train)\n",
    "    \n",
    "    training_acc[i-1] = accuracy_score(y_train,clf.predict(X_train))\n",
    "    test_acc[i-1] = accuracy_score(y_test,clf.predict(X_test))\n",
    "    \n"
   ]
  },
  {
   "cell_type": "code",
   "execution_count": 33,
   "metadata": {
    "scrolled": true
   },
   "outputs": [
    {
     "data": {
      "text/plain": [
       "[<matplotlib.lines.Line2D at 0x7fc9f93de2e0>]"
      ]
     },
     "execution_count": 33,
     "metadata": {},
     "output_type": "execute_result"
    },
    {
     "data": {
      "image/png": "[encoded data removed]",
      "text/plain": [
       "<Figure size 432x288 with 1 Axes>"
      ]
     },
     "metadata": {
      "needs_background": "light"
     },
     "output_type": "display_data"
    }
   ],
   "source": [
    "plot(training_acc)\n",
    "plot(test_acc)"
   ]
  },
  {
   "cell_type": "markdown",
   "metadata": {},
   "source": [
    "### plot the train/test error over 10 repeats, shuffling the data each time, with error bars"
   ]
  },
  {
   "cell_type": "code",
   "execution_count": 34,
   "metadata": {},
   "outputs": [
    {
     "name": "stdout",
     "output_type": "stream",
     "text": [
      "Training acc mean 0.706667\n",
      "Test acc mean 0.748000\n",
      "(0.5064929379987196, 0.9068403953346139)\n",
      "(0.5515960900243904, 0.9444039099756096)\n"
     ]
    }
   ],
   "source": [
    "import numpy as np,scipy.stats as st\n",
    "from sklearn import datasets\n",
    "from sklearn.linear_model import LogisticRegression\n",
    "from sklearn.model_selection import train_test_split\n",
    "from matplotlib.pyplot import plot\n",
    "\n",
    "iris = datasets.load_iris()\n",
    "features = iris.data\n",
    "labels = iris.target\n",
    "\n",
    "training_acc = [0] * (10)\n",
    "test_acc = [0] * (10)\n",
    "\n",
    "for i in range(0,10):\n",
    "    X_train, X_test, y_train, y_test = train_test_split(features, labels, test_size=0.5)\n",
    "    # TODO: train the model\n",
    "    clf = LogisticRegression(random_state=0, solver='lbfgs', max_iter=i)\n",
    "    clf.fit(X_train,y_train)\n",
    "    # TODO: store the training accuracy\n",
    "    training_acc[i] = accuracy_score(y_train,clf.predict(X_train))\n",
    "    # TODO: store the test accuracy\n",
    "    test_acc[i] = accuracy_score(y_test,clf.predict(X_test))\n",
    "    \n",
    "# get the mean training_acc and test_acc\n",
    "training_acc_mean = np.mean(training_acc)\n",
    "test_acc_mean = np.mean(test_acc_mean)\n",
    "print(\"Training acc mean %f\" % training_acc_mean)\n",
    "print(\"Test acc mean %f\"% test_acc_mean)\n",
    "# generate error bars (either max/min, or the 95% confidence intervals)\n",
    "ci_train = st.t.interval(0.95,len(training_acc)-1,loc=training_acc_mean,scale=st.sem(training_acc))\n",
    "ci_test = st.t.interval(0.95,len(test_acc)-1,loc=test_acc_mean,scale=st.sem(test_acc))\n",
    "print(ci_t)\n",
    "print(ci_test)"
   ]
  },
  {
   "cell_type": "markdown",
   "metadata": {},
   "source": [
    "### calculate the 5-fold cross validation error of a logistic regression, accounting for any sources of variance in the performance\n",
    "We now apply the cross validation. If you are not sure what cross-validation is, or why it is used, please refer to the Machine Learning Training Jupyter notebook and the course textbook.\n",
    "\n",
    "\n",
    "Note that, before training the model, we have scaled all the features to have zero mean and unit (one) variance. Although this is not always strictly necessary, it is often for methods that use gradient descent, which may otherwise end up prioritising features with a large range of values.\n",
    "\n",
    "Strictly speaking, scaling should be computed on the training set only, to prevent information leakage between the training and test sets (but we have not done that here)\n",
    "\n",
    "Also note that in the LogisticRegression model, we have set random_state = 0. This ensures that the random number used to in the algorithm solver is consistent between runs (i.e. removing a source of variance). In this case, where the loss function is convex and the algorithms converge, so it should not make any difference"
   ]
  },
  {
   "cell_type": "code",
   "execution_count": 43,
   "metadata": {},
   "outputs": [
    {
     "name": "stdout",
     "output_type": "stream",
     "text": [
      "accuracy = 0.9583333333333334\n",
      "confidence interval = 0.10330107023216707\n"
     ]
    }
   ],
   "source": [
    "# apply cross validation\n",
    "from sklearn.model_selection import cross_val_score\n",
    "from sklearn.linear_model import LogisticRegression\n",
    "from sklearn import preprocessing\n",
    "\n",
    "features_scaled = preprocessing.scale(features)\n",
    "\n",
    "X_train, X_test, y_train, y_test = train_test_split(features_scaled, labels, test_size=0.2)\n",
    "\n",
    "# TODO: create the model\n",
    "model = LogisticRegression(max_iter = 200)\n",
    "# TODO: train the model\n",
    "###############\n",
    "scores=cross_val_score(model, X_train, y_train, cv=5)\n",
    "# TODO: test the model\n",
    "#y_pred = model.predict(X_test)\n",
    "#print(y_pred)\n",
    "\n",
    "\n",
    "accuracy = np.mean(scores)\n",
    "print(\"accuracy = \" + str(accuracy))\n",
    "std_err = np.std(scores) * 1.96\n",
    "print(\"confidence interval = \" + str(std_err))"
   ]
  },
  {
   "cell_type": "markdown",
   "metadata": {},
   "source": [
    "You should understand what a confidence interval is, how it is derived from the Standard Error, and how the standard error differs from the standard deviation.\n",
    "\n",
    "### Calculate the leave-one-out cross validation error of a logistic regression mode\n",
    "In leave one out cross validation (LOO-CV), the model is trained on N-1 of N data points, and the tested on the remaining point. This procedure is repeated N times for a different set of N-1 points each time. The method is useful when the number of training instances is very limited, but may provide overly optimistic results.\n"
   ]
  },
  {
   "cell_type": "code",
   "execution_count": 44,
   "metadata": {},
   "outputs": [
    {
     "name": "stdout",
     "output_type": "stream",
     "text": [
      "0.9666666666666667\n"
     ]
    }
   ],
   "source": [
    "# apply LOO cross validation\n",
    "from sklearn.model_selection import LeaveOneOut\n",
    "from sklearn.linear_model import LogisticRegression\n",
    "from sklearn import preprocessing\n",
    "\n",
    "\n",
    "X = iris.data\n",
    "y = iris.target\n",
    "\n",
    "X_scaled = preprocessing.scale(X)\n",
    "model = LogisticRegression(random_state = 0, max_iter = 1000)\n",
    "loo = LeaveOneOut()\n",
    "correct = 0\n",
    "for train_idx, test_idx in loo.split(X):\n",
    "    model.fit(X[train_idx], y[train_idx])\n",
    "    # print(model.predict(X[test_idx]))\n",
    "    if model.predict(X[test_idx]) == y[test_idx]:\n",
    "        correct = correct + 1\n",
    "        \n",
    "acc = correct / len(X)\n",
    "print(acc)"
   ]
  },
  {
   "cell_type": "markdown",
   "metadata": {},
   "source": [
    "## Level 2\n",
    "\n",
    "Below are a few hints for the level 2 tasks\n",
    "\n",
    "### Investigate the sensitivity of the logistic regression to the amount of training data examples it sees\n",
    "In other words, how much does the logistic regression decision boundary (defined by the weight parameters) change, given the amount of training data.\n",
    "\n",
    "One way to assess the change in the logistic regression model is to examine the changes in the weight parameters. These can be accessed using the coef_ method (e.g. clf.coef_).\n",
    "\n",
    "An alternative way of investigating the sensitivity of the model is to see how accurate it is as you increase/decrease the training data set.\n",
    "\n",
    "\n",
    "### Investigate the idea of a 'momentum' parameter and implement it\n",
    "\n",
    "### Investigate alternative to gradient descent\n",
    "Try adjusting the 'solver' parameter for the logisticRegression model, and comparing the (i) number of epochs required for convergence (ii) training time. Note that these may be dependent on the problem that you are trying to solve, so you sohuld try multiple data sets."
   ]
  }
 ],
 "metadata": {
  "kernelspec": {
   "display_name": "Python 3",
   "language": "python",
   "name": "python3"
  },
  "language_info": {
   "codemirror_mode": {
    "name": "ipython",
    "version": 3
   },
   "file_extension": ".py",
   "mimetype": "text/x-python",
   "name": "python",
   "nbconvert_exporter": "python",
   "pygments_lexer": "ipython3",
   "version": "3.8.3"
  }
 },
 "nbformat": 4,
 "nbformat_minor": 4
}
