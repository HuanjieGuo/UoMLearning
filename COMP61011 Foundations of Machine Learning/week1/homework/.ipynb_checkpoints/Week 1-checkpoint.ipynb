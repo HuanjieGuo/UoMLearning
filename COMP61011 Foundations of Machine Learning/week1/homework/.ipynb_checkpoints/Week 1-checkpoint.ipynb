{
 "cells": [
  {
   "cell_type": "markdown",
   "metadata": {},
   "source": [
    "# 61011 Week 1\n",
    "\n",
    "## Level 0\n",
    "You should find the exercises in this level very simple to complete. All of the of the information required to complete these exercises can be found at www.learnpython.org. The cells below provide some skeleton code and some additional questions, but you should attempt to complete these exercises without using the skeleton code first.\n",
    "\n",
    "If you **do** need to refer to the skeleton code, you will struggle with the remainder of the labs. In this case, we strongly advise going through the entire tutorial at www.learnpython.org before proceeding to Level 1."
   ]
  },
  {
   "cell_type": "markdown",
   "metadata": {},
   "source": [
    "### Write a loop to sum the even numbers from 1 to 100\n",
    "Before looking at the code below, think about whether a FOR loop or WHILE loop is more appropriate for this problem.\n",
    "\n",
    "Type your answer here before revealing the answer below\n",
    "\n",
    "Answer: Both loops can be used to complete the task. In general, a FOR loop should be used when the number of iterations (times around the loop) is pre-determined. This is the case here, when we know, before entering the loop, that we will loop through 50 even numbers\n",
    "\n",
    "A WHILE loop is often slightly slower, as it needs to check a Boolean condition each time the loop is executed. Later in the course, we will see that WHILE loops are necessary when we have a stopping criterion for an iterative algorithm.\n",
    "\n",
    "The code below is a skeleton. Replace the 'xx's "
   ]
  },
  {
   "cell_type": "code",
   "execution_count": 2,
   "metadata": {},
   "outputs": [
    {
     "name": "stdout",
     "output_type": "stream",
     "text": [
      "2450\n"
     ]
    }
   ],
   "source": [
    "count = 0\n",
    "for i in range(0, 100, 2):\n",
    "    count = count + i\n",
    "    \n",
    "print(count)"
   ]
  },
  {
   "cell_type": "markdown",
   "metadata": {},
   "source": [
    "Answer: count = 2450\n",
    "\n",
    "### sum the even numbers 1 to 100 without a loop"
   ]
  },
  {
   "cell_type": "code",
   "execution_count": 3,
   "metadata": {},
   "outputs": [
    {
     "name": "stdout",
     "output_type": "stream",
     "text": [
      "2450\n"
     ]
    }
   ],
   "source": [
    "vec = range(0,100,2)\n",
    "count = sum(vec)\n",
    "print(count)"
   ]
  },
  {
   "cell_type": "markdown",
   "metadata": {},
   "source": [
    "Answer: count = 2450\n",
    "\n",
    "### Write a function to return the sum of its arguments and call it."
   ]
  },
  {
   "cell_type": "code",
   "execution_count": 4,
   "metadata": {},
   "outputs": [
    {
     "name": "stdout",
     "output_type": "stream",
     "text": [
      "5\n",
      "0\n",
      "530\n"
     ]
    }
   ],
   "source": [
    "def addXY(a,b):\n",
    "    return a+b\n",
    "    \n",
    "# call function below:\n",
    "print(addXY(3,2))\n",
    "print(addXY(1,-1))\n",
    "print(addXY(500,30))"
   ]
  },
  {
   "cell_type": "markdown",
   "metadata": {},
   "source": [
    "Answer: 5, 0, 530\n",
    "\n",
    "### Write a function to return the sum of all the even numbers up to a given number, x"
   ]
  },
  {
   "cell_type": "code",
   "execution_count": 5,
   "metadata": {},
   "outputs": [
    {
     "name": "stdout",
     "output_type": "stream",
     "text": [
      "2450\n"
     ]
    }
   ],
   "source": [
    "def sumEven(x):\n",
    "    count = 0\n",
    "    vec = range(0,x,2)\n",
    "    return(sum(vec))\n",
    "\n",
    "print(sumEven(100))"
   ]
  },
  {
   "cell_type": "markdown",
   "metadata": {},
   "source": [
    "Answer: 2450\n",
    "\n",
    "## Level 1\n",
    "\n",
    "Work through the tutorial at http://scikit-learn.org/stable/tutorial/basic/tutorial.html, if you are not already familiar with the scikit library\n",
    "\n",
    "You should start a new jupyter notebook (or create a new Python script within the Spyder IDE, if you prefer) and copy and paste the code snippets as required. For the moment, you do not need to understand what the SVC function does - you may treat it as a 'black box'. This will become clear when we learn about Support Vector Machines.\n",
    "\n",
    "It is critically important that you understand how models are first created, and then trained using the *fit* function.\n",
    "\n",
    "You should also understand that the trained model is **not** saved, unless you use pickle. This is all covered in the tutorial.\n",
    "\n",
    "### Use SKlearn to load a dataset, and display it on the screen"
   ]
  },
  {
   "cell_type": "code",
   "execution_count": 1,
   "metadata": {
    "scrolled": true
   },
   "outputs": [
    {
     "data": {
      "text/html": [
       "<div>\n",
       "<style scoped>\n",
       "    .dataframe tbody tr th:only-of-type {\n",
       "        vertical-align: middle;\n",
       "    }\n",
       "\n",
       "    .dataframe tbody tr th {\n",
       "        vertical-align: top;\n",
       "    }\n",
       "\n",
       "    .dataframe thead th {\n",
       "        text-align: right;\n",
       "    }\n",
       "</style>\n",
       "<table border=\"1\" class=\"dataframe\">\n",
       "  <thead>\n",
       "    <tr style=\"text-align: right;\">\n",
       "      <th></th>\n",
       "      <th>0</th>\n",
       "      <th>1</th>\n",
       "      <th>2</th>\n",
       "      <th>3</th>\n",
       "      <th>4</th>\n",
       "      <th>5</th>\n",
       "      <th>6</th>\n",
       "      <th>7</th>\n",
       "      <th>8</th>\n",
       "      <th>9</th>\n",
       "      <th>10</th>\n",
       "    </tr>\n",
       "  </thead>\n",
       "  <tbody>\n",
       "    <tr>\n",
       "      <th>0</th>\n",
       "      <td>1000025</td>\n",
       "      <td>5</td>\n",
       "      <td>1</td>\n",
       "      <td>1</td>\n",
       "      <td>1</td>\n",
       "      <td>2</td>\n",
       "      <td>1.0</td>\n",
       "      <td>3</td>\n",
       "      <td>1</td>\n",
       "      <td>1</td>\n",
       "      <td>2</td>\n",
       "    </tr>\n",
       "    <tr>\n",
       "      <th>1</th>\n",
       "      <td>1002945</td>\n",
       "      <td>5</td>\n",
       "      <td>4</td>\n",
       "      <td>4</td>\n",
       "      <td>5</td>\n",
       "      <td>7</td>\n",
       "      <td>10.0</td>\n",
       "      <td>3</td>\n",
       "      <td>2</td>\n",
       "      <td>1</td>\n",
       "      <td>2</td>\n",
       "    </tr>\n",
       "    <tr>\n",
       "      <th>2</th>\n",
       "      <td>1015425</td>\n",
       "      <td>3</td>\n",
       "      <td>1</td>\n",
       "      <td>1</td>\n",
       "      <td>1</td>\n",
       "      <td>2</td>\n",
       "      <td>2.0</td>\n",
       "      <td>3</td>\n",
       "      <td>1</td>\n",
       "      <td>1</td>\n",
       "      <td>2</td>\n",
       "    </tr>\n",
       "    <tr>\n",
       "      <th>3</th>\n",
       "      <td>1016277</td>\n",
       "      <td>6</td>\n",
       "      <td>8</td>\n",
       "      <td>8</td>\n",
       "      <td>1</td>\n",
       "      <td>3</td>\n",
       "      <td>4.0</td>\n",
       "      <td>3</td>\n",
       "      <td>7</td>\n",
       "      <td>1</td>\n",
       "      <td>2</td>\n",
       "    </tr>\n",
       "    <tr>\n",
       "      <th>4</th>\n",
       "      <td>1017023</td>\n",
       "      <td>4</td>\n",
       "      <td>1</td>\n",
       "      <td>1</td>\n",
       "      <td>3</td>\n",
       "      <td>2</td>\n",
       "      <td>1.0</td>\n",
       "      <td>3</td>\n",
       "      <td>1</td>\n",
       "      <td>1</td>\n",
       "      <td>2</td>\n",
       "    </tr>\n",
       "  </tbody>\n",
       "</table>\n",
       "</div>"
      ],
      "text/plain": [
       "        0   1   2   3   4   5     6   7   8   9   10\n",
       "0  1000025   5   1   1   1   2   1.0   3   1   1   2\n",
       "1  1002945   5   4   4   5   7  10.0   3   2   1   2\n",
       "2  1015425   3   1   1   1   2   2.0   3   1   1   2\n",
       "3  1016277   6   8   8   1   3   4.0   3   7   1   2\n",
       "4  1017023   4   1   1   3   2   1.0   3   1   1   2"
      ]
     },
     "execution_count": 1,
     "metadata": {},
     "output_type": "execute_result"
    }
   ],
   "source": [
    "# SKlearn has a set of built-in datasets. The way to load these is given in the\n",
    "# scikit tutorial. In general, you will apply machnine learning techniques to\n",
    "# datasets that are not included. The skeleton code below takes you through the\n",
    "# process of importing an external data set in csv format.\n",
    "\n",
    "\n",
    "# 1.) first, download the breast cancer data set from here: https://archive.ics.uci.edu/m.l/datasets/Breast+Cancer+Wisconsin+(Diagnostic)\n",
    "# n.b. the data is in the file breast-cancer-wisconsin.data. If you want to view it in a \n",
    "# text editor/ excel, then you will need to rename the file as a .csv\n",
    "\n",
    "# 2.) import the data - make sure you understand what the options (header=None, na_values=['?']) are doing\n",
    "import pandas as pd #import the pandas library for data manipulation\n",
    "cancer_data = pd.read_csv(\"breast-cancer-wisconsin.data.csv\", header=None, na_values=['?'])\n",
    "\n",
    "# 3.) Display the first few lines of the dataset\n",
    "cancer_data.head()\n"
   ]
  },
  {
   "cell_type": "code",
   "execution_count": 26,
   "metadata": {},
   "outputs": [
    {
     "data": {
      "text/plain": [
       "1     4.417740\n",
       "2     3.134478\n",
       "3     3.207439\n",
       "4     2.806867\n",
       "5     3.216023\n",
       "6     3.544656\n",
       "7     3.437768\n",
       "8     2.866953\n",
       "9     1.589413\n",
       "10    2.689557\n",
       "dtype: float64"
      ]
     },
     "execution_count": 26,
     "metadata": {},
     "output_type": "execute_result"
    }
   ],
   "source": [
    "# 4.) generate summary statistics for the dataset\n",
    "# n.b. column 0 is a user id (uninformative), so we should ignore it from here\n",
    "\n",
    "cancer_data = cancer_data.loc[:,1:] # make sure you understand what this line is doing\n",
    "\n",
    "#calculate mean\n",
    "cancer_data.mean()"
   ]
  },
  {
   "cell_type": "code",
   "execution_count": 27,
   "metadata": {},
   "outputs": [
    {
     "data": {
      "text/plain": [
       "1     2.815741\n",
       "2     3.051459\n",
       "3     2.971913\n",
       "4     2.855379\n",
       "5     2.214300\n",
       "6     3.643857\n",
       "7     2.438364\n",
       "8     3.053634\n",
       "9     1.715078\n",
       "10    0.951273\n",
       "dtype: float64"
      ]
     },
     "execution_count": 27,
     "metadata": {},
     "output_type": "execute_result"
    }
   ],
   "source": [
    "# calculate standard deviation\n",
    "cancer_data.std()"
   ]
  },
  {
   "cell_type": "code",
   "execution_count": 28,
   "metadata": {},
   "outputs": [
    {
     "data": {
      "text/plain": [
       "<matplotlib.collections.PathCollection at 0x293eb403788>"
      ]
     },
     "execution_count": 28,
     "metadata": {},
     "output_type": "execute_result"
    },
    {
     "data": {
      "image/png": "[encoded data removed]",
      "text/plain": [
       "<Figure size 432x288 with 1 Axes>"
      ]
     },
     "metadata": {
      "needs_background": "light"
     },
     "output_type": "display_data"
    }
   ],
   "source": [
    "# 5.) Plot two of the feature variables\n",
    "# first, we need to import a plotting library\n",
    "import matplotlib.pyplot as plt\n",
    "plt.scatter(cancer_data.loc[:,1],cancer_data.loc[:,2])"
   ]
  },
  {
   "cell_type": "code",
   "execution_count": 29,
   "metadata": {},
   "outputs": [
    {
     "data": {
      "text/plain": [
       "<matplotlib.collections.PathCollection at 0x293eb453f08>"
      ]
     },
     "execution_count": 29,
     "metadata": {},
     "output_type": "execute_result"
    },
    {
     "data": {
      "image/png": "[encoded data removed]",
      "text/plain": [
       "<Figure size 432x288 with 1 Axes>"
      ]
     },
     "metadata": {
      "needs_background": "light"
     },
     "output_type": "display_data"
    }
   ],
   "source": [
    "plt.scatter(cancer_data.loc[:,7],cancer_data.loc[:,10])"
   ]
  },
  {
   "cell_type": "markdown",
   "metadata": {},
   "source": [
    "For the previous two plots, you should be able to explain, in words, what is being plotted. Which of the two plots is more useful, and why?\n",
    "\n",
    "### Use SKlearn to build a logistic regression model, then to train it"
   ]
  },
  {
   "cell_type": "code",
   "execution_count": 37,
   "metadata": {},
   "outputs": [],
   "source": [
    "import numpy as np\n",
    "\n",
    "#remove any rows with missing data\n",
    "cancer_data = cancer_data.dropna()\n",
    "\n",
    "# split the data set up into features (columns 1 to 9) and labels (column 10). Convert the data from a dataframe structure\n",
    "# into an array. Note that we have used a dataframe now as it is easier to manipulate a dataset. However, the sklearn library\n",
    "# requires inputs to be arrays.\n",
    "features = cancer_data.loc[:,:9].to_numpy()\n",
    "labels = cancer_data.loc[:,10].to_numpy()"
   ]
  },
  {
   "cell_type": "markdown",
   "metadata": {},
   "source": [
    "### Splitting data into testing and training\n",
    "In Machine Learning, we want to estimate whether our trained model is generalisable to new data. To do this, we typically split up our whole data set into a training set and a testing set (there is no fixed rule on the percentage of each set - whatever seems reasonable).\n",
    "\n",
    "For some algorithms, we may choose to divide the training set into two: a training set and a validation set. This occurs when we want to adjust some model parameters, and will be introduced later in the course.\n",
    "\n",
    "We note that splitting the data in this way may not be optimal - by luck, we might split the data in such a way that the model performs better than expected (for instance, if the test set happens to contain lots of easy examples to classify). A more rigorous approach is to use a method called *cross-validation*. In this method, we use a different sample to create a different training set and test set multiple times. This gives us a range of similar, but slightly different models, from which we can calculate confidence intervals on our predictions.\n",
    "\n",
    "Below, we divide the dataset into a 70% training set and a 30% test set, before training a logistic regression on the training set."
   ]
  },
  {
   "cell_type": "code",
   "execution_count": 39,
   "metadata": {},
   "outputs": [
    {
     "data": {
      "text/plain": [
       "LogisticRegression(C=1.0, class_weight=None, dual=False, fit_intercept=True,\n",
       "                   intercept_scaling=1, l1_ratio=None, max_iter=100,\n",
       "                   multi_class='auto', n_jobs=None, penalty='l2',\n",
       "                   random_state=0, solver='lbfgs', tol=0.0001, verbose=0,\n",
       "                   warm_start=False)"
      ]
     },
     "execution_count": 39,
     "metadata": {},
     "output_type": "execute_result"
    }
   ],
   "source": [
    "from sklearn.linear_model import LogisticRegression\n",
    "from sklearn.model_selection import train_test_split\n",
    "\n",
    "X_train, X_test, y_train, y_test = train_test_split(features, labels, test_size=0.3, random_state=42)\n",
    "\n",
    "clf = LogisticRegression(random_state = 0)\n",
    "clf.fit(X_train, y_train)"
   ]
  },
  {
   "cell_type": "markdown",
   "metadata": {},
   "source": [
    "Note the way that models are created and trained in sklearn. In all cases, a model is first created, and then fitted using the training data. Once the model has been trained, we can use it to make predictions, as below:"
   ]
  },
  {
   "cell_type": "code",
   "execution_count": 40,
   "metadata": {},
   "outputs": [
    {
     "data": {
      "text/plain": [
       "array([4, 4, 2, 2, 2, 2, 2, 2, 4, 2, 2, 2, 2, 2, 2, 4, 2, 4, 2, 4, 4, 2,\n",
       "       4, 2, 2, 2, 4, 4, 2, 2, 2, 4, 4, 4, 2, 2, 4, 2, 4, 4, 2, 4, 4, 2,\n",
       "       2, 4, 2, 4, 2, 4, 2, 2, 2, 4, 2, 4, 4, 2, 2, 4, 2, 2, 2, 4, 2, 2,\n",
       "       4, 4, 2, 2, 4, 2, 2, 2, 4, 4, 2, 2, 4, 4, 4, 4, 2, 4, 2, 4, 2, 2,\n",
       "       4, 2, 2, 4, 2, 2, 2, 2, 4, 4, 2, 2, 2, 2, 4, 2, 4, 2, 2, 2, 4, 2,\n",
       "       4, 4, 4, 2, 2, 2, 2, 2, 2, 2, 4, 4, 2, 2, 2, 2, 4, 2, 4, 2, 2, 2,\n",
       "       4, 4, 4, 2, 2, 2, 4, 2, 4, 2, 2, 2, 4, 2, 2, 2, 2, 2, 2, 2, 4, 2,\n",
       "       2, 2, 2, 2, 4, 2, 4, 2, 2, 2, 2, 2, 2, 2, 4, 4, 2, 2, 2, 4, 2, 2,\n",
       "       4, 2, 2, 2, 2, 2, 2, 2, 2, 4, 4, 2, 2, 2, 4, 2, 4, 2, 4, 4, 2, 2,\n",
       "       2, 2, 4, 4, 4, 2, 2], dtype=int64)"
      ]
     },
     "execution_count": 40,
     "metadata": {},
     "output_type": "execute_result"
    }
   ],
   "source": [
    "clf.predict(X_test)"
   ]
  },
  {
   "cell_type": "markdown",
   "metadata": {},
   "source": [
    "the predict step gives us the raw predictions, but we are really interested to know whether the prediction matches the actual labels, Y_test. We can summarise how well the predictions match reality using various metrics (including sensitivity, specificity, and f1 score). For now, we will use % correct (accuracy)"
   ]
  },
  {
   "cell_type": "code",
   "execution_count": 41,
   "metadata": {},
   "outputs": [
    {
     "data": {
      "text/plain": [
       "0.9560975609756097"
      ]
     },
     "execution_count": 41,
     "metadata": {},
     "output_type": "execute_result"
    }
   ],
   "source": [
    "from sklearn.metrics import accuracy_score\n",
    "y_pred = clf.predict(X_test)\n",
    "accuracy_score(y_test, y_pred)"
   ]
  },
  {
   "cell_type": "markdown",
   "metadata": {},
   "source": [
    "### Plot the testing performance of a logistic regression for different learning rates\n",
    "The standard logistic regression model in sklearn uses the *liblinear* solver to learn the model weights. This solver does not require a learning rate. In contrast, the stochastic gradient descent algorithm requires a learning rate. The learning rate tells the computer how much the model weights can change at each iteration of the algorithm. If the learning rate is too large, it can overshoot the true solution. If it is too small, then it takes a long time to converge to the solution.\n",
    "\n",
    "In this case, we set the algorithm to end when either there has been 1000 iterations (epochs), or if the error does not change by more than 1e-3 between iterations. The first condition is to prevent us waiting all day. The second condition is one way of determining that the algorithm has converged to a solution. This combination of end points means that in some cases, we might stop before the algorithm has finished converging to the solution.\n",
    "\n",
    "To examine this effect, edit the code sample below.\n"
   ]
  },
  {
   "cell_type": "code",
   "execution_count": null,
   "metadata": {},
   "outputs": [],
   "source": [
    "# fit logistic regression with different learning rates\n",
    "#  the parameter solver sets the method by which the likelihood is maximised - other choices include 'newton-cg' i.e. newton conjugate gradient descent\n",
    "from sklearn.linear_model import SGDClassifier\n",
    "\n",
    "#put FOR loop round this to change the learning rate.\n",
    "rate = 1\n",
    "clf = SGDClassifier(max_iter = 1000, tol = 1e-3, random_state=0, learning_rate='constant', eta0=rate)\n",
    "clf.fit(X, y)\n",
    "out = clf.predict(X)\n",
    "accuracy_score(y,out)"
   ]
  }
 ],
 "metadata": {
  "kernelspec": {
   "display_name": "Python 3",
   "language": "python",
   "name": "python3"
  },
  "language_info": {
   "codemirror_mode": {
    "name": "ipython",
    "version": 3
   },
   "file_extension": ".py",
   "mimetype": "text/x-python",
   "name": "python",
   "nbconvert_exporter": "python",
   "pygments_lexer": "ipython3",
   "version": "3.8.3"
  }
 },
 "nbformat": 4,
 "nbformat_minor": 2
}
