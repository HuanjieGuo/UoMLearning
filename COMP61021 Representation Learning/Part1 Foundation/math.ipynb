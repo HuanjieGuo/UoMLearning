{
 "cells": [
  {
   "cell_type": "markdown",
   "metadata": {},
   "source": [
    "# Mathematics Essential"
   ]
  },
  {
   "cell_type": "markdown",
   "metadata": {},
   "source": [
    "## Practicals"
   ]
  },
  {
   "cell_type": "code",
   "execution_count": 7,
   "metadata": {},
   "outputs": [],
   "source": [
    "import numpy as np\n",
    "from matplotlib import pyplot as plt\n",
    "from scipy import special\n",
    "\n",
    "%matplotlib inline"
   ]
  },
  {
   "cell_type": "code",
   "execution_count": 8,
   "metadata": {},
   "outputs": [
    {
     "name": "stdout",
     "output_type": "stream",
     "text": [
      "A:\n",
      " [[0.02855939 0.7888178  0.13170885 0.81801905 0.56779455]\n",
      " [0.14773418 0.25935135 0.12394424 0.24524809 0.49138658]\n",
      " [0.51599826 0.98483781 0.34754843 0.19837647 0.2109157 ]]\n",
      "B:\n",
      " [[0.68598374 0.74673437 0.83051048]\n",
      " [0.13913213 0.09727992 0.0776364 ]\n",
      " [0.28363493 0.05292163 0.49674764]\n",
      " [0.06757399 0.22427941 0.79239889]\n",
      " [0.28816205 0.44094645 0.11642889]]\n"
     ]
    }
   ],
   "source": [
    "A = np.random.rand(3, 5)\n",
    "print(f'A:\\n {A}')\n",
    "B = np.random.rand(5, 3)\n",
    "print(f'B:\\n {B}')"
   ]
  },
  {
   "cell_type": "markdown",
   "metadata": {},
   "source": [
    "### <span style=\"color:red\">=========== Assignment 1 ===========</span>"
   ]
  },
  {
   "cell_type": "code",
   "execution_count": 9,
   "metadata": {},
   "outputs": [
    {
     "name": "stdout",
     "output_type": "stream",
     "text": [
      "cov A:\n",
      " [[ 0.13539773  0.02819377  0.01627806]\n",
      " [ 0.02819377  0.02116586 -0.01134412]\n",
      " [ 0.01627806 -0.01134412  0.10534187]]\n",
      "cov B:\n",
      " [[ 0.00526618 -0.00217933  0.00899442  0.02697856 -0.00712085]\n",
      " [-0.00217933  0.00098653 -0.00202799 -0.010382    0.00175686]\n",
      " [ 0.00899442 -0.00202799  0.0492712   0.0617436  -0.03597954]\n",
      " [ 0.02697856 -0.010382    0.0617436   0.14544791 -0.04748318]\n",
      " [-0.00712085  0.00175686 -0.03597954 -0.04748318  0.02635783]]\n"
     ]
    }
   ],
   "source": [
    "# /(n-1)\n",
    "covA = np.cov(A)\n",
    "print(f'cov A:\\n {covA}')\n",
    "covB = np.cov(B)\n",
    "print(f'cov B:\\n {covB}')"
   ]
  },
  {
   "cell_type": "markdown",
   "metadata": {},
   "source": [
    "### <span style=\"color:red\">=========== End of Assignment 1 ===========</span>"
   ]
  },
  {
   "cell_type": "markdown",
   "metadata": {},
   "source": [
    "### <span style=\"color:red\">=========== Assignment 2 ===========</span> "
   ]
  },
  {
   "cell_type": "code",
   "execution_count": 10,
   "metadata": {
    "scrolled": false
   },
   "outputs": [
    {
     "name": "stdout",
     "output_type": "stream",
     "text": [
      "eig A:\n",
      " (array([0.01221654, 0.14644345, 0.10324548]), array([[ 0.24015884, -0.93050443, -0.27655965],\n",
      "       [-0.95768321, -0.1805526 , -0.22415092],\n",
      "       [-0.15863986, -0.31868836,  0.93448977]]))\n",
      "eig B:\n",
      " (array([ 2.00693767e-01,  5.56797108e-18,  2.66358877e-02,  3.37920303e-18,\n",
      "       -3.47401439e-18]), array([[ 0.14668897, -0.97103136,  0.18862782, -0.3305515 , -0.04882476],\n",
      "       [-0.05199275, -0.0329347 , -0.12911069, -0.29895004,  0.5925304 ],\n",
      "       [ 0.42491337, -0.07170603, -0.69957288,  0.50201895,  0.40494606],\n",
      "       [ 0.83204329,  0.221716  ,  0.4943153 ,  0.06781407,  0.10368568],\n",
      "       [-0.32082969,  0.04139654,  0.4626015 ,  0.73806694,  0.68687105]]))\n"
     ]
    }
   ],
   "source": [
    "eigA = np.linalg.eig(covA)\n",
    "print(f'eig A:\\n {eigA}')\n",
    "\n",
    "eigB = np.linalg.eig(covB)\n",
    "print(f'eig B:\\n {eigB}')"
   ]
  },
  {
   "cell_type": "markdown",
   "metadata": {},
   "source": [
    "### <span style=\"color:red\">=========== End of Assignment 2 ===========</span>"
   ]
  },
  {
   "cell_type": "markdown",
   "metadata": {},
   "source": [
    "### <span style=\"color:red\">=========== Assignment 3 ===========</span>"
   ]
  },
  {
   "cell_type": "code",
   "execution_count": 11,
   "metadata": {},
   "outputs": [
    {
     "ename": "SyntaxError",
     "evalue": "invalid syntax (<ipython-input-11-0938eb09f843>, line 1)",
     "output_type": "error",
     "traceback": [
      "\u001b[0;36m  File \u001b[0;32m\"<ipython-input-11-0938eb09f843>\"\u001b[0;36m, line \u001b[0;32m1\u001b[0m\n\u001b[0;31m    X =\u001b[0m\n\u001b[0m        ^\u001b[0m\n\u001b[0;31mSyntaxError\u001b[0m\u001b[0;31m:\u001b[0m invalid syntax\n"
     ]
    }
   ],
   "source": [
    "X = "
   ]
  },
  {
   "cell_type": "markdown",
   "metadata": {},
   "source": [
    "### <span style=\"color:red\">=========== End of Assignment 3 ===========</span>"
   ]
  },
  {
   "cell_type": "markdown",
   "metadata": {},
   "source": [
    "### <span style=\"color:red\">=========== Assignment 4 ===========</span>"
   ]
  },
  {
   "cell_type": "code",
   "execution_count": 12,
   "metadata": {},
   "outputs": [
    {
     "name": "stdout",
     "output_type": "stream",
     "text": [
      "eig A:\n",
      " (array([[-0.70426491,  0.58860363,  0.39693412],\n",
      "       [-0.32458818,  0.23028825, -0.91739296],\n",
      "       [-0.63139009, -0.77492779,  0.02886985]]), array([1.72055911, 0.65872599, 0.29076619]), array([[-0.22891531, -0.73321277, -0.20483306, -0.45389878, -0.40251226],\n",
      "       [-0.5298558 , -0.36305172, -0.2478386 ,  0.58330672,  0.43101692],\n",
      "       [-0.37589414,  0.35634718, -0.17674738,  0.36262091, -0.75431208],\n",
      "       [-0.00833615, -0.3222738 ,  0.87071212,  0.31137403, -0.20242709],\n",
      "       [-0.72490325,  0.31583028,  0.32747551, -0.47463824,  0.20553551]]))\n",
      "eig B:\n",
      " (array([[-0.79009768,  0.31286799, -0.07522982, -0.07879261, -0.51574362],\n",
      "       [-0.10321451,  0.1195579 , -0.18714903,  0.96319908,  0.1107946 ],\n",
      "       [-0.31592733, -0.32566719, -0.75921178, -0.18996881,  0.4261926 ],\n",
      "       [-0.43990621, -0.69157494,  0.5366076 ,  0.12490266,  0.15702939],\n",
      "       [-0.26788967,  0.55089428,  0.30816468, -0.11979328,  0.71793782]]), array([1.64432268, 0.55178434, 0.21981154]), array([[-0.45786907, -0.50692002, -0.73033418],\n",
      "       [ 0.45470748,  0.57238647, -0.68235976],\n",
      "       [-0.76393522,  0.64451984,  0.03157773]]))\n"
     ]
    }
   ],
   "source": [
    "svdA = np.linalg.svd(A)\n",
    "print(f'eig A:\\n {svdA}')\n",
    "svdB = np.linalg.svd(B)\n",
    "print(f'eig B:\\n {svdB}')"
   ]
  },
  {
   "cell_type": "markdown",
   "metadata": {},
   "source": [
    "### <span style=\"color:red\">=========== End of Assignment 4 ===========</span>"
   ]
  },
  {
   "cell_type": "markdown",
   "metadata": {},
   "source": [
    "### <span style=\"color:red\">=========== Assignment 5 ===========</span>"
   ]
  },
  {
   "cell_type": "code",
   "execution_count": null,
   "metadata": {},
   "outputs": [],
   "source": []
  },
  {
   "cell_type": "markdown",
   "metadata": {},
   "source": [
    "### <span style=\"color:red\">=========== End of Assignment 5 ===========</span>"
   ]
  },
  {
   "cell_type": "markdown",
   "metadata": {},
   "source": [
    "## Mathematics"
   ]
  },
  {
   "cell_type": "markdown",
   "metadata": {},
   "source": [
    "### <span style=\"color:red\">=========== Assignment 6 ===========</span>\n",
    "\n"
   ]
  },
  {
   "cell_type": "markdown",
   "metadata": {},
   "source": [
    "[Answer]"
   ]
  },
  {
   "cell_type": "markdown",
   "metadata": {},
   "source": [
    "### <span style=\"color:red\">=========== End of Assignment 6 ===========</span>\n"
   ]
  },
  {
   "cell_type": "markdown",
   "metadata": {},
   "source": [
    "### <span style=\"color:red\">=========== Assignment 7 ===========</span>"
   ]
  },
  {
   "cell_type": "markdown",
   "metadata": {},
   "source": [
    "[Answer]"
   ]
  },
  {
   "cell_type": "markdown",
   "metadata": {},
   "source": [
    "### <span style=\"color:red\">=========== End of Assignment 7 ===========</span>"
   ]
  },
  {
   "cell_type": "markdown",
   "metadata": {},
   "source": [
    "### <span style=\"color:red\">=========== Assignment 8 ===========</span>"
   ]
  },
  {
   "cell_type": "markdown",
   "metadata": {},
   "source": [
    "[Answer]"
   ]
  },
  {
   "cell_type": "markdown",
   "metadata": {},
   "source": [
    "### <span style=\"color:red\">=========== End of Assignment 8 ===========</span>"
   ]
  },
  {
   "cell_type": "markdown",
   "metadata": {},
   "source": [
    "### <span style=\"color:red\">=========== Assignment 9 ===========</span>"
   ]
  },
  {
   "cell_type": "markdown",
   "metadata": {},
   "source": [
    "[Answer]"
   ]
  },
  {
   "cell_type": "markdown",
   "metadata": {},
   "source": [
    "### <span style=\"color:red\">=========== End of Assignment 9 ===========</span>"
   ]
  }
 ],
 "metadata": {
  "kernelspec": {
   "display_name": "Python 3",
   "language": "python",
   "name": "python3"
  },
  "language_info": {
   "codemirror_mode": {
    "name": "ipython",
    "version": 3
   },
   "file_extension": ".py",
   "mimetype": "text/x-python",
   "name": "python",
   "nbconvert_exporter": "python",
   "pygments_lexer": "ipython3",
   "version": "3.8.3"
  }
 },
 "nbformat": 4,
 "nbformat_minor": 2
}
